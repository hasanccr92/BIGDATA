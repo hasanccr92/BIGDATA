{
  "cells": [
    {
      "cell_type": "markdown",
      "id": "31fb556c",
      "metadata": {
        "id": "31fb556c",
        "papermill": {
          "duration": 0.006066,
          "end_time": "2025-03-09T13:38:13.896728",
          "exception": false,
          "start_time": "2025-03-09T13:38:13.890662",
          "status": "completed"
        },
        "tags": []
      },
      "source": [
        "# **Activity 2: Classification and Clustering**"
      ]
    },
    {
      "cell_type": "markdown",
      "source": [
        "**Importing necessary libraries**"
      ],
      "metadata": {
        "id": "UlVjMkRXrH_q"
      },
      "id": "UlVjMkRXrH_q"
    },
    {
      "cell_type": "code",
      "execution_count": null,
      "id": "c9cd8df8",
      "metadata": {
        "execution": {
          "iopub.execute_input": "2025-03-09T13:38:13.908990Z",
          "iopub.status.busy": "2025-03-09T13:38:13.908583Z",
          "iopub.status.idle": "2025-03-09T13:38:14.808140Z",
          "shell.execute_reply": "2025-03-09T13:38:14.807303Z"
        },
        "id": "c9cd8df8",
        "papermill": {
          "duration": 0.907678,
          "end_time": "2025-03-09T13:38:14.809877",
          "exception": false,
          "start_time": "2025-03-09T13:38:13.902199",
          "status": "completed"
        },
        "tags": []
      },
      "outputs": [],
      "source": [
        "import os, time\n",
        "import numpy as np, pandas as pd\n",
        "import matplotlib.pyplot as plt, seaborn as sns\n",
        "from sklearn.datasets import load_digits\n",
        "from sklearn.model_selection import train_test_split, GridSearchCV, StratifiedKFold\n",
        "from sklearn.ensemble import RandomForestClassifier\n",
        "from sklearn.metrics import (accuracy_score, precision_score, recall_score, f1_score,\n",
        "                             confusion_matrix, classification_report, cohen_kappa_score)\n",
        "from tensorflow import keras\n",
        "from pyspark.sql import SparkSession\n",
        "from pyspark.ml.classification import LogisticRegression\n",
        "from pyspark.ml.linalg import Vectors\n",
        "from pyspark.ml.evaluation import MulticlassClassificationEvaluator"
      ]
    },
    {
      "cell_type": "markdown",
      "id": "767f79ed",
      "metadata": {
        "id": "767f79ed",
        "papermill": {
          "duration": 0.004948,
          "end_time": "2025-03-09T13:38:14.820368",
          "exception": false,
          "start_time": "2025-03-09T13:38:14.815420",
          "status": "completed"
        },
        "tags": []
      },
      "source": [
        "**Week 1 Assignment**"
      ]
    },
    {
      "cell_type": "markdown",
      "id": "e035ea1f",
      "metadata": {
        "id": "e035ea1f",
        "papermill": {
          "duration": 0.004917,
          "end_time": "2025-03-09T13:38:14.830549",
          "exception": false,
          "start_time": "2025-03-09T13:38:14.825632",
          "status": "completed"
        },
        "tags": []
      },
      "source": [
        "**Downloading the two datasets**"
      ]
    },
    {
      "cell_type": "code",
      "execution_count": null,
      "id": "aa5c1efb",
      "metadata": {
        "execution": {
          "iopub.execute_input": "2025-03-09T13:38:14.842342Z",
          "iopub.status.busy": "2025-03-09T13:38:14.841809Z",
          "iopub.status.idle": "2025-03-09T13:38:16.338473Z",
          "shell.execute_reply": "2025-03-09T13:38:16.337616Z"
        },
        "id": "aa5c1efb",
        "papermill": {
          "duration": 1.504577,
          "end_time": "2025-03-09T13:38:16.340290",
          "exception": false,
          "start_time": "2025-03-09T13:38:14.835713",
          "status": "completed"
        },
        "tags": []
      },
      "outputs": [],
      "source": [
        "digits = load_digits()\n",
        "x_digits, y_digits = digits['data'], digits['target']"
      ]
    },
    {
      "cell_type": "code",
      "execution_count": null,
      "id": "63dc13bc",
      "metadata": {
        "execution": {
          "iopub.execute_input": "2025-03-09T13:38:16.352089Z",
          "iopub.status.busy": "2025-03-09T13:38:16.351570Z",
          "iopub.status.idle": "2025-03-09T13:38:32.099613Z",
          "shell.execute_reply": "2025-03-09T13:38:32.098671Z"
        },
        "id": "63dc13bc",
        "outputId": "0d5d9c99-2e1e-4a5e-86bd-f61a4aa6cf9b",
        "papermill": {
          "duration": 15.755694,
          "end_time": "2025-03-09T13:38:32.101340",
          "exception": false,
          "start_time": "2025-03-09T13:38:16.345646",
          "status": "completed"
        },
        "tags": []
      },
      "outputs": [
        {
          "name": "stdout",
          "output_type": "stream",
          "text": [
            "Downloading data from https://storage.googleapis.com/tensorflow/tf-keras-datasets/mnist.npz\n",
            "\u001b[1m11490434/11490434\u001b[0m \u001b[32m━━━━━━━━━━━━━━━━━━━━\u001b[0m\u001b[37m\u001b[0m \u001b[1m1s\u001b[0m 0us/step\n"
          ]
        }
      ],
      "source": [
        "#MNIST dataset\n",
        "(x_train_mnist, y_train_mnist), (x_test_mnist, y_test_mnist) = keras.datasets.mnist.load_data()"
      ]
    },
    {
      "cell_type": "markdown",
      "id": "86685788",
      "metadata": {
        "id": "86685788",
        "papermill": {
          "duration": 0.005859,
          "end_time": "2025-03-09T13:38:32.113629",
          "exception": false,
          "start_time": "2025-03-09T13:38:32.107770",
          "status": "completed"
        },
        "tags": []
      },
      "source": [
        "**Flattening MNIST**"
      ]
    },
    {
      "cell_type": "code",
      "execution_count": null,
      "id": "db57aa2c",
      "metadata": {
        "execution": {
          "iopub.execute_input": "2025-03-09T13:38:32.127589Z",
          "iopub.status.busy": "2025-03-09T13:38:32.126933Z",
          "iopub.status.idle": "2025-03-09T13:38:32.133101Z",
          "shell.execute_reply": "2025-03-09T13:38:32.131908Z"
        },
        "id": "db57aa2c",
        "outputId": "8199e3e4-c8bb-40a1-d05c-eaf7031f2f25",
        "papermill": {
          "duration": 0.014768,
          "end_time": "2025-03-09T13:38:32.134575",
          "exception": false,
          "start_time": "2025-03-09T13:38:32.119807",
          "status": "completed"
        },
        "tags": []
      },
      "outputs": [
        {
          "name": "stdout",
          "output_type": "stream",
          "text": [
            "x_train_mnist_flattened shape: (60000, 784)\n",
            "y_train_mnist shape: (60000,)\n"
          ]
        }
      ],
      "source": [
        "# Flatten MNIST\n",
        "x_train_mnist_flattened = x_train_mnist.reshape(x_train_mnist.shape[0], -1)\n",
        "x_test_mnist_flattened = x_test_mnist.reshape(x_test_mnist.shape[0], -1)\n",
        "\n",
        "#shapes\n",
        "print(\"x_train_mnist_flattened shape:\", x_train_mnist_flattened.shape)\n",
        "print(\"y_train_mnist shape:\", y_train_mnist.shape)"
      ]
    },
    {
      "cell_type": "markdown",
      "id": "12b746fe",
      "metadata": {
        "id": "12b746fe",
        "papermill": {
          "duration": 0.005802,
          "end_time": "2025-03-09T13:38:32.146566",
          "exception": false,
          "start_time": "2025-03-09T13:38:32.140764",
          "status": "completed"
        },
        "tags": []
      },
      "source": [
        "**Splitting the training datasets in 85% for training and 15% for validation. MNIST is already split. So splitting only digits dataset.**\n"
      ]
    },
    {
      "cell_type": "code",
      "execution_count": null,
      "id": "1e5a9fcc",
      "metadata": {
        "execution": {
          "iopub.execute_input": "2025-03-09T13:38:32.159810Z",
          "iopub.status.busy": "2025-03-09T13:38:32.159433Z",
          "iopub.status.idle": "2025-03-09T13:38:32.269664Z",
          "shell.execute_reply": "2025-03-09T13:38:32.268797Z"
        },
        "id": "1e5a9fcc",
        "outputId": "dcc9e180-23cf-4374-b2bc-61d08819187c",
        "papermill": {
          "duration": 0.118458,
          "end_time": "2025-03-09T13:38:32.271050",
          "exception": false,
          "start_time": "2025-03-09T13:38:32.152592",
          "status": "completed"
        },
        "tags": []
      },
      "outputs": [
        {
          "name": "stdout",
          "output_type": "stream",
          "text": [
            "Digits - Training data shape: (1527, 64)\n",
            "Digits - Test data shape: (270, 64)\n"
          ]
        }
      ],
      "source": [
        "#85/15 split of digit\n",
        "x_train_digits, x_test_digits, y_train_digits, y_test_digits = train_test_split(\n",
        "    x_digits, y_digits, test_size=0.15, random_state=42\n",
        ")\n",
        "\n",
        "print(\"Digits - Training data shape:\", x_train_digits.shape)\n",
        "print(\"Digits - Test data shape:\", x_test_digits.shape)"
      ]
    },
    {
      "cell_type": "markdown",
      "id": "2352bce0",
      "metadata": {
        "papermill": {
          "duration": 0.00576,
          "end_time": "2025-03-09T13:38:32.282969",
          "exception": false,
          "start_time": "2025-03-09T13:38:32.277209",
          "status": "completed"
        },
        "tags": [],
        "id": "2352bce0"
      },
      "source": [
        "# Training"
      ]
    },
    {
      "cell_type": "markdown",
      "id": "b8e40c22",
      "metadata": {
        "papermill": {
          "duration": 0.005826,
          "end_time": "2025-03-09T13:38:32.294902",
          "exception": false,
          "start_time": "2025-03-09T13:38:32.289076",
          "status": "completed"
        },
        "tags": [],
        "id": "b8e40c22"
      },
      "source": [
        "**Training Random Forest on MNIST and digits dataset (scikit-learn)**"
      ]
    },
    {
      "cell_type": "code",
      "execution_count": null,
      "id": "5a47992c",
      "metadata": {
        "execution": {
          "iopub.execute_input": "2025-03-09T13:38:32.308195Z",
          "iopub.status.busy": "2025-03-09T13:38:32.307877Z",
          "iopub.status.idle": "2025-03-09T13:39:16.419129Z",
          "shell.execute_reply": "2025-03-09T13:39:16.418341Z"
        },
        "id": "5a47992c",
        "papermill": {
          "duration": 44.119971,
          "end_time": "2025-03-09T13:39:16.420923",
          "exception": false,
          "start_time": "2025-03-09T13:38:32.300952",
          "status": "completed"
        },
        "tags": []
      },
      "outputs": [],
      "source": [
        "#RF on MNIST training\n",
        "start_train = time.time()\n",
        "rf_mnist = RandomForestClassifier(random_state=42)\n",
        "rf_mnist.fit(x_train_mnist_flattened, y_train_mnist)\n",
        "end_train = time.time()\n",
        "train_time_mnist = end_train - start_train\n",
        "\n",
        "#RF on Digits training\n",
        "start_train = time.time()\n",
        "rf_digits = RandomForestClassifier(random_state=42)\n",
        "rf_digits.fit(x_train_digits, y_train_digits)\n",
        "end_train = time.time()\n",
        "train_time_digits = end_train - start_train"
      ]
    },
    {
      "cell_type": "markdown",
      "id": "0087e058",
      "metadata": {
        "papermill": {
          "duration": 0.006003,
          "end_time": "2025-03-09T13:39:16.433556",
          "exception": false,
          "start_time": "2025-03-09T13:39:16.427553",
          "status": "completed"
        },
        "tags": [],
        "id": "0087e058"
      },
      "source": [
        "**Training Logistic Regression on MNIST and digits dataset (pyspark)**"
      ]
    },
    {
      "cell_type": "code",
      "execution_count": null,
      "id": "9424200a",
      "metadata": {
        "execution": {
          "iopub.execute_input": "2025-03-09T13:39:16.447082Z",
          "iopub.status.busy": "2025-03-09T13:39:16.446730Z",
          "iopub.status.idle": "2025-03-09T13:40:37.528031Z",
          "shell.execute_reply": "2025-03-09T13:40:37.526796Z"
        },
        "id": "9424200a",
        "papermill": {
          "duration": 81.090542,
          "end_time": "2025-03-09T13:40:37.530198",
          "exception": false,
          "start_time": "2025-03-09T13:39:16.439656",
          "status": "completed"
        },
        "tags": []
      },
      "outputs": [],
      "source": [
        "#Initialize Spark session\n",
        "spark = SparkSession.builder \\\n",
        "    .appName(\"MNIST_Digits\") \\\n",
        "    .config(\"spark.executor.memory\", \"4g\") \\\n",
        "    .config(\"spark.driver.memory\", \"4g\") \\\n",
        "    .config(\"spark.executor.cores\", \"4\") \\\n",
        "    .config(\"spark.sql.shuffle.partitions\", \"64\") \\\n",
        "    .getOrCreate()\n",
        "\n",
        "#MNIST training data to Spark DataFrame\n",
        "train_data_mnist = spark.createDataFrame([\n",
        "    (int(y), Vectors.dense(x)) for x, y in zip(x_train_mnist_flattened, y_train_mnist)\n",
        "], [\"label\", \"features\"])\n",
        "\n",
        "# Convert MNIST test data to Spark DataFrame\n",
        "test_data_mnist = spark.createDataFrame([\n",
        "    (int(y), Vectors.dense(x)) for x, y in zip(x_test_mnist_flattened, y_test_mnist)\n",
        "], [\"label\", \"features\"])\n",
        "\n",
        "\n",
        "#digits training data to Spark DataFrame\n",
        "train_data_digits = spark.createDataFrame([\n",
        "    (int(y), Vectors.dense(x)) for x, y in zip(x_train_digits, y_train_digits)\n",
        "], [\"label\", \"features\"])\n",
        "\n",
        "#digits test data to Spark DataFrame\n",
        "test_data_digits = spark.createDataFrame([\n",
        "    (int(y), Vectors.dense(x)) for x, y in zip(x_test_digits, y_test_digits)\n",
        "], [\"label\", \"features\"])\n",
        "\n",
        "# Train Logistic Regression on MNIST\n",
        "start_train = time.time()\n",
        "lr_mnist = LogisticRegression(maxIter=10, regParam=0.01)\n",
        "lr_model_mnist = lr_mnist.fit(train_data_mnist)\n",
        "end_train = time.time()\n",
        "train_time_mnist_spark = end_train - start_train\n",
        "\n",
        "# Train Logistic Regression on digits\n",
        "start_train = time.time()\n",
        "lr_digits = LogisticRegression(maxIter=10, regParam=0.01)\n",
        "lr_model_digits = lr_digits.fit(train_data_digits)\n",
        "end_train = time.time()\n",
        "train_time_digits_spark = end_train - start_train"
      ]
    },
    {
      "cell_type": "markdown",
      "id": "e85f374b",
      "metadata": {
        "papermill": {
          "duration": 0.006174,
          "end_time": "2025-03-09T13:40:37.543215",
          "exception": false,
          "start_time": "2025-03-09T13:40:37.537041",
          "status": "completed"
        },
        "tags": [],
        "id": "e85f374b"
      },
      "source": [
        "# Executing models for test data and showing output"
      ]
    },
    {
      "cell_type": "markdown",
      "id": "8b2d664c",
      "metadata": {
        "papermill": {
          "duration": 0.006036,
          "end_time": "2025-03-09T13:40:37.555901",
          "exception": false,
          "start_time": "2025-03-09T13:40:37.549865",
          "status": "completed"
        },
        "tags": [],
        "id": "8b2d664c"
      },
      "source": [
        "**For random forest (scikit-learn)**"
      ]
    },
    {
      "cell_type": "code",
      "execution_count": null,
      "id": "c222ea69",
      "metadata": {
        "execution": {
          "iopub.execute_input": "2025-03-09T13:40:37.569996Z",
          "iopub.status.busy": "2025-03-09T13:40:37.569627Z",
          "iopub.status.idle": "2025-03-09T13:40:38.610582Z",
          "shell.execute_reply": "2025-03-09T13:40:38.609342Z"
        },
        "papermill": {
          "duration": 1.050781,
          "end_time": "2025-03-09T13:40:38.612911",
          "exception": false,
          "start_time": "2025-03-09T13:40:37.562130",
          "status": "completed"
        },
        "tags": [],
        "id": "c222ea69",
        "outputId": "bacd74f7-5b3d-4410-9435-50eb12d5b7e9"
      },
      "outputs": [
        {
          "name": "stdout",
          "output_type": "stream",
          "text": [
            "----- Scikit-learn Random Forest Evaluation -----\n",
            "\n",
            "Evaluating Scikit-learn Random Forest for MNIST...\n",
            "Training time: 43.3497 seconds\n",
            "Prediction time: 0.4446 seconds\n",
            "\n",
            "Basic Classification Metrics:\n",
            "Accuracy: 0.9705\n",
            "Precision: 0.9705\n",
            "Recall: 0.9705\n",
            "F1 Score: 0.9705\n",
            "Cohen's Kappa: 0.9672\n",
            "\n",
            "Classification Report:\n",
            "              precision    recall  f1-score   support\n",
            "\n",
            "           0       0.97      0.99      0.98       980\n",
            "           1       0.99      0.99      0.99      1135\n",
            "           2       0.96      0.97      0.97      1032\n",
            "           3       0.96      0.96      0.96      1010\n",
            "           4       0.97      0.97      0.97       982\n",
            "           5       0.98      0.96      0.97       892\n",
            "           6       0.98      0.98      0.98       958\n",
            "           7       0.97      0.96      0.97      1028\n",
            "           8       0.96      0.95      0.96       974\n",
            "           9       0.96      0.95      0.96      1009\n",
            "\n",
            "    accuracy                           0.97     10000\n",
            "   macro avg       0.97      0.97      0.97     10000\n",
            "weighted avg       0.97      0.97      0.97     10000\n",
            "\n",
            "\n",
            "Confusion Matrix\n",
            "[[ 971    0    0    0    0    2    3    1    3    0]\n",
            " [   0 1127    2    2    0    1    2    0    1    0]\n",
            " [   6    0 1002    5    3    0    3    8    5    0]\n",
            " [   1    0    9  972    0    9    0    9    8    2]\n",
            " [   1    0    0    0  955    0    5    1    4   16]\n",
            " [   5    1    1    9    2  860    5    2    5    2]\n",
            " [   7    3    0    0    3    3  937    0    5    0]\n",
            " [   1    4   20    2    0    0    0  990    2    9]\n",
            " [   4    0    6    7    5    5    5    4  930    8]\n",
            " [   7    6    2   12   12    1    0    4    4  961]]\n",
            "\n",
            "Evaluating Scikit-learn Random Forest for Digits...\n",
            "Training time: 0.3653 seconds\n",
            "Prediction time: 0.0110 seconds\n",
            "\n",
            "Basic Classification Metrics:\n",
            "Accuracy: 0.9704\n",
            "Precision: 0.9715\n",
            "Recall: 0.9704\n",
            "F1 Score: 0.9702\n",
            "Cohen's Kappa: 0.9669\n",
            "\n",
            "Classification Report:\n",
            "              precision    recall  f1-score   support\n",
            "\n",
            "           0       1.00      0.96      0.98        23\n",
            "           1       0.90      1.00      0.95        18\n",
            "           2       1.00      1.00      1.00        26\n",
            "           3       0.96      1.00      0.98        24\n",
            "           4       0.97      1.00      0.99        37\n",
            "           5       0.94      1.00      0.97        33\n",
            "           6       1.00      0.97      0.98        30\n",
            "           7       0.96      0.96      0.96        26\n",
            "           8       1.00      0.89      0.94        19\n",
            "           9       0.97      0.91      0.94        34\n",
            "\n",
            "    accuracy                           0.97       270\n",
            "   macro avg       0.97      0.97      0.97       270\n",
            "weighted avg       0.97      0.97      0.97       270\n",
            "\n",
            "\n",
            "Confusion Matrix\n",
            "[[22  0  0  0  1  0  0  0  0  0]\n",
            " [ 0 18  0  0  0  0  0  0  0  0]\n",
            " [ 0  0 26  0  0  0  0  0  0  0]\n",
            " [ 0  0  0 24  0  0  0  0  0  0]\n",
            " [ 0  0  0  0 37  0  0  0  0  0]\n",
            " [ 0  0  0  0  0 33  0  0  0  0]\n",
            " [ 0  0  0  0  0  1 29  0  0  0]\n",
            " [ 0  0  0  0  0  0  0 25  0  1]\n",
            " [ 0  2  0  0  0  0  0  0 17  0]\n",
            " [ 0  0  0  1  0  1  0  1  0 31]]\n"
          ]
        }
      ],
      "source": [
        "# Scikit-learn Random Forest Evaluation for both datasets\n",
        "\n",
        "print(\"----- Scikit-learn Random Forest Evaluation -----\\n\")\n",
        "\n",
        "#Evaluate RF for MNIST\n",
        "print(\"Evaluating Scikit-learn Random Forest for MNIST...\")\n",
        "start_pred = time.time()\n",
        "y_pred_mnist_rf = rf_mnist.predict(x_test_mnist_flattened)\n",
        "end_pred = time.time()\n",
        "pred_time_mnist_rf = end_pred - start_pred\n",
        "print(f\"Training time: {train_time_mnist:.4f} seconds\")\n",
        "print(f\"Prediction time: {pred_time_mnist_rf:.4f} seconds\")\n",
        "\n",
        "#metrics for RF MNIST\n",
        "accuracy_mnist_rf = accuracy_score(y_test_mnist, y_pred_mnist_rf)\n",
        "precision_mnist_rf = precision_score(y_test_mnist, y_pred_mnist_rf, average='weighted')\n",
        "recall_mnist_rf = recall_score(y_test_mnist, y_pred_mnist_rf, average='weighted')\n",
        "f1_mnist_rf = f1_score(y_test_mnist, y_pred_mnist_rf, average='weighted')\n",
        "kappa_mnist_rf = cohen_kappa_score(y_test_mnist, y_pred_mnist_rf)\n",
        "\n",
        "print(\"\\nBasic Classification Metrics:\")\n",
        "print(f\"Accuracy: {accuracy_mnist_rf:.4f}\")\n",
        "print(f\"Precision: {precision_mnist_rf:.4f}\")\n",
        "print(f\"Recall: {recall_mnist_rf:.4f}\")\n",
        "print(f\"F1 Score: {f1_mnist_rf:.4f}\")\n",
        "print(f\"Cohen's Kappa: {kappa_mnist_rf:.4f}\")\n",
        "\n",
        "print(\"\\nClassification Report:\")\n",
        "print(classification_report(y_test_mnist, y_pred_mnist_rf))\n",
        "\n",
        "# Confusion Matrix for Scikit-learn RF MNIST\n",
        "cm_mnist_rf = confusion_matrix(y_test_mnist, y_pred_mnist_rf)\n",
        "print(\"\\nConfusion Matrix\")\n",
        "print(cm_mnist_rf)\n",
        "# plt.figure(figsize=(10, 8))\n",
        "# sns.heatmap(cm_mnist_rf, annot=True, fmt=\"d\", cmap=\"Blues\", xticklabels=range(10), yticklabels=range(10))\n",
        "# plt.title('Confusion Matrix - MNIST Random Forest (Scikit-learn)')\n",
        "# plt.ylabel('True Label')\n",
        "# plt.xlabel('Predicted Label')\n",
        "# plt.tight_layout()\n",
        "# plt.show()\n",
        "\n",
        "#Evaluate RF for Digits\n",
        "print(\"\\nEvaluating Scikit-learn Random Forest for Digits...\")\n",
        "start_pred = time.time()\n",
        "y_pred_digits_rf = rf_digits.predict(x_test_digits)\n",
        "end_pred = time.time()\n",
        "pred_time_digits_rf = end_pred - start_pred\n",
        "print(f\"Training time: {train_time_digits:.4f} seconds\")\n",
        "print(f\"Prediction time: {pred_time_digits_rf:.4f} seconds\")\n",
        "\n",
        "#metrics for RF Digits\n",
        "accuracy_digits_rf = accuracy_score(y_test_digits, y_pred_digits_rf)\n",
        "precision_digits_rf = precision_score(y_test_digits, y_pred_digits_rf, average='weighted')\n",
        "recall_digits_rf = recall_score(y_test_digits, y_pred_digits_rf, average='weighted')\n",
        "f1_digits_rf = f1_score(y_test_digits, y_pred_digits_rf, average='weighted')\n",
        "kappa_digits_rf = cohen_kappa_score(y_test_digits, y_pred_digits_rf)\n",
        "\n",
        "print(\"\\nBasic Classification Metrics:\")\n",
        "print(f\"Accuracy: {accuracy_digits_rf:.4f}\")\n",
        "print(f\"Precision: {precision_digits_rf:.4f}\")\n",
        "print(f\"Recall: {recall_digits_rf:.4f}\")\n",
        "print(f\"F1 Score: {f1_digits_rf:.4f}\")\n",
        "print(f\"Cohen's Kappa: {kappa_digits_rf:.4f}\")\n",
        "\n",
        "print(\"\\nClassification Report:\")\n",
        "print(classification_report(y_test_digits, y_pred_digits_rf))\n",
        "\n",
        "# Confusion Matrix for Scikit-learn RF Digits\n",
        "cm_digits_rf = confusion_matrix(y_test_digits, y_pred_digits_rf)\n",
        "print(\"\\nConfusion Matrix\")\n",
        "print(cm_digits_rf)\n",
        "# plt.figure(figsize=(10, 8))\n",
        "# sns.heatmap(cm_digits_rf, annot=True, fmt=\"d\", cmap=\"Blues\", xticklabels=range(10), yticklabels=range(10))\n",
        "# plt.title('Confusion Matrix - Digits Random Forest (Scikit-learn)')\n",
        "# plt.ylabel('True Label')\n",
        "# plt.xlabel('Predicted Label')\n",
        "# plt.tight_layout()\n",
        "# plt.show()\n",
        "\n",
        "# Save metrics for later comparison\n",
        "rf_metrics = {\n",
        "    'mnist': {\n",
        "        'accuracy': accuracy_mnist_rf,\n",
        "        'precision': precision_mnist_rf,\n",
        "        'recall': recall_mnist_rf,\n",
        "        'f1': f1_mnist_rf,\n",
        "        'kappa': kappa_mnist_rf,\n",
        "        'pred_time': pred_time_mnist_rf,\n",
        "        'train_time': train_time_mnist\n",
        "    },\n",
        "    'digits': {\n",
        "        'accuracy': accuracy_digits_rf,\n",
        "        'precision': precision_digits_rf,\n",
        "        'recall': recall_digits_rf,\n",
        "        'f1': f1_digits_rf,\n",
        "        'kappa': kappa_digits_rf,\n",
        "        'pred_time': pred_time_digits_rf,\n",
        "        'train_time': train_time_digits\n",
        "    }\n",
        "}"
      ]
    },
    {
      "cell_type": "markdown",
      "id": "aeccd3ca",
      "metadata": {
        "papermill": {
          "duration": 0.007707,
          "end_time": "2025-03-09T13:40:38.628041",
          "exception": false,
          "start_time": "2025-03-09T13:40:38.620334",
          "status": "completed"
        },
        "tags": [],
        "id": "aeccd3ca"
      },
      "source": [
        "**For logistic regression (pyspark)**"
      ]
    },
    {
      "cell_type": "code",
      "execution_count": null,
      "id": "8aa0425b",
      "metadata": {
        "execution": {
          "iopub.execute_input": "2025-03-09T13:40:38.643359Z",
          "iopub.status.busy": "2025-03-09T13:40:38.642725Z",
          "iopub.status.idle": "2025-03-09T13:40:53.216045Z",
          "shell.execute_reply": "2025-03-09T13:40:53.215021Z"
        },
        "papermill": {
          "duration": 14.58258,
          "end_time": "2025-03-09T13:40:53.217922",
          "exception": false,
          "start_time": "2025-03-09T13:40:38.635342",
          "status": "completed"
        },
        "tags": [],
        "id": "8aa0425b",
        "outputId": "2fc4e89f-eb51-4443-b3dd-f19d9f141241"
      },
      "outputs": [
        {
          "name": "stdout",
          "output_type": "stream",
          "text": [
            "----- PySpark Logistic Regression Evaluation -----\n",
            "\n",
            "Evaluating PySpark Logistic Regression for MNIST...\n",
            "Training time: 42.1273 seconds\n",
            "Prediction time: 0.0719 seconds\n",
            "\n",
            "Basic Classification Metrics:\n",
            "Accuracy: 0.9181\n",
            "Precision: 0.9179\n",
            "Recall: 0.9181\n",
            "F1 Score: 0.9177\n",
            "Cohen's Kappa: 0.9090\n",
            "\n",
            "Classification Report:\n",
            "              precision    recall  f1-score   support\n",
            "\n",
            "           0       0.94      0.98      0.96       980\n",
            "           1       0.94      0.97      0.96      1135\n",
            "           2       0.94      0.89      0.91      1032\n",
            "           3       0.91      0.91      0.91      1010\n",
            "           4       0.91      0.94      0.92       982\n",
            "           5       0.90      0.85      0.88       892\n",
            "           6       0.92      0.96      0.94       958\n",
            "           7       0.92      0.92      0.92      1028\n",
            "           8       0.89      0.86      0.87       974\n",
            "           9       0.90      0.90      0.90      1009\n",
            "\n",
            "    accuracy                           0.92     10000\n",
            "   macro avg       0.92      0.92      0.92     10000\n",
            "weighted avg       0.92      0.92      0.92     10000\n",
            "\n",
            "\n",
            "Confusion Matrix\n",
            "[[ 956    0    0    1    0    7   11    3    2    0]\n",
            " [   0 1106    2    2    1    1    4    2   17    0]\n",
            " [   9   12  915   16   10    3   14   14   33    6]\n",
            " [   3    3   18  917    3   23    3   14   16   10]\n",
            " [   2    5    4    0  919    1   13    3    4   31]\n",
            " [   9    4    1   36   13  762   19   12   29    7]\n",
            " [  12    4    5    1    7   10  915    2    2    0]\n",
            " [   3   17   21    6    5    0    1  944    0   31]\n",
            " [  12   16    8   18   14   29   11   13  840   13]\n",
            " [  14    8    1   11   35    7    0   20    6  907]]\n",
            "\n",
            "Evaluating PySpark Logistic Regression for Digits...\n",
            "Training time: 1.7928 seconds\n",
            "Prediction time: 0.0986 seconds\n",
            "\n",
            "Basic Classification Metrics:\n",
            "Accuracy: 0.9556\n",
            "Precision: 0.9571\n",
            "Recall: 0.9556\n",
            "F1 Score: 0.9557\n",
            "Cohen's Kappa: 0.9503\n",
            "\n",
            "Classification Report:\n",
            "              precision    recall  f1-score   support\n",
            "\n",
            "           0       1.00      1.00      1.00        23\n",
            "           1       0.94      0.94      0.94        18\n",
            "           2       0.93      1.00      0.96        26\n",
            "           3       1.00      0.88      0.93        24\n",
            "           4       0.97      0.97      0.97        37\n",
            "           5       0.91      0.94      0.93        33\n",
            "           6       1.00      0.97      0.98        30\n",
            "           7       1.00      0.96      0.98        26\n",
            "           8       0.90      0.95      0.92        19\n",
            "           9       0.91      0.94      0.93        34\n",
            "\n",
            "    accuracy                           0.96       270\n",
            "   macro avg       0.96      0.95      0.96       270\n",
            "weighted avg       0.96      0.96      0.96       270\n",
            "\n",
            "\n",
            "Confusion Matrix\n",
            "[[23  0  0  0  0  0  0  0  0  0]\n",
            " [ 0 17  1  0  0  0  0  0  0  0]\n",
            " [ 0  0 26  0  0  0  0  0  0  0]\n",
            " [ 0  0  1 21  0  1  0  0  1  0]\n",
            " [ 0  1  0  0 36  0  0  0  0  0]\n",
            " [ 0  0  0  0  0 31  0  0  0  2]\n",
            " [ 0  0  0  0  1  0 29  0  0  0]\n",
            " [ 0  0  0  0  0  0  0 25  0  1]\n",
            " [ 0  0  0  0  0  1  0  0 18  0]\n",
            " [ 0  0  0  0  0  1  0  0  1 32]]\n"
          ]
        }
      ],
      "source": [
        "print(\"----- PySpark Logistic Regression Evaluation -----\\n\")\n",
        "\n",
        "#PySpark LR for MNIST\n",
        "print(\"Evaluating PySpark Logistic Regression for MNIST...\")\n",
        "start_pred = time.time()\n",
        "predictions_mnist = lr_model_mnist.transform(test_data_mnist)\n",
        "end_pred = time.time()\n",
        "pred_time_mnist_spark = end_pred - start_pred\n",
        "print(f\"Training time: {train_time_mnist_spark:.4f} seconds\")\n",
        "print(f\"Prediction time: {pred_time_mnist_spark:.4f} seconds\")\n",
        "\n",
        "#metrics for PySpark LR MNIST\n",
        "pred_df_mnist = predictions_mnist.select(\"label\", \"prediction\").toPandas()\n",
        "y_true_mnist = pred_df_mnist[\"label\"].values\n",
        "y_pred_mnist = pred_df_mnist[\"prediction\"].values\n",
        "\n",
        "# PySpark evaluator for basic metrics\n",
        "evaluator = MulticlassClassificationEvaluator()\n",
        "accuracy_mnist_spark = evaluator.evaluate(predictions_mnist, {evaluator.metricName: \"accuracy\"})\n",
        "precision_mnist_spark = evaluator.evaluate(predictions_mnist, {evaluator.metricName: \"weightedPrecision\"})\n",
        "recall_mnist_spark = evaluator.evaluate(predictions_mnist, {evaluator.metricName: \"weightedRecall\"})\n",
        "f1_mnist_spark = evaluator.evaluate(predictions_mnist, {evaluator.metricName: \"f1\"})\n",
        "kappa_mnist_spark = cohen_kappa_score(y_true_mnist, y_pred_mnist)\n",
        "\n",
        "print(\"\\nBasic Classification Metrics:\")\n",
        "print(f\"Accuracy: {accuracy_mnist_spark:.4f}\")\n",
        "print(f\"Precision: {precision_mnist_spark:.4f}\")\n",
        "print(f\"Recall: {recall_mnist_spark:.4f}\")\n",
        "print(f\"F1 Score: {f1_mnist_spark:.4f}\")\n",
        "print(f\"Cohen's Kappa: {kappa_mnist_spark:.4f}\")\n",
        "\n",
        "print(\"\\nClassification Report:\")\n",
        "print(classification_report(y_true_mnist, y_pred_mnist))\n",
        "\n",
        "cm_mnist_spark = confusion_matrix(y_true_mnist, y_pred_mnist)\n",
        "print(\"\\nConfusion Matrix\")\n",
        "print(cm_mnist_spark)\n",
        "# plt.figure(figsize=(10, 8))\n",
        "# sns.heatmap(cm_mnist_spark, annot=True, fmt=\"d\", cmap=\"Blues\", xticklabels=range(10), yticklabels=range(10))\n",
        "# plt.title('Confusion Matrix - MNIST Logistic Regression (PySpark)')\n",
        "# plt.ylabel('True Label')\n",
        "# plt.xlabel('Predicted Label')\n",
        "# plt.tight_layout()\n",
        "# plt.show()\n",
        "\n",
        "#Evaluate PySpark LR for Digits\n",
        "print(\"\\nEvaluating PySpark Logistic Regression for Digits...\")\n",
        "start_pred = time.time()\n",
        "predictions_digits = lr_model_digits.transform(test_data_digits)\n",
        "end_pred = time.time()\n",
        "pred_time_digits_spark = end_pred - start_pred\n",
        "print(f\"Training time: {train_time_digits_spark:.4f} seconds\")\n",
        "print(f\"Prediction time: {pred_time_digits_spark:.4f} seconds\")\n",
        "\n",
        "#metrics for PySpark LR Digits\n",
        "pred_df_digits = predictions_digits.select(\"label\", \"prediction\").toPandas()\n",
        "y_true_digits = pred_df_digits[\"label\"].values\n",
        "y_pred_digits = pred_df_digits[\"prediction\"].values\n",
        "\n",
        "accuracy_digits_spark = evaluator.evaluate(predictions_digits, {evaluator.metricName: \"accuracy\"})\n",
        "precision_digits_spark = evaluator.evaluate(predictions_digits, {evaluator.metricName: \"weightedPrecision\"})\n",
        "recall_digits_spark = evaluator.evaluate(predictions_digits, {evaluator.metricName: \"weightedRecall\"})\n",
        "f1_digits_spark = evaluator.evaluate(predictions_digits, {evaluator.metricName: \"f1\"})\n",
        "kappa_digits_spark = cohen_kappa_score(y_true_digits, y_pred_digits)\n",
        "\n",
        "# Print metrics for PySpark LR Digits\n",
        "print(\"\\nBasic Classification Metrics:\")\n",
        "print(f\"Accuracy: {accuracy_digits_spark:.4f}\")\n",
        "print(f\"Precision: {precision_digits_spark:.4f}\")\n",
        "print(f\"Recall: {recall_digits_spark:.4f}\")\n",
        "print(f\"F1 Score: {f1_digits_spark:.4f}\")\n",
        "print(f\"Cohen's Kappa: {kappa_digits_spark:.4f}\")\n",
        "\n",
        "print(\"\\nClassification Report:\")\n",
        "print(classification_report(y_true_digits, y_pred_digits))\n",
        "\n",
        "# Confusion Matrix for PySpark LR Digits\n",
        "cm_digits_spark = confusion_matrix(y_true_digits, y_pred_digits)\n",
        "print(\"\\nConfusion Matrix\")\n",
        "print(cm_digits_spark)\n",
        "# plt.figure(figsize=(10, 8))\n",
        "# sns.heatmap(cm_digits_spark, annot=True, fmt=\"d\", cmap=\"Blues\", xticklabels=range(10), yticklabels=range(10))\n",
        "# plt.title('Confusion Matrix - Digits Logistic Regression (PySpark)')\n",
        "# plt.ylabel('True Label')\n",
        "# plt.xlabel('Predicted Label')\n",
        "# plt.tight_layout()\n",
        "# plt.show()\n",
        "\n",
        "# Save metrics for later comparison\n",
        "spark_metrics = {\n",
        "    'mnist': {\n",
        "        'accuracy': accuracy_mnist_spark,\n",
        "        'precision': precision_mnist_spark,\n",
        "        'recall': recall_mnist_spark,\n",
        "        'f1': f1_mnist_spark,\n",
        "        'kappa': kappa_mnist_spark,\n",
        "        'pred_time': pred_time_mnist_spark,\n",
        "        'train_time': train_time_mnist_spark\n",
        "    },\n",
        "    'digits': {\n",
        "        'accuracy': accuracy_digits_spark,\n",
        "        'precision': precision_digits_spark,\n",
        "        'recall': recall_digits_spark,\n",
        "        'f1': f1_digits_spark,\n",
        "        'kappa': kappa_digits_spark,\n",
        "        'pred_time': pred_time_digits_spark,\n",
        "        'train_time': train_time_digits_spark\n",
        "    }\n",
        "}\n",
        "\n",
        "spark.stop()"
      ]
    },
    {
      "cell_type": "markdown",
      "id": "9228fd31",
      "metadata": {
        "papermill": {
          "duration": 0.006674,
          "end_time": "2025-03-09T13:40:53.231908",
          "exception": false,
          "start_time": "2025-03-09T13:40:53.225234",
          "status": "completed"
        },
        "tags": [],
        "id": "9228fd31"
      },
      "source": [
        "# Evaluation and Comparison of all the models with classification metrics"
      ]
    },
    {
      "cell_type": "code",
      "execution_count": null,
      "id": "ed3a9f31",
      "metadata": {
        "execution": {
          "iopub.execute_input": "2025-03-09T13:40:53.246962Z",
          "iopub.status.busy": "2025-03-09T13:40:53.246617Z",
          "iopub.status.idle": "2025-03-09T13:40:53.270626Z",
          "shell.execute_reply": "2025-03-09T13:40:53.269329Z"
        },
        "papermill": {
          "duration": 0.033546,
          "end_time": "2025-03-09T13:40:53.272285",
          "exception": false,
          "start_time": "2025-03-09T13:40:53.238739",
          "status": "completed"
        },
        "tags": [],
        "id": "ed3a9f31",
        "outputId": "40124f1f-047e-4624-ff24-97e58d8bf5fc"
      },
      "outputs": [
        {
          "name": "stdout",
          "output_type": "stream",
          "text": [
            "----- Overall Model Comparison -----\n",
            "\n",
            "  Dataset            Model  Accuracy  Precision    Recall        F1     Kappa  \\\n",
            "0   MNIST       PySpark LR  0.918100   0.917884  0.918100  0.917728  0.908958   \n",
            "1   MNIST  Scikit-learn RF  0.970500   0.970496  0.970500  0.970472  0.967209   \n",
            "2  Digits       PySpark LR  0.955556   0.957099  0.955556  0.955670  0.950333   \n",
            "3  Digits  Scikit-learn RF  0.970370   0.971549  0.970370  0.970234  0.966891   \n",
            "\n",
            "   Train Time  Pred Time  \n",
            "0   42.127262   0.071903  \n",
            "1   43.349715   0.444631  \n",
            "2    1.792782   0.098609  \n",
            "3    0.365317   0.011049  \n",
            "\n",
            "Summary:\n",
            "- Best accuracy achieved by MNIST RF with 0.9705\n",
            "- Fastest prediction time achieved by Digits RF with 0.0110 seconds\n",
            "\n",
            "On MNIST dataset:\n",
            "- Random Forest outperforms Logistic Regression by 0.0524 in accuracy\n",
            "\n",
            "On Digits dataset:\n",
            "- Random Forest outperforms Logistic Regression by 0.0148 in accuracy\n"
          ]
        }
      ],
      "source": [
        "# Overall Comparison df\n",
        "print(\"----- Overall Model Comparison -----\\n\")\n",
        "\n",
        "#metrics data\n",
        "data = [\n",
        "    {\n",
        "        \"Dataset\": \"MNIST\",\n",
        "        \"Model\": \"PySpark LR\",\n",
        "        \"Accuracy\": spark_metrics['mnist']['accuracy'],\n",
        "        \"Precision\": spark_metrics['mnist']['precision'],\n",
        "        \"Recall\": spark_metrics['mnist']['recall'],\n",
        "        \"F1\": spark_metrics['mnist']['f1'],\n",
        "        \"Kappa\": spark_metrics['mnist']['kappa'],\n",
        "        \"Train Time\": spark_metrics['mnist']['train_time'],\n",
        "        \"Pred Time\": spark_metrics['mnist']['pred_time']\n",
        "    },\n",
        "    {\n",
        "        \"Dataset\": \"MNIST\",\n",
        "        \"Model\": \"Scikit-learn RF\",\n",
        "        \"Accuracy\": rf_metrics['mnist']['accuracy'],\n",
        "        \"Precision\": rf_metrics['mnist']['precision'],\n",
        "        \"Recall\": rf_metrics['mnist']['recall'],\n",
        "        \"F1\": rf_metrics['mnist']['f1'],\n",
        "        \"Kappa\": rf_metrics['mnist']['kappa'],\n",
        "        \"Train Time\": rf_metrics['mnist']['train_time'],\n",
        "        \"Pred Time\": rf_metrics['mnist']['pred_time']\n",
        "    },\n",
        "    {\n",
        "        \"Dataset\": \"Digits\",\n",
        "        \"Model\": \"PySpark LR\",\n",
        "        \"Accuracy\": spark_metrics['digits']['accuracy'],\n",
        "        \"Precision\": spark_metrics['digits']['precision'],\n",
        "        \"Recall\": spark_metrics['digits']['recall'],\n",
        "        \"F1\": spark_metrics['digits']['f1'],\n",
        "        \"Kappa\": spark_metrics['digits']['kappa'],\n",
        "        \"Train Time\": spark_metrics['digits']['train_time'],\n",
        "        \"Pred Time\": spark_metrics['digits']['pred_time']\n",
        "    },\n",
        "    {\n",
        "        \"Dataset\": \"Digits\",\n",
        "        \"Model\": \"Scikit-learn RF\",\n",
        "        \"Accuracy\": rf_metrics['digits']['accuracy'],\n",
        "        \"Precision\": rf_metrics['digits']['precision'],\n",
        "        \"Recall\": rf_metrics['digits']['recall'],\n",
        "        \"F1\": rf_metrics['digits']['f1'],\n",
        "        \"Kappa\": rf_metrics['digits']['kappa'],\n",
        "        \"Train Time\": rf_metrics['digits']['train_time'],\n",
        "        \"Pred Time\": rf_metrics['digits']['pred_time']\n",
        "    }\n",
        "]\n",
        "\n",
        "df = pd.DataFrame(data)\n",
        "print(df)\n",
        "\n",
        "\n",
        "print(\"\\nSummary:\")\n",
        "best_accuracy_model = max([\n",
        "    (\"MNIST LR\", spark_metrics['mnist']['accuracy']),\n",
        "    (\"MNIST RF\", rf_metrics['mnist']['accuracy']),\n",
        "    (\"Digits LR\", spark_metrics['digits']['accuracy']),\n",
        "    (\"Digits RF\", rf_metrics['digits']['accuracy'])\n",
        "], key=lambda x: x[1])\n",
        "\n",
        "fastest_model = min([\n",
        "    (\"MNIST LR\", spark_metrics['mnist']['pred_time']),\n",
        "    (\"MNIST RF\", rf_metrics['mnist']['pred_time']),\n",
        "    (\"Digits LR\", spark_metrics['digits']['pred_time']),\n",
        "    (\"Digits RF\", rf_metrics['digits']['pred_time'])\n",
        "], key=lambda x: x[1])\n",
        "\n",
        "print(f\"- Best accuracy achieved by {best_accuracy_model[0]} with {best_accuracy_model[1]:.4f}\")\n",
        "print(f\"- Fastest prediction time achieved by {fastest_model[0]} with {fastest_model[1]:.4f} seconds\")\n",
        "\n",
        "# MNIST dataset comparison\n",
        "print(\"\\nOn MNIST dataset:\")\n",
        "if spark_metrics['mnist']['accuracy'] > rf_metrics['mnist']['accuracy']:\n",
        "    diff = spark_metrics['mnist']['accuracy'] - rf_metrics['mnist']['accuracy']\n",
        "    print(f\"- Logistic Regression outperforms Random Forest by {diff:.4f} in accuracy\")\n",
        "else:\n",
        "    diff = rf_metrics['mnist']['accuracy'] - spark_metrics['mnist']['accuracy']\n",
        "    print(f\"- Random Forest outperforms Logistic Regression by {diff:.4f} in accuracy\")\n",
        "\n",
        "# Digits dataset comparison\n",
        "print(\"\\nOn Digits dataset:\")\n",
        "if spark_metrics['digits']['accuracy'] > rf_metrics['digits']['accuracy']:\n",
        "    diff = spark_metrics['digits']['accuracy'] - rf_metrics['digits']['accuracy']\n",
        "    print(f\"- Logistic Regression outperforms Random Forest by {diff:.4f} in accuracy\")\n",
        "else:\n",
        "    diff = rf_metrics['digits']['accuracy'] - spark_metrics['digits']['accuracy']\n",
        "    print(f\"- Random Forest outperforms Logistic Regression by {diff:.4f} in accuracy\")"
      ]
    },
    {
      "cell_type": "markdown",
      "id": "aa64af49",
      "metadata": {
        "papermill": {
          "duration": 0.006584,
          "end_time": "2025-03-09T13:40:53.286034",
          "exception": false,
          "start_time": "2025-03-09T13:40:53.279450",
          "status": "completed"
        },
        "tags": [],
        "id": "aa64af49"
      },
      "source": [
        "# Optional- Fine tuning hyper parameters (only for scikit-learn)"
      ]
    },
    {
      "cell_type": "code",
      "execution_count": null,
      "id": "8721f851",
      "metadata": {
        "execution": {
          "iopub.execute_input": "2025-03-09T13:40:53.322434Z",
          "iopub.status.busy": "2025-03-09T13:40:53.322056Z",
          "iopub.status.idle": "2025-03-09T13:40:53.326135Z",
          "shell.execute_reply": "2025-03-09T13:40:53.325341Z"
        },
        "id": "8721f851",
        "papermill": {
          "duration": 0.01339,
          "end_time": "2025-03-09T13:40:53.327714",
          "exception": false,
          "start_time": "2025-03-09T13:40:53.314324",
          "status": "completed"
        },
        "tags": []
      },
      "outputs": [],
      "source": [
        "param_grid_rf = {\n",
        "    'n_estimators': [100, 200],\n",
        "    'max_depth': [None, 10, 20],\n",
        "    'max_features': ['sqrt', 'log2'],\n",
        "}"
      ]
    },
    {
      "cell_type": "code",
      "execution_count": null,
      "id": "2ab98761",
      "metadata": {
        "execution": {
          "iopub.execute_input": "2025-03-09T13:40:53.342288Z",
          "iopub.status.busy": "2025-03-09T13:40:53.341973Z",
          "iopub.status.idle": "2025-03-09T14:10:30.622829Z",
          "shell.execute_reply": "2025-03-09T14:10:30.621360Z"
        },
        "id": "2ab98761",
        "outputId": "06da1761-c8ec-4949-a420-a38b25ec8ff6",
        "papermill": {
          "duration": 1777.289933,
          "end_time": "2025-03-09T14:10:30.624482",
          "exception": false,
          "start_time": "2025-03-09T13:40:53.334549",
          "status": "completed"
        },
        "tags": []
      },
      "outputs": [
        {
          "name": "stdout",
          "output_type": "stream",
          "text": [
            "Fitting 10 folds for each of 12 candidates, totalling 120 fits\n"
          ]
        },
        {
          "name": "stderr",
          "output_type": "stream",
          "text": [
            "/usr/local/lib/python3.10/dist-packages/joblib/externals/loky/process_executor.py:752: UserWarning: A worker stopped while some jobs were given to the executor. This can be caused by a too short worker timeout or by a memory leak.\n",
            "  warnings.warn(\n"
          ]
        },
        {
          "name": "stdout",
          "output_type": "stream",
          "text": [
            "-------------For MNIST Dataset--------------\n",
            "Random Forest - Best Parameters: {'max_depth': None, 'max_features': 'sqrt', 'n_estimators': 200}\n",
            "Random Forest - Best Cross-Validation Accuracy: 0.9693166666666666\n",
            "Random Forest - Test Accuracy: 0.9707\n",
            "Random Forest - Classification Report:\n",
            "              precision    recall  f1-score   support\n",
            "\n",
            "           0       0.97      0.99      0.98       980\n",
            "           1       0.99      0.99      0.99      1135\n",
            "           2       0.96      0.97      0.97      1032\n",
            "           3       0.96      0.96      0.96      1010\n",
            "           4       0.98      0.97      0.98       982\n",
            "           5       0.97      0.96      0.97       892\n",
            "           6       0.98      0.98      0.98       958\n",
            "           7       0.97      0.97      0.97      1028\n",
            "           8       0.96      0.95      0.96       974\n",
            "           9       0.96      0.95      0.96      1009\n",
            "\n",
            "    accuracy                           0.97     10000\n",
            "   macro avg       0.97      0.97      0.97     10000\n",
            "weighted avg       0.97      0.97      0.97     10000\n",
            "\n",
            "Fitting 10 folds for each of 12 candidates, totalling 120 fits\n",
            "-------------For Digits Dataset--------------\n",
            "Random Forest (Digits) - Best Parameters: {'max_depth': None, 'max_features': 'log2', 'n_estimators': 200}\n",
            "Random Forest (Digits) - Best Cross-Validation Accuracy: 0.9790720674234606\n",
            "Random Forest (Digits) - Test Accuracy: 0.9703703703703703\n",
            "Random Forest (Digits) - Classification Report:\n",
            "              precision    recall  f1-score   support\n",
            "\n",
            "           0       1.00      0.96      0.98        23\n",
            "           1       0.90      1.00      0.95        18\n",
            "           2       1.00      1.00      1.00        26\n",
            "           3       1.00      0.96      0.98        24\n",
            "           4       0.97      1.00      0.99        37\n",
            "           5       0.92      1.00      0.96        33\n",
            "           6       1.00      0.97      0.98        30\n",
            "           7       0.96      0.96      0.96        26\n",
            "           8       1.00      0.89      0.94        19\n",
            "           9       0.97      0.94      0.96        34\n",
            "\n",
            "    accuracy                           0.97       270\n",
            "   macro avg       0.97      0.97      0.97       270\n",
            "weighted avg       0.97      0.97      0.97       270\n",
            "\n"
          ]
        }
      ],
      "source": [
        "rf = RandomForestClassifier(random_state=42)\n",
        "\n",
        "#GridSearchCV with 10-fold cross-validation\n",
        "grid_search_rf = GridSearchCV(\n",
        "    estimator=rf,\n",
        "    param_grid=param_grid_rf,\n",
        "    cv=StratifiedKFold(n_splits=10, shuffle=True, random_state=42),\n",
        "    scoring='accuracy',\n",
        "    n_jobs=-1,\n",
        "    verbose=2\n",
        ")\n",
        "\n",
        "\n",
        "# Fit GridSearchCV on MNIST training data\n",
        "grid_search_rf.fit(x_train_mnist_flattened, y_train_mnist)\n",
        "print(\"-------------For MNIST Dataset--------------\")\n",
        "# Best parameters and cross-validation score\n",
        "print(\"Random Forest - Best Parameters:\", grid_search_rf.best_params_)\n",
        "print(\"Random Forest - Best Cross-Validation Accuracy:\", grid_search_rf.best_score_)\n",
        "\n",
        "# Evaluate on MNIST test data\n",
        "y_test_pred_rf = grid_search_rf.predict(x_test_mnist_flattened)\n",
        "print(\"Random Forest - Test Accuracy:\", accuracy_score(y_test_mnist, y_test_pred_rf))\n",
        "print(\"Random Forest - Classification Report:\")\n",
        "print(classification_report(y_test_mnist, y_test_pred_rf))\n",
        "\n",
        "#Now on the digits dataset\n",
        "grid_search_rf_digits = GridSearchCV(\n",
        "    estimator=rf,\n",
        "    param_grid=param_grid_rf,\n",
        "    cv=StratifiedKFold(n_splits=10, shuffle=True, random_state=42),\n",
        "    scoring='accuracy',\n",
        "    n_jobs=-1,\n",
        "    verbose=2\n",
        ")\n",
        "\n",
        "# Fit GridSearchCV on digits training data\n",
        "grid_search_rf_digits.fit(x_train_digits, y_train_digits)\n",
        "print(\"-------------For Digits Dataset--------------\")\n",
        "# Best parameters and cross-validation score for digits dataset\n",
        "print(\"Random Forest (Digits) - Best Parameters:\", grid_search_rf_digits.best_params_)\n",
        "print(\"Random Forest (Digits) - Best Cross-Validation Accuracy:\", grid_search_rf_digits.best_score_)\n",
        "\n",
        "# Evaluate on digits test data\n",
        "y_test_pred_rf_digits = grid_search_rf_digits.predict(x_test_digits)\n",
        "print(\"Random Forest (Digits) - Test Accuracy:\", accuracy_score(y_test_digits, y_test_pred_rf_digits))\n",
        "print(\"Random Forest (Digits) - Classification Report:\")\n",
        "print(classification_report(y_test_digits, y_test_pred_rf_digits))"
      ]
    },
    {
      "cell_type": "code",
      "execution_count": null,
      "id": "f7af8844",
      "metadata": {
        "id": "f7af8844",
        "papermill": {
          "duration": 0.007172,
          "end_time": "2025-03-09T14:10:30.639468",
          "exception": false,
          "start_time": "2025-03-09T14:10:30.632296",
          "status": "completed"
        },
        "tags": []
      },
      "outputs": [],
      "source": []
    }
  ],
  "metadata": {
    "colab": {
      "provenance": []
    },
    "kaggle": {
      "accelerator": "none",
      "dataSources": [],
      "dockerImageVersionId": 30918,
      "isGpuEnabled": false,
      "isInternetEnabled": true,
      "language": "python",
      "sourceType": "notebook"
    },
    "kernelspec": {
      "display_name": "Python 3",
      "language": "python",
      "name": "python3"
    },
    "language_info": {
      "codemirror_mode": {
        "name": "ipython",
        "version": 3
      },
      "file_extension": ".py",
      "mimetype": "text/x-python",
      "name": "python",
      "nbconvert_exporter": "python",
      "pygments_lexer": "ipython3",
      "version": "3.10.12"
    },
    "papermill": {
      "default_parameters": {},
      "duration": 1941.98876,
      "end_time": "2025-03-09T14:10:33.123978",
      "environment_variables": {},
      "exception": null,
      "input_path": "__notebook__.ipynb",
      "output_path": "__notebook__.ipynb",
      "parameters": {},
      "start_time": "2025-03-09T13:38:11.135218",
      "version": "2.6.0"
    }
  },
  "nbformat": 4,
  "nbformat_minor": 5
}