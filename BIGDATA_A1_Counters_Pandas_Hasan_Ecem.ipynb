{
  "cells": [
    {
      "cell_type": "markdown",
      "metadata": {
        "id": "k9V-T8SKNZhI"
      },
      "source": [
        "Downloading the trial records from OldBailey using the API"
      ]
    },
    {
      "cell_type": "code",
      "execution_count": null,
      "metadata": {
        "colab": {
          "base_uri": "https://localhost:8080/"
        },
        "id": "pIe1UpBi8zRx",
        "outputId": "17657f5a-88c6-4fd8-f433-ace9839963c0"
      },
      "outputs": [
        {
          "output_type": "stream",
          "name": "stdout",
          "text": [
            "Fetching trial record IDs...\n",
            "Downloading record 1: t16740429-1\n",
            "Successfully saved: /content/oldbailey/t16740429-1.xml\n",
            "Downloading record 2: t16740429-2\n",
            "Successfully saved: /content/oldbailey/t16740429-2.xml\n",
            "Downloading record 3: t16740429-3\n",
            "Successfully saved: /content/oldbailey/t16740429-3.xml\n",
            "Downloading record 4: t16740429-4\n",
            "Successfully saved: /content/oldbailey/t16740429-4.xml\n",
            "Downloading record 5: t16740429-5\n",
            "Successfully saved: /content/oldbailey/t16740429-5.xml\n",
            "Downloading record 6: t16740429-6\n",
            "Successfully saved: /content/oldbailey/t16740429-6.xml\n",
            "Downloading record 7: t16740429-7\n",
            "Successfully saved: /content/oldbailey/t16740429-7.xml\n",
            "Downloading record 8: t16740429-8\n",
            "Successfully saved: /content/oldbailey/t16740429-8.xml\n",
            "Downloading record 9: t16740429-9\n",
            "Successfully saved: /content/oldbailey/t16740429-9.xml\n",
            "Downloading record 10: t16740717-1\n",
            "Successfully saved: /content/oldbailey/t16740717-1.xml\n",
            "Downloading record 11: t16740717-2\n",
            "Successfully saved: /content/oldbailey/t16740717-2.xml\n",
            "Downloading record 12: t16740717-3\n",
            "Successfully saved: /content/oldbailey/t16740717-3.xml\n",
            "Downloading record 13: t16740717-4\n",
            "Successfully saved: /content/oldbailey/t16740717-4.xml\n",
            "Downloading record 14: t16740717-5\n",
            "Successfully saved: /content/oldbailey/t16740717-5.xml\n",
            "Downloading record 15: t16740717-6\n",
            "Successfully saved: /content/oldbailey/t16740717-6.xml\n",
            "Downloading record 16: t16740909-1\n",
            "Successfully saved: /content/oldbailey/t16740909-1.xml\n",
            "Downloading record 17: t16740909-2\n",
            "Successfully saved: /content/oldbailey/t16740909-2.xml\n",
            "Downloading record 18: t16740909-3\n",
            "Successfully saved: /content/oldbailey/t16740909-3.xml\n",
            "Downloading record 19: t16740909-4\n",
            "Successfully saved: /content/oldbailey/t16740909-4.xml\n",
            "Downloading record 20: t16740909-5\n",
            "Successfully saved: /content/oldbailey/t16740909-5.xml\n",
            "Downloading record 21: t16740909-6\n",
            "Successfully saved: /content/oldbailey/t16740909-6.xml\n",
            "Downloading record 22: t16741014-1\n",
            "Successfully saved: /content/oldbailey/t16741014-1.xml\n",
            "Downloading record 23: t16741014-2\n",
            "Successfully saved: /content/oldbailey/t16741014-2.xml\n",
            "Downloading record 24: t16741014-3\n",
            "Successfully saved: /content/oldbailey/t16741014-3.xml\n",
            "Downloading record 25: t16741014-4\n",
            "Successfully saved: /content/oldbailey/t16741014-4.xml\n",
            "Downloading record 26: t16741014-5\n",
            "Successfully saved: /content/oldbailey/t16741014-5.xml\n",
            "Downloading record 27: t16741014-6\n",
            "Successfully saved: /content/oldbailey/t16741014-6.xml\n",
            "Downloading record 28: t16741014-7\n",
            "Successfully saved: /content/oldbailey/t16741014-7.xml\n",
            "Downloading record 29: t16741014-8\n",
            "Successfully saved: /content/oldbailey/t16741014-8.xml\n",
            "Downloading record 30: t16741212-1\n",
            "Successfully saved: /content/oldbailey/t16741212-1.xml\n",
            "Downloading record 31: t16741212-2\n",
            "Successfully saved: /content/oldbailey/t16741212-2.xml\n",
            "Downloading record 32: t16741212-3\n",
            "Successfully saved: /content/oldbailey/t16741212-3.xml\n",
            "Downloading record 33: t16741212-4\n",
            "Successfully saved: /content/oldbailey/t16741212-4.xml\n",
            "Downloading record 34: t16741212-5\n",
            "Successfully saved: /content/oldbailey/t16741212-5.xml\n",
            "Downloading record 35: t16741212-6\n",
            "Successfully saved: /content/oldbailey/t16741212-6.xml\n",
            "Downloading record 36: t16741212-7\n",
            "Successfully saved: /content/oldbailey/t16741212-7.xml\n",
            "Downloading record 37: t16750115-1\n",
            "Successfully saved: /content/oldbailey/t16750115-1.xml\n",
            "Downloading record 38: t16750115-2\n",
            "Successfully saved: /content/oldbailey/t16750115-2.xml\n",
            "Downloading record 39: t16750115-3\n",
            "Successfully saved: /content/oldbailey/t16750115-3.xml\n",
            "Downloading record 40: t16750115-3\n",
            "Successfully saved: /content/oldbailey/t16750115-3.xml\n"
          ]
        }
      ],
      "source": [
        "import requests\n",
        "import os\n",
        "import time\n",
        "from google.colab import drive\n",
        "\n",
        "#store text files\n",
        "save_path = '/content/oldbailey'\n",
        "os.makedirs(save_path, exist_ok=True)\n",
        "\n",
        "# API endpoints\n",
        "SEARCH_API = \"https://www.dhi.ac.uk/api/data/oldbailey_record\"\n",
        "SINGLE_RECORD_API = \"https://www.dhi.ac.uk/api/data/oldbailey_record_single\"\n",
        "\n",
        "#parameters\n",
        "headers = {\n",
        "    'User-Agent': 'Mozilla/5.0 (Windows NT 10.0; Win64; x64) AppleWebKit/537.36 (KHTML, like Gecko) Chrome/58.0.3029.110 Safari/537.3',\n",
        "    'Accept': 'application/json'\n",
        "}\n",
        "\n",
        "def get_sample_ids(total_records=20):\n",
        "    \"\"\"Retrieve trial record IDs (starting with 't') from the API with pagination\"\"\"\n",
        "    print(\"Fetching trial record IDs...\")\n",
        "    all_ids = []\n",
        "    page_size = 10\n",
        "    current_from = 0\n",
        "\n",
        "    while len(all_ids) < total_records:\n",
        "        params = {\n",
        "            'size': page_size,\n",
        "            'from': current_from,\n",
        "            'text': '*'\n",
        "        }\n",
        "\n",
        "        response = requests.get(SEARCH_API, params=params, headers=headers)\n",
        "\n",
        "        if response.status_code != 200:\n",
        "            print(f\"Error fetching IDs: {response.status_code}\")\n",
        "            break\n",
        "\n",
        "        data = response.json()\n",
        "        hits = data['hits']['hits']\n",
        "\n",
        "        if not hits:\n",
        "            break  # No more records\n",
        "\n",
        "        # Extract only trial IDs (starting with 't') from current page\n",
        "        page_ids = [\n",
        "            hit['_source']['idkey']\n",
        "            for hit in hits\n",
        "            if hit['_source']['idkey'].startswith('t')\n",
        "        ]\n",
        "        all_ids.extend(page_ids)\n",
        "\n",
        "        # Update pagination parameters\n",
        "        current_from += page_size\n",
        "\n",
        "        # Check if we've reached the requested total\n",
        "        remaining = total_records - len(all_ids)\n",
        "        if remaining <= 0:\n",
        "            break\n",
        "\n",
        "        # Adjust page size for final request if needed\n",
        "        if remaining < page_size:\n",
        "            page_size = remaining\n",
        "\n",
        "        time.sleep(1)\n",
        "\n",
        "    return all_ids[:total_records]  # Return exactly requested number\n",
        "\n",
        "def save_records(record_ids):\n",
        "    \"\"\"Save individual records as xml files\"\"\"\n",
        "    for i, record_id in enumerate(record_ids, 1):\n",
        "        print(f\"Downloading record {i}: {record_id}\")\n",
        "        params = {'idkey': record_id}\n",
        "\n",
        "        try:\n",
        "            response = requests.get(SINGLE_RECORD_API, params=params, headers=headers)\n",
        "            if response.status_code == 200:\n",
        "                data = response.json()\n",
        "                text_content = data['hits']['hits'][0]['_source']['xml']\n",
        "\n",
        "                # Clean filename and save\n",
        "                safe_id = record_id.replace('/', '_')\n",
        "                filename = os.path.join(save_path, f\"{safe_id}.xml\")\n",
        "                with open(filename, 'w', encoding='utf-8') as f:\n",
        "                    f.write(text_content)\n",
        "                print(f\"Successfully saved: {filename}\")\n",
        "            else:\n",
        "                print(f\"Failed to download {record_id} (Status: {response.status_code})\")\n",
        "\n",
        "            # Short pause between requests\n",
        "            time.sleep(1)\n",
        "\n",
        "        except Exception as e:\n",
        "            print(f\"Error processing {record_id}: {str(e)}\")\n",
        "\n",
        "#execution\n",
        "sample_ids = get_sample_ids(40)  # Request number of trial records\n",
        "\n",
        "if sample_ids:\n",
        "    # print(\"\\nFound these trial records:\")\n",
        "    # for id in sample_ids:\n",
        "    #     print(f\"- {id}\")\n",
        "\n",
        "    save_records(sample_ids)\n",
        "\n",
        "    # # Optional: Save to Google Drive\n",
        "    # drive.mount('/content/drive')\n",
        "    # !cp -r {save_path} \"/content/drive/MyDrive/\"\n",
        "    # print(\"\\nFiles copied to Google Drive!\")\n",
        "else:\n",
        "    print(\"No trial records found to download\")"
      ]
    },
    {
      "cell_type": "markdown",
      "metadata": {
        "id": "MDH9Fio9Meh3"
      },
      "source": [
        "**Sample inputs for 1 trial, 1 day, 1 month**"
      ]
    },
    {
      "cell_type": "code",
      "execution_count": null,
      "metadata": {
        "id": "0s-Kib_RMW4H"
      },
      "outputs": [],
      "source": [
        "\n",
        "# Input for one trial\n",
        "one_trial = ['/content/oldbailey/t16740429-7.xml']\n",
        "\n",
        "# Input for one day (all trials on July 17, 1674)\n",
        "one_day = [\n",
        "    '/content/oldbailey/t16740717-1.xml',\n",
        "    '/content/oldbailey/t16740717-2.xml',\n",
        "    '/content/oldbailey/t16740717-3.xml',\n",
        "    '/content/oldbailey/t16740717-4.xml',\n",
        "    '/content/oldbailey/t16740717-5.xml',\n",
        "    '/content/oldbailey/t16740717-6.xml'\n",
        "]\n",
        "\n",
        "# Input for one month (all trials in April 1674)\n",
        "one_month = [\n",
        "    '/content/oldbailey/t16740429-1.xml',\n",
        "    '/content/oldbailey/t16740429-2.xml',\n",
        "    '/content/oldbailey/t16740429-3.xml',\n",
        "    '/content/oldbailey/t16740429-4.xml',\n",
        "    '/content/oldbailey/t16740429-5.xml',\n",
        "    '/content/oldbailey/t16740429-6.xml',\n",
        "    '/content/oldbailey/t16740429-7.xml',\n",
        "    '/content/oldbailey/t16740429-8.xml',\n",
        "    '/content/oldbailey/t16740429-9.xml'\n",
        "]"
      ]
    },
    {
      "cell_type": "markdown",
      "metadata": {
        "id": "aNNdO-7KMr2M"
      },
      "source": [
        "Parse the XML files"
      ]
    },
    {
      "cell_type": "code",
      "execution_count": null,
      "metadata": {
        "id": "CsTY7ej65V19"
      },
      "outputs": [],
      "source": [
        "import os\n",
        "import re\n",
        "import xml.etree.ElementTree as ET\n",
        "import time\n",
        "\n",
        "def parse_trial(xml_file):\n",
        "    tree = ET.parse(xml_file)\n",
        "    root = tree.getroot()\n",
        "\n",
        "    trial_data = {\n",
        "        \"defendants\": [],\n",
        "        \"verdicts\": []\n",
        "    }\n",
        "\n",
        "    defendant_genders = {}\n",
        "    for pers in root.findall(\".//persName[@type='defendantName']\"):\n",
        "        defendant_id = pers.get(\"id\")  # Get the defendant's ID\n",
        "        gender = pers.find(\"interp[@type='gender']\")\n",
        "        gender_value = gender.get(\"value\") if gender is not None else \"unknown\"\n",
        "        trial_data[\"defendants\"].append(gender_value)\n",
        "        defendant_genders[defendant_id] = gender_value\n",
        "\n",
        "    # Extract guilty verdicts and associate them with defendant genders\n",
        "    for verdict in root.findall(\".//rs[@type='verdictDescription']\"):\n",
        "        if verdict.find(\"interp[@type='verdictCategory']\").get(\"value\") == \"guilty\":\n",
        "            verdict_id = verdict.get(\"id\")  # Get the verdict ID\n",
        "            # Find the corresponding <join> element for this verdict\n",
        "            for join_element in root.findall(\".//join[@result='criminalCharge']\"):\n",
        "                targets = join_element.get(\"targets\").split()\n",
        "                if verdict_id in targets:\n",
        "\n",
        "                    for target in targets:\n",
        "                        if \"defend\" in target:  # Find the defendant ID in the targets\n",
        "                            defendant_id = target\n",
        "                            if defendant_id in defendant_genders:\n",
        "                                trial_data[\"verdicts\"].append(defendant_genders[defendant_id])\n",
        "\n",
        "    return trial_data"
      ]
    },
    {
      "cell_type": "markdown",
      "metadata": {
        "id": "4R9BzosQM6MJ"
      },
      "source": [
        "Using Counter()  to count frequencies\n",
        "\n",
        "\n"
      ]
    },
    {
      "cell_type": "code",
      "execution_count": null,
      "metadata": {
        "id": "vZXJPYumKVsM"
      },
      "outputs": [],
      "source": [
        "from collections import Counter\n",
        "\n",
        "def count_frequencies_counter(trial_files):\n",
        "    # Initialize counters\n",
        "    all_defendants = []\n",
        "    all_verdicts = []\n",
        "\n",
        "    for file in trial_files:\n",
        "        data = parse_trial(file)\n",
        "        all_defendants.extend(data[\"defendants\"])\n",
        "        all_verdicts.extend(data[\"verdicts\"])\n",
        "\n",
        "    # Use Counter to count frequencies\n",
        "    defendant_counter = Counter(all_defendants)\n",
        "    verdict_counter = Counter(all_verdicts)\n",
        "\n",
        "    # Format the results similar to the other functions\n",
        "    defendant_counts = {\n",
        "        \"total\": len(all_defendants),\n",
        "        \"male\": defendant_counter[\"male\"],\n",
        "        \"female\": defendant_counter[\"female\"]\n",
        "    }\n",
        "\n",
        "    verdict_counts = {\n",
        "        \"total\": len(all_verdicts),\n",
        "        \"male\": verdict_counter[\"male\"],\n",
        "        \"female\": verdict_counter[\"female\"]\n",
        "    }\n",
        "\n",
        "    return defendant_counts, verdict_counts"
      ]
    },
    {
      "cell_type": "markdown",
      "metadata": {
        "id": "p87SASPGM9YD"
      },
      "source": [
        "Using Pandas to count frequencies"
      ]
    },
    {
      "cell_type": "code",
      "execution_count": null,
      "metadata": {
        "id": "quuRr87NND6A"
      },
      "outputs": [],
      "source": [
        "import pandas as pd\n",
        "\n",
        "def count_frequencies_pandas(trial_files):\n",
        "    # Lists to store all data\n",
        "    all_data = {\"defendants\": [], \"verdicts\": []}\n",
        "\n",
        "    for file in trial_files:\n",
        "        data = parse_trial(file)\n",
        "        all_data[\"defendants\"].extend(data[\"defendants\"])\n",
        "        all_data[\"verdicts\"].extend(data[\"verdicts\"])\n",
        "\n",
        "    # Convert to pandas DataFrame\n",
        "    df_defendants = pd.DataFrame(all_data[\"defendants\"], columns=[\"gender\"])\n",
        "    df_verdicts = pd.DataFrame(all_data[\"verdicts\"], columns=[\"gender\"])\n",
        "\n",
        "    # Count frequencies\n",
        "    defendant_counts = {\n",
        "        \"total\": len(df_defendants),\n",
        "        \"male\": len(df_defendants[df_defendants[\"gender\"] == \"male\"]),\n",
        "        \"female\": len(df_defendants[df_defendants[\"gender\"] == \"female\"])\n",
        "    }\n",
        "\n",
        "    verdict_counts = {\n",
        "        \"total\": len(df_verdicts),\n",
        "        \"male\": len(df_verdicts[df_verdicts[\"gender\"] == \"male\"]),\n",
        "        \"female\": len(df_verdicts[df_verdicts[\"gender\"] == \"female\"])\n",
        "    }\n",
        "\n",
        "    # #using value_counts() [MUCH FASTER]\n",
        "    # defendant_counts = df_defendants[\"gender\"].value_counts()\n",
        "    # verdict_counts = df_verdicts[\"gender\"].value_counts()\n",
        "\n",
        "\n",
        "    return defendant_counts, verdict_counts"
      ]
    },
    {
      "cell_type": "markdown",
      "metadata": {
        "id": "Rxpobfc3NKbc"
      },
      "source": [
        "Run the counter and visualize the runtime"
      ]
    },
    {
      "cell_type": "code",
      "execution_count": null,
      "metadata": {
        "colab": {
          "base_uri": "https://localhost:8080/"
        },
        "id": "X9SEeiyqNMII",
        "outputId": "8c0d29b3-f90b-454c-a434-29be60261318"
      },
      "outputs": [
        {
          "output_type": "stream",
          "name": "stdout",
          "text": [
            "Input: ['/content/oldbailey/t16740429-7.xml']\n",
            "\n",
            "Defendant counts (Counter): {'total': 2, 'male': 2, 'female': 0}\n",
            "Verdict counts (Counter): {'total': 2, 'male': 2, 'female': 0}\n",
            "Execution time (Counter): 0.0004246234893798828 seconds\n",
            "\n",
            "Defendant counts (pandas): {'total': 2, 'male': 2, 'female': 0}\n",
            "Verdict counts (pandas): {'total': 2, 'male': 2, 'female': 0}\n",
            "Execution time (pandas): 0.0038001537322998047 seconds\n",
            "\n",
            "\n",
            "Input: ['/content/oldbailey/t16740717-1.xml', '/content/oldbailey/t16740717-2.xml', '/content/oldbailey/t16740717-3.xml', '/content/oldbailey/t16740717-4.xml', '/content/oldbailey/t16740717-5.xml', '/content/oldbailey/t16740717-6.xml']\n",
            "\n",
            "Defendant counts (Counter): {'total': 6, 'male': 5, 'female': 1}\n",
            "Verdict counts (Counter): {'total': 5, 'male': 4, 'female': 1}\n",
            "Execution time (Counter): 0.0026443004608154297 seconds\n",
            "\n",
            "Defendant counts (pandas): {'total': 6, 'male': 5, 'female': 1}\n",
            "Verdict counts (pandas): {'total': 5, 'male': 4, 'female': 1}\n",
            "Execution time (pandas): 0.0051233768463134766 seconds\n",
            "\n",
            "\n",
            "Input: ['/content/oldbailey/t16740429-1.xml', '/content/oldbailey/t16740429-2.xml', '/content/oldbailey/t16740429-3.xml', '/content/oldbailey/t16740429-4.xml', '/content/oldbailey/t16740429-5.xml', '/content/oldbailey/t16740429-6.xml', '/content/oldbailey/t16740429-7.xml', '/content/oldbailey/t16740429-8.xml', '/content/oldbailey/t16740429-9.xml']\n",
            "\n",
            "Defendant counts (Counter): {'total': 12, 'male': 10, 'female': 1}\n",
            "Verdict counts (Counter): {'total': 11, 'male': 9, 'female': 1}\n",
            "Execution time (Counter): 0.0024166107177734375 seconds\n",
            "\n",
            "Defendant counts (pandas): {'total': 12, 'male': 10, 'female': 1}\n",
            "Verdict counts (pandas): {'total': 11, 'male': 9, 'female': 1}\n",
            "Execution time (pandas): 0.004607677459716797 seconds\n",
            "\n",
            "\n"
          ]
        }
      ],
      "source": [
        "inputs = [one_trial, one_day, one_month]\n",
        "\n",
        "for input in inputs:\n",
        "    print(\"Input:\", (input))\n",
        "\n",
        "    # Timing the Counter-based approach\n",
        "    start_time_counter = time.time()\n",
        "    defendant_counts_counter, verdict_counts_counter = count_frequencies_counter(input)\n",
        "    time_counter = time.time() - start_time_counter\n",
        "\n",
        "    # Timing the pandas-based approach\n",
        "    start_time_pandas = time.time()\n",
        "    defendant_counts_pandas, verdict_counts_pandas = count_frequencies_pandas(input)\n",
        "    time_pandas = time.time() - start_time_pandas\n",
        "\n",
        "    print(\"\\nDefendant counts (Counter):\", defendant_counts_counter)\n",
        "    print(\"Verdict counts (Counter):\", verdict_counts_counter)\n",
        "    print(\"Execution time (Counter):\", time_counter, \"seconds\")\n",
        "\n",
        "    print(\"\\nDefendant counts (pandas):\", defendant_counts_pandas)\n",
        "    print(\"Verdict counts (pandas):\", verdict_counts_pandas)\n",
        "    print(\"Execution time (pandas):\", time_pandas, \"seconds\")\n",
        "    print(\"\\n\")"
      ]
    },
    {
      "cell_type": "code",
      "source": [
        "import matplotlib.pyplot as plt\n",
        "\n",
        "def plot_gender_counts(defendant_counts, verdict_counts):\n",
        "    labels = [\"Total\", \"Male\", \"Female\"]\n",
        "\n",
        "    #one for defendants and one for verdicts\n",
        "    fig, axes = plt.subplots(1, 2, figsize=(12, 6))\n",
        "\n",
        "    #Defendants\n",
        "    axes[0].bar(labels, [defendant_counts[\"total\"], defendant_counts[\"male\"], defendant_counts[\"female\"]], color=['blue', 'green', 'red'])\n",
        "    axes[0].set_title('Defendant Gender Counts')\n",
        "    axes[0].set_xlabel('Gender')\n",
        "    axes[0].set_ylabel('Count')\n",
        "\n",
        "    #Verdicts\n",
        "    axes[1].bar(labels, [verdict_counts[\"total\"], verdict_counts[\"male\"], verdict_counts[\"female\"]], color=['blue', 'green', 'red'])\n",
        "    axes[1].set_title('Verdict Gender Counts')\n",
        "    axes[1].set_xlabel('Gender')\n",
        "    axes[1].set_ylabel('Count')\n",
        "\n",
        "    plt.tight_layout()\n",
        "\n",
        "    plt.show()\n",
        "defendant_counts, verdict_counts = count_frequencies_pandas(one_month)\n",
        "plot_gender_counts(defendant_counts, verdict_counts)"
      ],
      "metadata": {
        "colab": {
          "base_uri": "https://localhost:8080/",
          "height": 607
        },
        "id": "ODycGiOih31I",
        "outputId": "32d34233-408b-4f2d-cdaf-e410b0717f05"
      },
      "execution_count": 17,
      "outputs": [
        {
          "output_type": "display_data",
          "data": {
            "text/plain": [
              "<Figure size 1200x600 with 2 Axes>"
            ],
            "image/png": "[encoded data removed]"
          },
          "metadata": {}
        }
      ]
    },
    {
      "cell_type": "code",
      "source": [],
      "metadata": {
        "id": "lk9hdUuhi-mL"
      },
      "execution_count": null,
      "outputs": []
    }
  ],
  "metadata": {
    "colab": {
      "provenance": []
    },
    "kernelspec": {
      "display_name": "Python 3",
      "name": "python3"
    },
    "language_info": {
      "name": "python"
    }
  },
  "nbformat": 4,
  "nbformat_minor": 0
}