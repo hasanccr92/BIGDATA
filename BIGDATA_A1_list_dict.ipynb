{
  "nbformat": 4,
  "nbformat_minor": 0,
  "metadata": {
    "colab": {
      "provenance": []
    },
    "kernelspec": {
      "name": "python3",
      "display_name": "Python 3"
    },
    "language_info": {
      "name": "python"
    }
  },
  "cells": [
    {
      "cell_type": "markdown",
      "source": [
        "Downloading the trial records from OldBailey using the API"
      ],
      "metadata": {
        "id": "k9V-T8SKNZhI"
      }
    },
    {
      "cell_type": "code",
      "source": [
        "import requests\n",
        "import os\n",
        "import time\n",
        "from google.colab import drive\n",
        "\n",
        "#store text files\n",
        "save_path = '/content/oldbailey'\n",
        "os.makedirs(save_path, exist_ok=True)\n",
        "\n",
        "# API endpoints\n",
        "SEARCH_API = \"https://www.dhi.ac.uk/api/data/oldbailey_record\"\n",
        "SINGLE_RECORD_API = \"https://www.dhi.ac.uk/api/data/oldbailey_record_single\"\n",
        "\n",
        "#parameters\n",
        "headers = {\n",
        "    'User-Agent': 'Mozilla/5.0 (Windows NT 10.0; Win64; x64) AppleWebKit/537.36 (KHTML, like Gecko) Chrome/58.0.3029.110 Safari/537.3',\n",
        "    'Accept': 'application/json'\n",
        "}\n",
        "\n",
        "def get_sample_ids(total_records=20):\n",
        "    \"\"\"Retrieve trial record IDs (starting with 't') from the API with pagination\"\"\"\n",
        "    print(\"Fetching trial record IDs...\")\n",
        "    all_ids = []\n",
        "    page_size = 10\n",
        "    current_from = 0\n",
        "\n",
        "    while len(all_ids) < total_records:\n",
        "        params = {\n",
        "            'size': page_size,\n",
        "            'from': current_from,\n",
        "            'text': '*'\n",
        "        }\n",
        "\n",
        "        response = requests.get(SEARCH_API, params=params, headers=headers)\n",
        "\n",
        "        if response.status_code != 200:\n",
        "            print(f\"Error fetching IDs: {response.status_code}\")\n",
        "            break\n",
        "\n",
        "        data = response.json()\n",
        "        hits = data['hits']['hits']\n",
        "\n",
        "        if not hits:\n",
        "            break  # No more records\n",
        "\n",
        "        # Extract only trial IDs (starting with 't') from current page\n",
        "        page_ids = [\n",
        "            hit['_source']['idkey']\n",
        "            for hit in hits\n",
        "            if hit['_source']['idkey'].startswith('t')\n",
        "        ]\n",
        "        all_ids.extend(page_ids)\n",
        "\n",
        "        # Update pagination parameters\n",
        "        current_from += page_size\n",
        "\n",
        "        # Check if we've reached the requested total\n",
        "        remaining = total_records - len(all_ids)\n",
        "        if remaining <= 0:\n",
        "            break\n",
        "\n",
        "        # Adjust page size for final request if needed\n",
        "        if remaining < page_size:\n",
        "            page_size = remaining\n",
        "\n",
        "        time.sleep(1)\n",
        "\n",
        "    return all_ids[:total_records]  # Return exactly requested number\n",
        "\n",
        "def save_records(record_ids):\n",
        "    \"\"\"Save individual records as xml files\"\"\"\n",
        "    for i, record_id in enumerate(record_ids, 1):\n",
        "        print(f\"Downloading record {i}: {record_id}\")\n",
        "        params = {'idkey': record_id}\n",
        "\n",
        "        try:\n",
        "            response = requests.get(SINGLE_RECORD_API, params=params, headers=headers)\n",
        "            if response.status_code == 200:\n",
        "                data = response.json()\n",
        "                text_content = data['hits']['hits'][0]['_source']['xml']\n",
        "\n",
        "                # Clean filename and save\n",
        "                safe_id = record_id.replace('/', '_')\n",
        "                filename = os.path.join(save_path, f\"{safe_id}.xml\")\n",
        "                with open(filename, 'w', encoding='utf-8') as f:\n",
        "                    f.write(text_content)\n",
        "                print(f\"Successfully saved: {filename}\")\n",
        "            else:\n",
        "                print(f\"Failed to download {record_id} (Status: {response.status_code})\")\n",
        "\n",
        "            # Short pause between requests\n",
        "            time.sleep(1)\n",
        "\n",
        "        except Exception as e:\n",
        "            print(f\"Error processing {record_id}: {str(e)}\")\n",
        "\n",
        "#execution\n",
        "sample_ids = get_sample_ids(40)  # Request number of trial records\n",
        "\n",
        "if sample_ids:\n",
        "    # print(\"\\nFound these trial records:\")\n",
        "    # for id in sample_ids:\n",
        "    #     print(f\"- {id}\")\n",
        "\n",
        "    save_records(sample_ids)\n",
        "\n",
        "    # # Optional: Save to Google Drive\n",
        "    # drive.mount('/content/drive')\n",
        "    # !cp -r {save_path} \"/content/drive/MyDrive/\"\n",
        "    # print(\"\\nFiles copied to Google Drive!\")\n",
        "else:\n",
        "    print(\"No trial records found to download\")"
      ],
      "metadata": {
        "id": "pIe1UpBi8zRx",
        "colab": {
          "base_uri": "https://localhost:8080/"
        },
        "outputId": "24f61e84-7b1f-496f-e340-868c6f44cd2f"
      },
      "execution_count": 65,
      "outputs": [
        {
          "output_type": "stream",
          "name": "stdout",
          "text": [
            "Fetching trial record IDs...\n",
            "Downloading record 1: t16740429-1\n",
            "Successfully saved: /content/oldbailey/t16740429-1.xml\n",
            "Downloading record 2: t16740429-2\n",
            "Successfully saved: /content/oldbailey/t16740429-2.xml\n",
            "Downloading record 3: t16740429-3\n",
            "Successfully saved: /content/oldbailey/t16740429-3.xml\n",
            "Downloading record 4: t16740429-4\n",
            "Successfully saved: /content/oldbailey/t16740429-4.xml\n",
            "Downloading record 5: t16740429-5\n",
            "Successfully saved: /content/oldbailey/t16740429-5.xml\n",
            "Downloading record 6: t16740429-6\n",
            "Successfully saved: /content/oldbailey/t16740429-6.xml\n",
            "Downloading record 7: t16740429-7\n",
            "Successfully saved: /content/oldbailey/t16740429-7.xml\n",
            "Downloading record 8: t16740429-8\n",
            "Successfully saved: /content/oldbailey/t16740429-8.xml\n",
            "Downloading record 9: t16740429-9\n",
            "Successfully saved: /content/oldbailey/t16740429-9.xml\n",
            "Downloading record 10: t16740717-1\n",
            "Successfully saved: /content/oldbailey/t16740717-1.xml\n",
            "Downloading record 11: t16740717-2\n",
            "Successfully saved: /content/oldbailey/t16740717-2.xml\n",
            "Downloading record 12: t16740717-3\n",
            "Successfully saved: /content/oldbailey/t16740717-3.xml\n",
            "Downloading record 13: t16740717-4\n",
            "Successfully saved: /content/oldbailey/t16740717-4.xml\n",
            "Downloading record 14: t16740717-5\n",
            "Successfully saved: /content/oldbailey/t16740717-5.xml\n",
            "Downloading record 15: t16740717-6\n",
            "Successfully saved: /content/oldbailey/t16740717-6.xml\n",
            "Downloading record 16: t16740909-1\n",
            "Successfully saved: /content/oldbailey/t16740909-1.xml\n",
            "Downloading record 17: t16740909-2\n",
            "Successfully saved: /content/oldbailey/t16740909-2.xml\n",
            "Downloading record 18: t16740909-3\n",
            "Successfully saved: /content/oldbailey/t16740909-3.xml\n",
            "Downloading record 19: t16740909-4\n",
            "Successfully saved: /content/oldbailey/t16740909-4.xml\n",
            "Downloading record 20: t16740909-5\n",
            "Successfully saved: /content/oldbailey/t16740909-5.xml\n",
            "Downloading record 21: t16740909-6\n",
            "Successfully saved: /content/oldbailey/t16740909-6.xml\n",
            "Downloading record 22: t16741014-1\n",
            "Successfully saved: /content/oldbailey/t16741014-1.xml\n",
            "Downloading record 23: t16741014-2\n",
            "Successfully saved: /content/oldbailey/t16741014-2.xml\n",
            "Downloading record 24: t16741014-3\n",
            "Successfully saved: /content/oldbailey/t16741014-3.xml\n",
            "Downloading record 25: t16741014-4\n",
            "Successfully saved: /content/oldbailey/t16741014-4.xml\n",
            "Downloading record 26: t16741014-5\n",
            "Successfully saved: /content/oldbailey/t16741014-5.xml\n",
            "Downloading record 27: t16741014-6\n",
            "Successfully saved: /content/oldbailey/t16741014-6.xml\n",
            "Downloading record 28: t16741014-7\n",
            "Successfully saved: /content/oldbailey/t16741014-7.xml\n",
            "Downloading record 29: t16741014-8\n",
            "Successfully saved: /content/oldbailey/t16741014-8.xml\n",
            "Downloading record 30: t16741212-1\n",
            "Successfully saved: /content/oldbailey/t16741212-1.xml\n",
            "Downloading record 31: t16741212-2\n",
            "Successfully saved: /content/oldbailey/t16741212-2.xml\n",
            "Downloading record 32: t16741212-3\n",
            "Successfully saved: /content/oldbailey/t16741212-3.xml\n",
            "Downloading record 33: t16741212-4\n",
            "Successfully saved: /content/oldbailey/t16741212-4.xml\n",
            "Downloading record 34: t16741212-5\n",
            "Successfully saved: /content/oldbailey/t16741212-5.xml\n",
            "Downloading record 35: t16741212-6\n",
            "Successfully saved: /content/oldbailey/t16741212-6.xml\n",
            "Downloading record 36: t16741212-7\n",
            "Successfully saved: /content/oldbailey/t16741212-7.xml\n",
            "Downloading record 37: t16750115-1\n",
            "Successfully saved: /content/oldbailey/t16750115-1.xml\n",
            "Downloading record 38: t16750115-2\n",
            "Successfully saved: /content/oldbailey/t16750115-2.xml\n",
            "Downloading record 39: t16750115-3\n",
            "Successfully saved: /content/oldbailey/t16750115-3.xml\n",
            "Downloading record 40: t16750115-3\n",
            "Successfully saved: /content/oldbailey/t16750115-3.xml\n"
          ]
        }
      ]
    },
    {
      "cell_type": "markdown",
      "source": [
        "**Sample inputs for 1 trial, 1 day, 1 month**"
      ],
      "metadata": {
        "id": "MDH9Fio9Meh3"
      }
    },
    {
      "cell_type": "code",
      "source": [
        "\n",
        "# Input for one trial\n",
        "one_trial = ['/content/oldbailey/t16740429-7.xml']\n",
        "\n",
        "# Input for one day (all trials on July 17, 1674)\n",
        "one_day = [\n",
        "    '/content/oldbailey/t16740717-1.xml',\n",
        "    '/content/oldbailey/t16740717-2.xml',\n",
        "    '/content/oldbailey/t16740717-3.xml',\n",
        "    '/content/oldbailey/t16740717-4.xml',\n",
        "    '/content/oldbailey/t16740717-5.xml',\n",
        "    '/content/oldbailey/t16740717-6.xml'\n",
        "]\n",
        "\n",
        "# Input for one month (all trials in April 1674)\n",
        "one_month = [\n",
        "    '/content/oldbailey/t16740429-1.xml',\n",
        "    '/content/oldbailey/t16740429-2.xml',\n",
        "    '/content/oldbailey/t16740429-3.xml',\n",
        "    '/content/oldbailey/t16740429-4.xml',\n",
        "    '/content/oldbailey/t16740429-5.xml',\n",
        "    '/content/oldbailey/t16740429-6.xml',\n",
        "    '/content/oldbailey/t16740429-7.xml',\n",
        "    '/content/oldbailey/t16740429-8.xml',\n",
        "    '/content/oldbailey/t16740429-9.xml'\n",
        "]"
      ],
      "metadata": {
        "id": "0s-Kib_RMW4H"
      },
      "execution_count": 66,
      "outputs": []
    },
    {
      "cell_type": "markdown",
      "source": [
        "Parse the XML files"
      ],
      "metadata": {
        "id": "aNNdO-7KMr2M"
      }
    },
    {
      "cell_type": "code",
      "source": [
        "import os\n",
        "import re\n",
        "import xml.etree.ElementTree as ET\n",
        "import time\n",
        "\n",
        "def parse_trial(xml_file):\n",
        "    tree = ET.parse(xml_file)\n",
        "    root = tree.getroot()\n",
        "\n",
        "    trial_data = {\n",
        "        \"defendants\": [],\n",
        "        \"verdicts\": []\n",
        "    }\n",
        "\n",
        "    defendant_genders = {}\n",
        "    for pers in root.findall(\".//persName[@type='defendantName']\"):\n",
        "        defendant_id = pers.get(\"id\")  # Get the defendant's ID\n",
        "        gender = pers.find(\"interp[@type='gender']\")\n",
        "        gender_value = gender.get(\"value\") if gender is not None else \"unknown\"\n",
        "        trial_data[\"defendants\"].append(gender_value)\n",
        "        defendant_genders[defendant_id] = gender_value\n",
        "\n",
        "    # Extract guilty verdicts and associate them with defendant genders\n",
        "    for verdict in root.findall(\".//rs[@type='verdictDescription']\"):\n",
        "        if verdict.find(\"interp[@type='verdictCategory']\").get(\"value\") == \"guilty\":\n",
        "            verdict_id = verdict.get(\"id\")  # Get the verdict ID\n",
        "            # Find the corresponding <join> element for this verdict\n",
        "            for join_element in root.findall(\".//join[@result='criminalCharge']\"):\n",
        "                targets = join_element.get(\"targets\").split()\n",
        "                if verdict_id in targets:\n",
        "\n",
        "                    for target in targets:\n",
        "                        if \"defend\" in target:  # Find the defendant ID in the targets\n",
        "                            defendant_id = target\n",
        "                            if defendant_id in defendant_genders:\n",
        "                                trial_data[\"verdicts\"].append(defendant_genders[defendant_id])\n",
        "\n",
        "    return trial_data"
      ],
      "metadata": {
        "id": "CsTY7ej65V19"
      },
      "execution_count": 67,
      "outputs": []
    },
    {
      "cell_type": "markdown",
      "source": [
        "Using lists to count frequencies\n",
        "\n",
        "> the first one returns results by each trial like [(1, 1, 0), (1, 1, 0), (3, 3, 0)]\n",
        "\n",
        "\n"
      ],
      "metadata": {
        "id": "4R9BzosQM6MJ"
      }
    },
    {
      "cell_type": "code",
      "source": [
        "def count_frequencies_list(trial_files):\n",
        "    # Initialize counters\n",
        "    defendant_counts = [0, 0, 0]  # [total, men, women]\n",
        "    verdict_counts = [0, 0, 0]    # [total, men, women]\n",
        "\n",
        "    for file in trial_files:\n",
        "        data = parse_trial(file)\n",
        "\n",
        "        # Update defendant counts\n",
        "        defendant_counts[0] += len(data[\"defendants\"])  # Total defendants\n",
        "        defendant_counts[1] += data[\"defendants\"].count(\"male\")  # Male defendants\n",
        "        defendant_counts[2] += data[\"defendants\"].count(\"female\")  # Female defendants\n",
        "\n",
        "        # Update verdict counts (only guilty)\n",
        "        verdict_counts[0] += len(data[\"verdicts\"])  # Total guilty verdicts\n",
        "        verdict_counts[1] += data[\"verdicts\"].count(\"male\")  # Male guilty verdicts\n",
        "        verdict_counts[2] += data[\"verdicts\"].count(\"female\")  # Female guilty verdicts\n",
        "\n",
        "\n",
        "    return defendant_counts, verdict_counts"
      ],
      "metadata": {
        "id": "vZXJPYumKVsM"
      },
      "execution_count": 68,
      "outputs": []
    },
    {
      "cell_type": "markdown",
      "source": [
        "Using Dictionaries to count frequencies"
      ],
      "metadata": {
        "id": "p87SASPGM9YD"
      }
    },
    {
      "cell_type": "code",
      "source": [
        "def count_frequencies_dict(trial_files):\n",
        "\n",
        "    # Initialize counters\n",
        "    defendant_counts = {\"total\": 0, \"male\": 0, \"female\": 0}\n",
        "    verdict_counts = {\"total\": 0, \"male\": 0, \"female\": 0}\n",
        "\n",
        "    for file in trial_files:\n",
        "        data = parse_trial(file)\n",
        "\n",
        "        # Update defendant counts\n",
        "        defendant_counts[\"total\"] += len(data[\"defendants\"])\n",
        "        defendant_counts[\"male\"] += data[\"defendants\"].count(\"male\")\n",
        "        defendant_counts[\"female\"] += data[\"defendants\"].count(\"female\")\n",
        "\n",
        "        # Update verdict counts (only guilty)\n",
        "        verdict_counts[\"total\"] += len(data[\"verdicts\"])\n",
        "        verdict_counts[\"male\"] += data[\"verdicts\"].count(\"male\")\n",
        "        verdict_counts[\"female\"] += data[\"verdicts\"].count(\"female\")\n",
        "\n",
        "    return defendant_counts, verdict_counts"
      ],
      "metadata": {
        "id": "quuRr87NND6A"
      },
      "execution_count": 69,
      "outputs": []
    },
    {
      "cell_type": "markdown",
      "source": [
        "Run the counter and visualize the runtime"
      ],
      "metadata": {
        "id": "Rxpobfc3NKbc"
      }
    },
    {
      "cell_type": "code",
      "source": [
        "inputs = [one_trial, one_day, one_month]\n",
        "\n",
        "for input in inputs:\n",
        "    print(\"Input:\", (input))\n",
        "    # Timing the list-based approach\n",
        "    start_time_list = time.time()\n",
        "    defendant_counts_list, verdict_counts_list = count_frequencies_list(input)\n",
        "    time_list = time.time() - start_time_list\n",
        "\n",
        "    # Timing the dictionary-based approach\n",
        "    start_time_dict = time.time()\n",
        "    defendant_counts_dict, verdict_counts_dict = count_frequencies_dict(input)\n",
        "    time_dict = time.time() - start_time_dict\n",
        "\n",
        "    print(\"Defendant counts (list):\", defendant_counts_list)\n",
        "    print(\"Total:\", defendant_counts_list[0], \", Men:\", defendant_counts_list[1], \", Women:\", defendant_counts_list[2])\n",
        "    print(\"Verdict counts (list):\", verdict_counts_list)\n",
        "    print(\"Total:\", verdict_counts_list[0], \", Men:\", verdict_counts_list[1], \", Women:\", verdict_counts_list[2])\n",
        "    print(\"Execution time (list):\", time_list, \"seconds\")\n",
        "\n",
        "    print(\"Defendant counts (dict):\", defendant_counts_dict)\n",
        "    print(\"Verdict counts (dict):\", verdict_counts_dict)\n",
        "    print(\"Execution time (dict):\", time_dict, \"seconds\")\n",
        "    print(\"\\n\")"
      ],
      "metadata": {
        "colab": {
          "base_uri": "https://localhost:8080/"
        },
        "id": "X9SEeiyqNMII",
        "outputId": "8ce7ff01-c1d5-4e23-a49d-2dbc34e9eb44"
      },
      "execution_count": 70,
      "outputs": [
        {
          "output_type": "stream",
          "name": "stdout",
          "text": [
            "Input: ['/content/oldbailey/t16740429-7.xml']\n",
            "Defendant counts (list): [2, 2, 0]\n",
            "Total: 2 , Men: 2 , Women: 0\n",
            "Verdict counts (list): [2, 2, 0]\n",
            "Total: 2 , Men: 2 , Women: 0\n",
            "Execution time (list): 0.0005502700805664062 seconds\n",
            "Defendant counts (dict): {'total': 2, 'male': 2, 'female': 0}\n",
            "Verdict counts (dict): {'total': 2, 'male': 2, 'female': 0}\n",
            "Execution time (dict): 0.00024700164794921875 seconds\n",
            "\n",
            "\n",
            "Input: ['/content/oldbailey/t16740717-1.xml', '/content/oldbailey/t16740717-2.xml', '/content/oldbailey/t16740717-3.xml', '/content/oldbailey/t16740717-4.xml', '/content/oldbailey/t16740717-5.xml', '/content/oldbailey/t16740717-6.xml']\n",
            "Defendant counts (list): [6, 5, 1]\n",
            "Total: 6 , Men: 5 , Women: 1\n",
            "Verdict counts (list): [5, 4, 1]\n",
            "Total: 5 , Men: 4 , Women: 1\n",
            "Execution time (list): 0.0014002323150634766 seconds\n",
            "Defendant counts (dict): {'total': 6, 'male': 5, 'female': 1}\n",
            "Verdict counts (dict): {'total': 5, 'male': 4, 'female': 1}\n",
            "Execution time (dict): 0.004733562469482422 seconds\n",
            "\n",
            "\n",
            "Input: ['/content/oldbailey/t16740429-1.xml', '/content/oldbailey/t16740429-2.xml', '/content/oldbailey/t16740429-3.xml', '/content/oldbailey/t16740429-4.xml', '/content/oldbailey/t16740429-5.xml', '/content/oldbailey/t16740429-6.xml', '/content/oldbailey/t16740429-7.xml', '/content/oldbailey/t16740429-8.xml', '/content/oldbailey/t16740429-9.xml']\n",
            "Defendant counts (list): [12, 10, 1]\n",
            "Total: 12 , Men: 10 , Women: 1\n",
            "Verdict counts (list): [11, 9, 1]\n",
            "Total: 11 , Men: 9 , Women: 1\n",
            "Execution time (list): 0.0021665096282958984 seconds\n",
            "Defendant counts (dict): {'total': 12, 'male': 10, 'female': 1}\n",
            "Verdict counts (dict): {'total': 11, 'male': 9, 'female': 1}\n",
            "Execution time (dict): 0.0023603439331054688 seconds\n",
            "\n",
            "\n"
          ]
        }
      ]
    },
    {
      "cell_type": "markdown",
      "source": [
        "Plotting"
      ],
      "metadata": {
        "id": "-4kHIp7gl3-D"
      }
    },
    {
      "cell_type": "code",
      "source": [
        "import matplotlib.pyplot as plt\n",
        "\n",
        "# Example data (replace with your actual data)\n",
        "defendant_counts_list, verdict_counts_list = count_frequencies_list(one_month)\n",
        "\n",
        "# Labels for the bars\n",
        "labels = [\"Total\", \"Men\", \"Women\"]\n",
        "\n",
        "# Create a bar graph for defendant counts\n",
        "plt.figure(figsize=(10, 5))\n",
        "plt.bar(labels, defendant_counts_list, color=['blue', 'green', 'red'])\n",
        "plt.title(\"Defendant Counts\")\n",
        "plt.xlabel(\"Category\")\n",
        "plt.ylabel(\"Count\")\n",
        "plt.show()\n",
        "\n",
        "# Create a bar graph for verdict counts\n",
        "plt.figure(figsize=(10, 5))\n",
        "plt.bar(labels, verdict_counts_list, color=['blue', 'green', 'red'])\n",
        "plt.title(\"Verdict Counts (Guilty)\")\n",
        "plt.xlabel(\"Category\")\n",
        "plt.ylabel(\"Count\")\n",
        "plt.show()"
      ],
      "metadata": {
        "colab": {
          "base_uri": "https://localhost:8080/",
          "height": 957
        },
        "id": "sLnNYvsKkCFp",
        "outputId": "3c745e8c-8f29-449e-98ed-a3fdc2f4d83e"
      },
      "execution_count": 71,
      "outputs": [
        {
          "output_type": "display_data",
          "data": {
            "text/plain": [
              "<Figure size 1000x500 with 1 Axes>"
            ],
            "image/png": "[encoded data removed]"
          },
          "metadata": {}
        },
        {
          "output_type": "display_data",
          "data": {
            "text/plain": [
              "<Figure size 1000x500 with 1 Axes>"
            ],
            "image/png": "[encoded data removed]"
          },
          "metadata": {}
        }
      ]
    },
    {
      "cell_type": "code",
      "source": [],
      "metadata": {
        "id": "i_W-NQmYlzao"
      },
      "execution_count": 71,
      "outputs": []
    }
  ]
}