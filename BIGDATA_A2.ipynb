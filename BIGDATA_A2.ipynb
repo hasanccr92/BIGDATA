{
  "cells": [
    {
      "cell_type": "markdown",
      "id": "3bd42d4f",
      "metadata": {
        "id": "3bd42d4f",
        "papermill": {
          "duration": 0.014293,
          "end_time": "2025-03-22T16:40:06.223583",
          "exception": false,
          "start_time": "2025-03-22T16:40:06.209290",
          "status": "completed"
        },
        "tags": []
      },
      "source": [
        "# **Activity 2: Classification and Clustering**"
      ]
    },
    {
      "cell_type": "markdown",
      "source": [
        "**This notebook is prepared as the second activity for the course BIGDATA-Big Data and Data Mining at EETAC, UPC. Link to the notebook- [Kaggle](https://www.kaggle.com/code/hasanccr92/bigdata-a2)**"
      ],
      "metadata": {
        "id": "9-3spnd7ZEx6"
      },
      "id": "9-3spnd7ZEx6"
    },
    {
      "cell_type": "markdown",
      "id": "587d5420",
      "metadata": {
        "id": "587d5420",
        "papermill": {
          "duration": 0.013476,
          "end_time": "2025-03-22T16:40:06.251154",
          "exception": false,
          "start_time": "2025-03-22T16:40:06.237678",
          "status": "completed"
        },
        "tags": []
      },
      "source": [
        "**Importing necessary libraries**"
      ]
    },
    {
      "cell_type": "code",
      "execution_count": null,
      "id": "7c0c83c5",
      "metadata": {
        "execution": {
          "iopub.execute_input": "2025-03-22T16:40:06.280336Z",
          "iopub.status.busy": "2025-03-22T16:40:06.279832Z",
          "iopub.status.idle": "2025-03-22T16:40:27.817904Z",
          "shell.execute_reply": "2025-03-22T16:40:27.816759Z"
        },
        "id": "7c0c83c5",
        "papermill": {
          "duration": 21.555626,
          "end_time": "2025-03-22T16:40:27.820000",
          "exception": false,
          "start_time": "2025-03-22T16:40:06.264374",
          "status": "completed"
        },
        "tags": []
      },
      "outputs": [],
      "source": [
        "# Standard Libraries\n",
        "import os\n",
        "import time\n",
        "\n",
        "# Data Manipulation and Visualization\n",
        "import numpy as np\n",
        "import pandas as pd\n",
        "import matplotlib.pyplot as plt\n",
        "import seaborn as sns\n",
        "\n",
        "# Machine Learning and Deep Learning\n",
        "from sklearn.datasets import load_digits\n",
        "from sklearn.model_selection import train_test_split, GridSearchCV, StratifiedKFold\n",
        "from sklearn.metrics import (\n",
        "    accuracy_score, precision_score, recall_score, f1_score,\n",
        "    confusion_matrix, classification_report, cohen_kappa_score\n",
        ")\n",
        "from sklearn.cluster import KMeans as SklearnKMeans, AgglomerativeClustering, DBSCAN\n",
        "from sklearn.ensemble import RandomForestClassifier\n",
        "from skimage.transform import resize\n",
        "from sklearn.utils import resample\n",
        "\n",
        "# TensorFlow/Keras\n",
        "import tensorflow as tf\n",
        "from tensorflow import keras\n",
        "from tensorflow.keras import layers\n",
        "from tensorflow.keras.models import load_model\n",
        "\n",
        "# PySpark\n",
        "from pyspark.sql import SparkSession\n",
        "from pyspark.ml.classification import LogisticRegression\n",
        "from pyspark.ml.clustering import KMeans\n",
        "from pyspark.ml.feature import VectorAssembler\n",
        "from pyspark.ml.evaluation import MulticlassClassificationEvaluator, ClusteringEvaluator\n",
        "from pyspark.sql.functions import col\n",
        "from pyspark.ml.linalg import Vectors\n",
        "\n",
        "# Optimization\n",
        "from scipy.optimize import linear_sum_assignment\n",
        "from scipy.optimize import linear_sum_assignment as linear_assignment"
      ]
    },
    {
      "cell_type": "markdown",
      "id": "21d10a2e",
      "metadata": {
        "id": "21d10a2e",
        "papermill": {
          "duration": 0.012364,
          "end_time": "2025-03-22T16:40:27.845428",
          "exception": false,
          "start_time": "2025-03-22T16:40:27.833064",
          "status": "completed"
        },
        "tags": []
      },
      "source": [
        "# **WEEK 1**"
      ]
    },
    {
      "cell_type": "markdown",
      "id": "a6d1e985",
      "metadata": {
        "id": "a6d1e985",
        "papermill": {
          "duration": 0.012846,
          "end_time": "2025-03-22T16:40:27.871613",
          "exception": false,
          "start_time": "2025-03-22T16:40:27.858767",
          "status": "completed"
        },
        "tags": []
      },
      "source": [
        "# Downloading the two datasets"
      ]
    },
    {
      "cell_type": "code",
      "execution_count": null,
      "id": "cb5eba2d",
      "metadata": {
        "execution": {
          "iopub.execute_input": "2025-03-22T16:40:27.899090Z",
          "iopub.status.busy": "2025-03-22T16:40:27.898362Z",
          "iopub.status.idle": "2025-03-22T16:40:27.919909Z",
          "shell.execute_reply": "2025-03-22T16:40:27.918849Z"
        },
        "id": "cb5eba2d",
        "papermill": {
          "duration": 0.037809,
          "end_time": "2025-03-22T16:40:27.921961",
          "exception": false,
          "start_time": "2025-03-22T16:40:27.884152",
          "status": "completed"
        },
        "tags": []
      },
      "outputs": [],
      "source": [
        "digits = load_digits()\n",
        "x_digits, y_digits = digits['data'], digits['target']"
      ]
    },
    {
      "cell_type": "code",
      "execution_count": null,
      "id": "e74c512b",
      "metadata": {
        "execution": {
          "iopub.execute_input": "2025-03-22T16:40:27.948752Z",
          "iopub.status.busy": "2025-03-22T16:40:27.948372Z",
          "iopub.status.idle": "2025-03-22T16:40:29.207403Z",
          "shell.execute_reply": "2025-03-22T16:40:29.205455Z"
        },
        "id": "e74c512b",
        "outputId": "0d5d9c99-2e1e-4a5e-86bd-f61a4aa6cf9b",
        "papermill": {
          "duration": 1.274865,
          "end_time": "2025-03-22T16:40:29.209578",
          "exception": false,
          "start_time": "2025-03-22T16:40:27.934713",
          "status": "completed"
        },
        "tags": []
      },
      "outputs": [
        {
          "name": "stdout",
          "output_type": "stream",
          "text": [
            "Downloading data from https://storage.googleapis.com/tensorflow/tf-keras-datasets/mnist.npz\n",
            "\u001b[1m11490434/11490434\u001b[0m \u001b[32m━━━━━━━━━━━━━━━━━━━━\u001b[0m\u001b[37m\u001b[0m \u001b[1m1s\u001b[0m 0us/step\n"
          ]
        }
      ],
      "source": [
        "#MNIST dataset\n",
        "(x_train_mnist, y_train_mnist), (x_test_mnist, y_test_mnist) = keras.datasets.mnist.load_data()"
      ]
    },
    {
      "cell_type": "markdown",
      "id": "2c0ff52e",
      "metadata": {
        "id": "2c0ff52e",
        "papermill": {
          "duration": 0.013445,
          "end_time": "2025-03-22T16:40:29.237719",
          "exception": false,
          "start_time": "2025-03-22T16:40:29.224274",
          "status": "completed"
        },
        "tags": []
      },
      "source": [
        "# Flattening MNIST"
      ]
    },
    {
      "cell_type": "code",
      "execution_count": null,
      "id": "dfe65809",
      "metadata": {
        "execution": {
          "iopub.execute_input": "2025-03-22T16:40:29.268912Z",
          "iopub.status.busy": "2025-03-22T16:40:29.268556Z",
          "iopub.status.idle": "2025-03-22T16:40:29.275331Z",
          "shell.execute_reply": "2025-03-22T16:40:29.274181Z"
        },
        "id": "dfe65809",
        "outputId": "8199e3e4-c8bb-40a1-d05c-eaf7031f2f25",
        "papermill": {
          "duration": 0.024132,
          "end_time": "2025-03-22T16:40:29.277149",
          "exception": false,
          "start_time": "2025-03-22T16:40:29.253017",
          "status": "completed"
        },
        "tags": []
      },
      "outputs": [
        {
          "name": "stdout",
          "output_type": "stream",
          "text": [
            "x_train_mnist_flattened shape: (60000, 784)\n",
            "y_train_mnist shape: (60000,)\n"
          ]
        }
      ],
      "source": [
        "# Flatten MNIST\n",
        "x_train_mnist_flattened = x_train_mnist.reshape(x_train_mnist.shape[0], -1)\n",
        "x_test_mnist_flattened = x_test_mnist.reshape(x_test_mnist.shape[0], -1)\n",
        "\n",
        "#shapes\n",
        "print(\"x_train_mnist_flattened shape:\", x_train_mnist_flattened.shape)\n",
        "print(\"y_train_mnist shape:\", y_train_mnist.shape)"
      ]
    },
    {
      "cell_type": "markdown",
      "id": "ee371d25",
      "metadata": {
        "id": "ee371d25",
        "papermill": {
          "duration": 0.01349,
          "end_time": "2025-03-22T16:40:29.305389",
          "exception": false,
          "start_time": "2025-03-22T16:40:29.291899",
          "status": "completed"
        },
        "tags": []
      },
      "source": [
        "# Splitting the training datasets in 85% for training and 15% for validation. MNIST is already split. So splitting only digits dataset"
      ]
    },
    {
      "cell_type": "code",
      "execution_count": null,
      "id": "4f972a13",
      "metadata": {
        "execution": {
          "iopub.execute_input": "2025-03-22T16:40:29.335738Z",
          "iopub.status.busy": "2025-03-22T16:40:29.335350Z",
          "iopub.status.idle": "2025-03-22T16:40:29.344998Z",
          "shell.execute_reply": "2025-03-22T16:40:29.343868Z"
        },
        "id": "4f972a13",
        "outputId": "dcc9e180-23cf-4374-b2bc-61d08819187c",
        "papermill": {
          "duration": 0.027351,
          "end_time": "2025-03-22T16:40:29.346933",
          "exception": false,
          "start_time": "2025-03-22T16:40:29.319582",
          "status": "completed"
        },
        "tags": []
      },
      "outputs": [
        {
          "name": "stdout",
          "output_type": "stream",
          "text": [
            "Digits - Training data shape: (1527, 64)\n",
            "Digits - Test data shape: (270, 64)\n"
          ]
        }
      ],
      "source": [
        "#85/15 split of digit\n",
        "x_train_digits, x_test_digits, y_train_digits, y_test_digits = train_test_split(\n",
        "    x_digits, y_digits, test_size=0.15, random_state=42\n",
        ")\n",
        "\n",
        "print(\"Digits - Training data shape:\", x_train_digits.shape)\n",
        "print(\"Digits - Test data shape:\", x_test_digits.shape)\n"
      ]
    },
    {
      "cell_type": "markdown",
      "id": "b03b2ad6",
      "metadata": {
        "id": "b03b2ad6",
        "papermill": {
          "duration": 0.013533,
          "end_time": "2025-03-22T16:40:29.375088",
          "exception": false,
          "start_time": "2025-03-22T16:40:29.361555",
          "status": "completed"
        },
        "tags": []
      },
      "source": [
        "# Training"
      ]
    },
    {
      "cell_type": "markdown",
      "id": "e36339e2",
      "metadata": {
        "id": "e36339e2",
        "papermill": {
          "duration": 0.013641,
          "end_time": "2025-03-22T16:40:29.402691",
          "exception": false,
          "start_time": "2025-03-22T16:40:29.389050",
          "status": "completed"
        },
        "tags": []
      },
      "source": [
        "**Training Random Forest on MNIST and digits dataset (scikit-learn)**"
      ]
    },
    {
      "cell_type": "code",
      "execution_count": null,
      "id": "ecdeb1df",
      "metadata": {
        "execution": {
          "iopub.execute_input": "2025-03-22T16:40:29.433184Z",
          "iopub.status.busy": "2025-03-22T16:40:29.432809Z",
          "iopub.status.idle": "2025-03-22T16:41:15.717654Z",
          "shell.execute_reply": "2025-03-22T16:41:15.716496Z"
        },
        "id": "ecdeb1df",
        "papermill": {
          "duration": 46.302715,
          "end_time": "2025-03-22T16:41:15.719950",
          "exception": false,
          "start_time": "2025-03-22T16:40:29.417235",
          "status": "completed"
        },
        "tags": []
      },
      "outputs": [],
      "source": [
        "#RF on MNIST training\n",
        "start_train = time.time()\n",
        "rf_mnist = RandomForestClassifier(random_state=42)\n",
        "rf_mnist.fit(x_train_mnist_flattened, y_train_mnist)\n",
        "end_train = time.time()\n",
        "train_time_mnist = end_train - start_train\n",
        "\n",
        "#RF on Digits training\n",
        "start_train = time.time()\n",
        "rf_digits = RandomForestClassifier(random_state=42)\n",
        "rf_digits.fit(x_train_digits, y_train_digits)\n",
        "end_train = time.time()\n",
        "train_time_digits = end_train - start_train"
      ]
    },
    {
      "cell_type": "markdown",
      "id": "efa3f39e",
      "metadata": {
        "id": "efa3f39e",
        "papermill": {
          "duration": 0.013684,
          "end_time": "2025-03-22T16:41:15.748000",
          "exception": false,
          "start_time": "2025-03-22T16:41:15.734316",
          "status": "completed"
        },
        "tags": []
      },
      "source": [
        "**Training Logistic Regression on MNIST and digits dataset (pyspark)**"
      ]
    },
    {
      "cell_type": "code",
      "execution_count": null,
      "id": "6069f57b",
      "metadata": {
        "execution": {
          "iopub.execute_input": "2025-03-22T16:41:15.776903Z",
          "iopub.status.busy": "2025-03-22T16:41:15.776532Z",
          "iopub.status.idle": "2025-03-22T16:42:40.361198Z",
          "shell.execute_reply": "2025-03-22T16:42:40.359681Z"
        },
        "id": "6069f57b",
        "papermill": {
          "duration": 84.601768,
          "end_time": "2025-03-22T16:42:40.363466",
          "exception": false,
          "start_time": "2025-03-22T16:41:15.761698",
          "status": "completed"
        },
        "tags": []
      },
      "outputs": [],
      "source": [
        "#Initialize Spark session\n",
        "spark = SparkSession.builder \\\n",
        "    .appName(\"MNIST_Digits\") \\\n",
        "    .config(\"spark.executor.memory\", \"4g\") \\\n",
        "    .config(\"spark.driver.memory\", \"4g\") \\\n",
        "    .config(\"spark.executor.cores\", \"4\") \\\n",
        "    .config(\"spark.sql.shuffle.partitions\", \"64\") \\\n",
        "    .getOrCreate()\n",
        "\n",
        "#MNIST training data to Spark DataFrame\n",
        "train_data_mnist = spark.createDataFrame([\n",
        "    (int(y), Vectors.dense(x)) for x, y in zip(x_train_mnist_flattened, y_train_mnist)\n",
        "], [\"label\", \"features\"])\n",
        "\n",
        "# Convert MNIST test data to Spark DataFrame\n",
        "test_data_mnist = spark.createDataFrame([\n",
        "    (int(y), Vectors.dense(x)) for x, y in zip(x_test_mnist_flattened, y_test_mnist)\n",
        "], [\"label\", \"features\"])\n",
        "\n",
        "\n",
        "#digits training data to Spark DataFrame\n",
        "train_data_digits = spark.createDataFrame([\n",
        "    (int(y), Vectors.dense(x)) for x, y in zip(x_train_digits, y_train_digits)\n",
        "], [\"label\", \"features\"])\n",
        "\n",
        "#digits test data to Spark DataFrame\n",
        "test_data_digits = spark.createDataFrame([\n",
        "    (int(y), Vectors.dense(x)) for x, y in zip(x_test_digits, y_test_digits)\n",
        "], [\"label\", \"features\"])\n",
        "\n",
        "# Train Logistic Regression on MNIST\n",
        "start_train = time.time()\n",
        "lr_mnist = LogisticRegression(maxIter=10, regParam=0.01)\n",
        "lr_model_mnist = lr_mnist.fit(train_data_mnist)\n",
        "end_train = time.time()\n",
        "train_time_mnist_spark = end_train - start_train\n",
        "\n",
        "# Train Logistic Regression on digits\n",
        "start_train = time.time()\n",
        "lr_digits = LogisticRegression(maxIter=10, regParam=0.01)\n",
        "lr_model_digits = lr_digits.fit(train_data_digits)\n",
        "end_train = time.time()\n",
        "train_time_digits_spark = end_train - start_train"
      ]
    },
    {
      "cell_type": "markdown",
      "id": "01cd22ee",
      "metadata": {
        "id": "01cd22ee",
        "papermill": {
          "duration": 0.01375,
          "end_time": "2025-03-22T16:42:40.391962",
          "exception": false,
          "start_time": "2025-03-22T16:42:40.378212",
          "status": "completed"
        },
        "tags": []
      },
      "source": [
        "# Executing models for test data and showing output"
      ]
    },
    {
      "cell_type": "markdown",
      "id": "20b4d5b2",
      "metadata": {
        "id": "20b4d5b2",
        "papermill": {
          "duration": 0.013613,
          "end_time": "2025-03-22T16:42:40.419638",
          "exception": false,
          "start_time": "2025-03-22T16:42:40.406025",
          "status": "completed"
        },
        "tags": []
      },
      "source": [
        "**For random forest (scikit-learn)**"
      ]
    },
    {
      "cell_type": "code",
      "execution_count": null,
      "id": "b0063ffd",
      "metadata": {
        "execution": {
          "iopub.execute_input": "2025-03-22T16:42:40.449110Z",
          "iopub.status.busy": "2025-03-22T16:42:40.448739Z",
          "iopub.status.idle": "2025-03-22T16:42:41.045792Z",
          "shell.execute_reply": "2025-03-22T16:42:41.044269Z"
        },
        "id": "b0063ffd",
        "outputId": "bacd74f7-5b3d-4410-9435-50eb12d5b7e9",
        "papermill": {
          "duration": 0.614169,
          "end_time": "2025-03-22T16:42:41.047825",
          "exception": false,
          "start_time": "2025-03-22T16:42:40.433656",
          "status": "completed"
        },
        "tags": []
      },
      "outputs": [
        {
          "name": "stdout",
          "output_type": "stream",
          "text": [
            "----- Scikit-learn Random Forest Evaluation -----\n",
            "\n",
            "Evaluating Scikit-learn Random Forest for MNIST...\n",
            "Training time: 45.8784 seconds\n",
            "Prediction time: 0.4897 seconds\n",
            "\n",
            "Basic Classification Metrics:\n",
            "Accuracy: 0.9705\n",
            "Precision: 0.9705\n",
            "Recall: 0.9705\n",
            "F1 Score: 0.9705\n",
            "Cohen's Kappa: 0.9672\n",
            "\n",
            "Classification Report:\n",
            "              precision    recall  f1-score   support\n",
            "\n",
            "           0       0.97      0.99      0.98       980\n",
            "           1       0.99      0.99      0.99      1135\n",
            "           2       0.96      0.97      0.97      1032\n",
            "           3       0.96      0.96      0.96      1010\n",
            "           4       0.97      0.97      0.97       982\n",
            "           5       0.98      0.96      0.97       892\n",
            "           6       0.98      0.98      0.98       958\n",
            "           7       0.97      0.96      0.97      1028\n",
            "           8       0.96      0.95      0.96       974\n",
            "           9       0.96      0.95      0.96      1009\n",
            "\n",
            "    accuracy                           0.97     10000\n",
            "   macro avg       0.97      0.97      0.97     10000\n",
            "weighted avg       0.97      0.97      0.97     10000\n",
            "\n",
            "\n",
            "Confusion Matrix\n",
            "[[ 971    0    0    0    0    2    3    1    3    0]\n",
            " [   0 1127    2    2    0    1    2    0    1    0]\n",
            " [   6    0 1002    5    3    0    3    8    5    0]\n",
            " [   1    0    9  972    0    9    0    9    8    2]\n",
            " [   1    0    0    0  955    0    5    1    4   16]\n",
            " [   5    1    1    9    2  860    5    2    5    2]\n",
            " [   7    3    0    0    3    3  937    0    5    0]\n",
            " [   1    4   20    2    0    0    0  990    2    9]\n",
            " [   4    0    6    7    5    5    5    4  930    8]\n",
            " [   7    6    2   12   12    1    0    4    4  961]]\n",
            "\n",
            "Evaluating Scikit-learn Random Forest for Digits...\n",
            "Training time: 0.4011 seconds\n",
            "Prediction time: 0.0112 seconds\n",
            "\n",
            "Basic Classification Metrics:\n",
            "Accuracy: 0.9704\n",
            "Precision: 0.9715\n",
            "Recall: 0.9704\n",
            "F1 Score: 0.9702\n",
            "Cohen's Kappa: 0.9669\n",
            "\n",
            "Classification Report:\n",
            "              precision    recall  f1-score   support\n",
            "\n",
            "           0       1.00      0.96      0.98        23\n",
            "           1       0.90      1.00      0.95        18\n",
            "           2       1.00      1.00      1.00        26\n",
            "           3       0.96      1.00      0.98        24\n",
            "           4       0.97      1.00      0.99        37\n",
            "           5       0.94      1.00      0.97        33\n",
            "           6       1.00      0.97      0.98        30\n",
            "           7       0.96      0.96      0.96        26\n",
            "           8       1.00      0.89      0.94        19\n",
            "           9       0.97      0.91      0.94        34\n",
            "\n",
            "    accuracy                           0.97       270\n",
            "   macro avg       0.97      0.97      0.97       270\n",
            "weighted avg       0.97      0.97      0.97       270\n",
            "\n",
            "\n",
            "Confusion Matrix\n",
            "[[22  0  0  0  1  0  0  0  0  0]\n",
            " [ 0 18  0  0  0  0  0  0  0  0]\n",
            " [ 0  0 26  0  0  0  0  0  0  0]\n",
            " [ 0  0  0 24  0  0  0  0  0  0]\n",
            " [ 0  0  0  0 37  0  0  0  0  0]\n",
            " [ 0  0  0  0  0 33  0  0  0  0]\n",
            " [ 0  0  0  0  0  1 29  0  0  0]\n",
            " [ 0  0  0  0  0  0  0 25  0  1]\n",
            " [ 0  2  0  0  0  0  0  0 17  0]\n",
            " [ 0  0  0  1  0  1  0  1  0 31]]\n"
          ]
        }
      ],
      "source": [
        "# Scikit-learn Random Forest Evaluation for both datasets\n",
        "\n",
        "print(\"----- Scikit-learn Random Forest Evaluation -----\\n\")\n",
        "\n",
        "#Evaluate RF for MNIST\n",
        "print(\"Evaluating Scikit-learn Random Forest for MNIST...\")\n",
        "start_pred = time.time()\n",
        "y_pred_mnist_rf = rf_mnist.predict(x_test_mnist_flattened)\n",
        "end_pred = time.time()\n",
        "pred_time_mnist_rf = end_pred - start_pred\n",
        "print(f\"Training time: {train_time_mnist:.4f} seconds\")\n",
        "print(f\"Prediction time: {pred_time_mnist_rf:.4f} seconds\")\n",
        "\n",
        "#metrics for RF MNIST\n",
        "accuracy_mnist_rf = accuracy_score(y_test_mnist, y_pred_mnist_rf)\n",
        "precision_mnist_rf = precision_score(y_test_mnist, y_pred_mnist_rf, average='weighted')\n",
        "recall_mnist_rf = recall_score(y_test_mnist, y_pred_mnist_rf, average='weighted')\n",
        "f1_mnist_rf = f1_score(y_test_mnist, y_pred_mnist_rf, average='weighted')\n",
        "kappa_mnist_rf = cohen_kappa_score(y_test_mnist, y_pred_mnist_rf)\n",
        "\n",
        "print(\"\\nBasic Classification Metrics:\")\n",
        "print(f\"Accuracy: {accuracy_mnist_rf:.4f}\")\n",
        "print(f\"Precision: {precision_mnist_rf:.4f}\")\n",
        "print(f\"Recall: {recall_mnist_rf:.4f}\")\n",
        "print(f\"F1 Score: {f1_mnist_rf:.4f}\")\n",
        "print(f\"Cohen's Kappa: {kappa_mnist_rf:.4f}\")\n",
        "\n",
        "print(\"\\nClassification Report:\")\n",
        "print(classification_report(y_test_mnist, y_pred_mnist_rf))\n",
        "\n",
        "# Confusion Matrix for Scikit-learn RF MNIST\n",
        "cm_mnist_rf = confusion_matrix(y_test_mnist, y_pred_mnist_rf)\n",
        "print(\"\\nConfusion Matrix\")\n",
        "print(cm_mnist_rf)\n",
        "# plt.figure(figsize=(10, 8))\n",
        "# sns.heatmap(cm_mnist_rf, annot=True, fmt=\"d\", cmap=\"Blues\", xticklabels=range(10), yticklabels=range(10))\n",
        "# plt.title('Confusion Matrix - MNIST Random Forest (Scikit-learn)')\n",
        "# plt.ylabel('True Label')\n",
        "# plt.xlabel('Predicted Label')\n",
        "# plt.tight_layout()\n",
        "# plt.show()\n",
        "\n",
        "#Evaluate RF for Digits\n",
        "print(\"\\nEvaluating Scikit-learn Random Forest for Digits...\")\n",
        "start_pred = time.time()\n",
        "y_pred_digits_rf = rf_digits.predict(x_test_digits)\n",
        "end_pred = time.time()\n",
        "pred_time_digits_rf = end_pred - start_pred\n",
        "print(f\"Training time: {train_time_digits:.4f} seconds\")\n",
        "print(f\"Prediction time: {pred_time_digits_rf:.4f} seconds\")\n",
        "\n",
        "#metrics for RF Digits\n",
        "accuracy_digits_rf = accuracy_score(y_test_digits, y_pred_digits_rf)\n",
        "precision_digits_rf = precision_score(y_test_digits, y_pred_digits_rf, average='weighted')\n",
        "recall_digits_rf = recall_score(y_test_digits, y_pred_digits_rf, average='weighted')\n",
        "f1_digits_rf = f1_score(y_test_digits, y_pred_digits_rf, average='weighted')\n",
        "kappa_digits_rf = cohen_kappa_score(y_test_digits, y_pred_digits_rf)\n",
        "\n",
        "print(\"\\nBasic Classification Metrics:\")\n",
        "print(f\"Accuracy: {accuracy_digits_rf:.4f}\")\n",
        "print(f\"Precision: {precision_digits_rf:.4f}\")\n",
        "print(f\"Recall: {recall_digits_rf:.4f}\")\n",
        "print(f\"F1 Score: {f1_digits_rf:.4f}\")\n",
        "print(f\"Cohen's Kappa: {kappa_digits_rf:.4f}\")\n",
        "\n",
        "print(\"\\nClassification Report:\")\n",
        "print(classification_report(y_test_digits, y_pred_digits_rf))\n",
        "\n",
        "# Confusion Matrix for Scikit-learn RF Digits\n",
        "cm_digits_rf = confusion_matrix(y_test_digits, y_pred_digits_rf)\n",
        "print(\"\\nConfusion Matrix\")\n",
        "print(cm_digits_rf)\n",
        "# plt.figure(figsize=(10, 8))\n",
        "# sns.heatmap(cm_digits_rf, annot=True, fmt=\"d\", cmap=\"Blues\", xticklabels=range(10), yticklabels=range(10))\n",
        "# plt.title('Confusion Matrix - Digits Random Forest (Scikit-learn)')\n",
        "# plt.ylabel('True Label')\n",
        "# plt.xlabel('Predicted Label')\n",
        "# plt.tight_layout()\n",
        "# plt.show()\n",
        "\n",
        "# Save metrics for later comparison\n",
        "rf_metrics = {\n",
        "    'mnist': {\n",
        "        'accuracy': accuracy_mnist_rf,\n",
        "        'precision': precision_mnist_rf,\n",
        "        'recall': recall_mnist_rf,\n",
        "        'f1': f1_mnist_rf,\n",
        "        'kappa': kappa_mnist_rf,\n",
        "        'pred_time': pred_time_mnist_rf,\n",
        "        'train_time': train_time_mnist\n",
        "    },\n",
        "    'digits': {\n",
        "        'accuracy': accuracy_digits_rf,\n",
        "        'precision': precision_digits_rf,\n",
        "        'recall': recall_digits_rf,\n",
        "        'f1': f1_digits_rf,\n",
        "        'kappa': kappa_digits_rf,\n",
        "        'pred_time': pred_time_digits_rf,\n",
        "        'train_time': train_time_digits\n",
        "    }\n",
        "}"
      ]
    },
    {
      "cell_type": "markdown",
      "id": "acd97e76",
      "metadata": {
        "id": "acd97e76",
        "papermill": {
          "duration": 0.015876,
          "end_time": "2025-03-22T16:42:41.079457",
          "exception": false,
          "start_time": "2025-03-22T16:42:41.063581",
          "status": "completed"
        },
        "tags": []
      },
      "source": [
        "**For logistic regression (pyspark)**"
      ]
    },
    {
      "cell_type": "code",
      "execution_count": null,
      "id": "51ce5614",
      "metadata": {
        "execution": {
          "iopub.execute_input": "2025-03-22T16:42:41.120494Z",
          "iopub.status.busy": "2025-03-22T16:42:41.119930Z",
          "iopub.status.idle": "2025-03-22T16:42:54.876753Z",
          "shell.execute_reply": "2025-03-22T16:42:54.875746Z"
        },
        "id": "51ce5614",
        "outputId": "2fc4e89f-eb51-4443-b3dd-f19d9f141241",
        "papermill": {
          "duration": 13.780792,
          "end_time": "2025-03-22T16:42:54.878642",
          "exception": false,
          "start_time": "2025-03-22T16:42:41.097850",
          "status": "completed"
        },
        "tags": []
      },
      "outputs": [
        {
          "name": "stdout",
          "output_type": "stream",
          "text": [
            "----- PySpark Logistic Regression Evaluation -----\n",
            "\n",
            "Evaluating PySpark Logistic Regression for MNIST...\n",
            "Training time: 42.4732 seconds\n",
            "Prediction time: 0.0812 seconds\n",
            "\n",
            "Basic Classification Metrics:\n",
            "Accuracy: 0.9181\n",
            "Precision: 0.9179\n",
            "Recall: 0.9181\n",
            "F1 Score: 0.9177\n",
            "Cohen's Kappa: 0.9090\n",
            "\n",
            "Classification Report:\n",
            "              precision    recall  f1-score   support\n",
            "\n",
            "           0       0.94      0.98      0.96       980\n",
            "           1       0.94      0.97      0.96      1135\n",
            "           2       0.94      0.89      0.91      1032\n",
            "           3       0.91      0.91      0.91      1010\n",
            "           4       0.91      0.94      0.92       982\n",
            "           5       0.90      0.85      0.88       892\n",
            "           6       0.92      0.96      0.94       958\n",
            "           7       0.92      0.92      0.92      1028\n",
            "           8       0.89      0.86      0.87       974\n",
            "           9       0.90      0.90      0.90      1009\n",
            "\n",
            "    accuracy                           0.92     10000\n",
            "   macro avg       0.92      0.92      0.92     10000\n",
            "weighted avg       0.92      0.92      0.92     10000\n",
            "\n",
            "\n",
            "Confusion Matrix\n",
            "[[ 956    0    0    1    0    7   11    3    2    0]\n",
            " [   0 1106    2    2    1    1    4    2   17    0]\n",
            " [   9   12  915   16   10    3   14   14   33    6]\n",
            " [   3    3   18  917    3   23    3   14   16   10]\n",
            " [   2    5    4    0  919    1   13    3    4   31]\n",
            " [   9    4    1   36   13  762   19   12   29    7]\n",
            " [  12    4    5    1    7   10  915    2    2    0]\n",
            " [   3   17   21    6    5    0    1  944    0   31]\n",
            " [  12   16    8   18   14   29   11   13  840   13]\n",
            " [  14    8    1   11   35    7    0   20    6  907]]\n",
            "\n",
            "Evaluating PySpark Logistic Regression for Digits...\n",
            "Training time: 1.9521 seconds\n",
            "Prediction time: 0.1079 seconds\n",
            "\n",
            "Basic Classification Metrics:\n",
            "Accuracy: 0.9556\n",
            "Precision: 0.9571\n",
            "Recall: 0.9556\n",
            "F1 Score: 0.9557\n",
            "Cohen's Kappa: 0.9503\n",
            "\n",
            "Classification Report:\n",
            "              precision    recall  f1-score   support\n",
            "\n",
            "           0       1.00      1.00      1.00        23\n",
            "           1       0.94      0.94      0.94        18\n",
            "           2       0.93      1.00      0.96        26\n",
            "           3       1.00      0.88      0.93        24\n",
            "           4       0.97      0.97      0.97        37\n",
            "           5       0.91      0.94      0.93        33\n",
            "           6       1.00      0.97      0.98        30\n",
            "           7       1.00      0.96      0.98        26\n",
            "           8       0.90      0.95      0.92        19\n",
            "           9       0.91      0.94      0.93        34\n",
            "\n",
            "    accuracy                           0.96       270\n",
            "   macro avg       0.96      0.95      0.96       270\n",
            "weighted avg       0.96      0.96      0.96       270\n",
            "\n",
            "\n",
            "Confusion Matrix\n",
            "[[23  0  0  0  0  0  0  0  0  0]\n",
            " [ 0 17  1  0  0  0  0  0  0  0]\n",
            " [ 0  0 26  0  0  0  0  0  0  0]\n",
            " [ 0  0  1 21  0  1  0  0  1  0]\n",
            " [ 0  1  0  0 36  0  0  0  0  0]\n",
            " [ 0  0  0  0  0 31  0  0  0  2]\n",
            " [ 0  0  0  0  1  0 29  0  0  0]\n",
            " [ 0  0  0  0  0  0  0 25  0  1]\n",
            " [ 0  0  0  0  0  1  0  0 18  0]\n",
            " [ 0  0  0  0  0  1  0  0  1 32]]\n"
          ]
        }
      ],
      "source": [
        "print(\"----- PySpark Logistic Regression Evaluation -----\\n\")\n",
        "\n",
        "#PySpark LR for MNIST\n",
        "print(\"Evaluating PySpark Logistic Regression for MNIST...\")\n",
        "start_pred = time.time()\n",
        "predictions_mnist = lr_model_mnist.transform(test_data_mnist)\n",
        "end_pred = time.time()\n",
        "pred_time_mnist_spark = end_pred - start_pred\n",
        "print(f\"Training time: {train_time_mnist_spark:.4f} seconds\")\n",
        "print(f\"Prediction time: {pred_time_mnist_spark:.4f} seconds\")\n",
        "\n",
        "#metrics for PySpark LR MNIST\n",
        "pred_df_mnist = predictions_mnist.select(\"label\", \"prediction\").toPandas()\n",
        "y_true_mnist = pred_df_mnist[\"label\"].values\n",
        "y_pred_mnist = pred_df_mnist[\"prediction\"].values\n",
        "\n",
        "# PySpark evaluator for basic metrics\n",
        "evaluator = MulticlassClassificationEvaluator()\n",
        "accuracy_mnist_spark = evaluator.evaluate(predictions_mnist, {evaluator.metricName: \"accuracy\"})\n",
        "precision_mnist_spark = evaluator.evaluate(predictions_mnist, {evaluator.metricName: \"weightedPrecision\"})\n",
        "recall_mnist_spark = evaluator.evaluate(predictions_mnist, {evaluator.metricName: \"weightedRecall\"})\n",
        "f1_mnist_spark = evaluator.evaluate(predictions_mnist, {evaluator.metricName: \"f1\"})\n",
        "kappa_mnist_spark = cohen_kappa_score(y_true_mnist, y_pred_mnist)\n",
        "\n",
        "print(\"\\nBasic Classification Metrics:\")\n",
        "print(f\"Accuracy: {accuracy_mnist_spark:.4f}\")\n",
        "print(f\"Precision: {precision_mnist_spark:.4f}\")\n",
        "print(f\"Recall: {recall_mnist_spark:.4f}\")\n",
        "print(f\"F1 Score: {f1_mnist_spark:.4f}\")\n",
        "print(f\"Cohen's Kappa: {kappa_mnist_spark:.4f}\")\n",
        "\n",
        "print(\"\\nClassification Report:\")\n",
        "print(classification_report(y_true_mnist, y_pred_mnist))\n",
        "\n",
        "cm_mnist_spark = confusion_matrix(y_true_mnist, y_pred_mnist)\n",
        "print(\"\\nConfusion Matrix\")\n",
        "print(cm_mnist_spark)\n",
        "# plt.figure(figsize=(10, 8))\n",
        "# sns.heatmap(cm_mnist_spark, annot=True, fmt=\"d\", cmap=\"Blues\", xticklabels=range(10), yticklabels=range(10))\n",
        "# plt.title('Confusion Matrix - MNIST Logistic Regression (PySpark)')\n",
        "# plt.ylabel('True Label')\n",
        "# plt.xlabel('Predicted Label')\n",
        "# plt.tight_layout()\n",
        "# plt.show()\n",
        "\n",
        "#Evaluate PySpark LR for Digits\n",
        "print(\"\\nEvaluating PySpark Logistic Regression for Digits...\")\n",
        "start_pred = time.time()\n",
        "predictions_digits = lr_model_digits.transform(test_data_digits)\n",
        "end_pred = time.time()\n",
        "pred_time_digits_spark = end_pred - start_pred\n",
        "print(f\"Training time: {train_time_digits_spark:.4f} seconds\")\n",
        "print(f\"Prediction time: {pred_time_digits_spark:.4f} seconds\")\n",
        "\n",
        "#metrics for PySpark LR Digits\n",
        "pred_df_digits = predictions_digits.select(\"label\", \"prediction\").toPandas()\n",
        "y_true_digits = pred_df_digits[\"label\"].values\n",
        "y_pred_digits = pred_df_digits[\"prediction\"].values\n",
        "\n",
        "accuracy_digits_spark = evaluator.evaluate(predictions_digits, {evaluator.metricName: \"accuracy\"})\n",
        "precision_digits_spark = evaluator.evaluate(predictions_digits, {evaluator.metricName: \"weightedPrecision\"})\n",
        "recall_digits_spark = evaluator.evaluate(predictions_digits, {evaluator.metricName: \"weightedRecall\"})\n",
        "f1_digits_spark = evaluator.evaluate(predictions_digits, {evaluator.metricName: \"f1\"})\n",
        "kappa_digits_spark = cohen_kappa_score(y_true_digits, y_pred_digits)\n",
        "\n",
        "# Print metrics for PySpark LR Digits\n",
        "print(\"\\nBasic Classification Metrics:\")\n",
        "print(f\"Accuracy: {accuracy_digits_spark:.4f}\")\n",
        "print(f\"Precision: {precision_digits_spark:.4f}\")\n",
        "print(f\"Recall: {recall_digits_spark:.4f}\")\n",
        "print(f\"F1 Score: {f1_digits_spark:.4f}\")\n",
        "print(f\"Cohen's Kappa: {kappa_digits_spark:.4f}\")\n",
        "\n",
        "print(\"\\nClassification Report:\")\n",
        "print(classification_report(y_true_digits, y_pred_digits))\n",
        "\n",
        "# Confusion Matrix for PySpark LR Digits\n",
        "cm_digits_spark = confusion_matrix(y_true_digits, y_pred_digits)\n",
        "print(\"\\nConfusion Matrix\")\n",
        "print(cm_digits_spark)\n",
        "# plt.figure(figsize=(10, 8))\n",
        "# sns.heatmap(cm_digits_spark, annot=True, fmt=\"d\", cmap=\"Blues\", xticklabels=range(10), yticklabels=range(10))\n",
        "# plt.title('Confusion Matrix - Digits Logistic Regression (PySpark)')\n",
        "# plt.ylabel('True Label')\n",
        "# plt.xlabel('Predicted Label')\n",
        "# plt.tight_layout()\n",
        "# plt.show()\n",
        "\n",
        "# Save metrics for later comparison\n",
        "spark_metrics = {\n",
        "    'mnist': {\n",
        "        'accuracy': accuracy_mnist_spark,\n",
        "        'precision': precision_mnist_spark,\n",
        "        'recall': recall_mnist_spark,\n",
        "        'f1': f1_mnist_spark,\n",
        "        'kappa': kappa_mnist_spark,\n",
        "        'pred_time': pred_time_mnist_spark,\n",
        "        'train_time': train_time_mnist_spark\n",
        "    },\n",
        "    'digits': {\n",
        "        'accuracy': accuracy_digits_spark,\n",
        "        'precision': precision_digits_spark,\n",
        "        'recall': recall_digits_spark,\n",
        "        'f1': f1_digits_spark,\n",
        "        'kappa': kappa_digits_spark,\n",
        "        'pred_time': pred_time_digits_spark,\n",
        "        'train_time': train_time_digits_spark\n",
        "    }\n",
        "}\n",
        "\n",
        "spark.stop()"
      ]
    },
    {
      "cell_type": "markdown",
      "id": "92ae3765",
      "metadata": {
        "id": "92ae3765",
        "papermill": {
          "duration": 0.014453,
          "end_time": "2025-03-22T16:42:54.908492",
          "exception": false,
          "start_time": "2025-03-22T16:42:54.894039",
          "status": "completed"
        },
        "tags": []
      },
      "source": [
        "# Evaluation and Comparison of all the models with classification metrics"
      ]
    },
    {
      "cell_type": "code",
      "execution_count": null,
      "id": "7b18e8cc",
      "metadata": {
        "execution": {
          "iopub.execute_input": "2025-03-22T16:42:54.939261Z",
          "iopub.status.busy": "2025-03-22T16:42:54.938839Z",
          "iopub.status.idle": "2025-03-22T16:42:54.965154Z",
          "shell.execute_reply": "2025-03-22T16:42:54.963987Z"
        },
        "id": "7b18e8cc",
        "outputId": "40124f1f-047e-4624-ff24-97e58d8bf5fc",
        "papermill": {
          "duration": 0.04367,
          "end_time": "2025-03-22T16:42:54.967069",
          "exception": false,
          "start_time": "2025-03-22T16:42:54.923399",
          "status": "completed"
        },
        "tags": []
      },
      "outputs": [
        {
          "name": "stdout",
          "output_type": "stream",
          "text": [
            "----- Overall Model Comparison -----\n",
            "\n",
            "  Dataset            Model  Accuracy  Precision    Recall        F1     Kappa  \\\n",
            "0   MNIST       PySpark LR  0.918100   0.917884  0.918100  0.917728  0.908958   \n",
            "1   MNIST  Scikit-learn RF  0.970500   0.970496  0.970500  0.970472  0.967209   \n",
            "2  Digits       PySpark LR  0.955556   0.957099  0.955556  0.955670  0.950333   \n",
            "3  Digits  Scikit-learn RF  0.970370   0.971549  0.970370  0.970234  0.966891   \n",
            "\n",
            "   Train Time  Pred Time  \n",
            "0   42.473245   0.081233  \n",
            "1   45.878416   0.489730  \n",
            "2    1.952087   0.107942  \n",
            "3    0.401121   0.011242  \n",
            "\n",
            "Summary:\n",
            "- Best accuracy achieved by MNIST RF with 0.9705\n",
            "- Fastest prediction time achieved by Digits RF with 0.0112 seconds\n",
            "\n",
            "On MNIST dataset:\n",
            "- Random Forest outperforms Logistic Regression by 0.0524 in accuracy\n",
            "\n",
            "On Digits dataset:\n",
            "- Random Forest outperforms Logistic Regression by 0.0148 in accuracy\n"
          ]
        }
      ],
      "source": [
        "# Overall Comparison df\n",
        "print(\"----- Overall Model Comparison -----\\n\")\n",
        "\n",
        "#metrics data\n",
        "data = [\n",
        "    {\n",
        "        \"Dataset\": \"MNIST\",\n",
        "        \"Model\": \"PySpark LR\",\n",
        "        \"Accuracy\": spark_metrics['mnist']['accuracy'],\n",
        "        \"Precision\": spark_metrics['mnist']['precision'],\n",
        "        \"Recall\": spark_metrics['mnist']['recall'],\n",
        "        \"F1\": spark_metrics['mnist']['f1'],\n",
        "        \"Kappa\": spark_metrics['mnist']['kappa'],\n",
        "        \"Train Time\": spark_metrics['mnist']['train_time'],\n",
        "        \"Pred Time\": spark_metrics['mnist']['pred_time']\n",
        "    },\n",
        "    {\n",
        "        \"Dataset\": \"MNIST\",\n",
        "        \"Model\": \"Scikit-learn RF\",\n",
        "        \"Accuracy\": rf_metrics['mnist']['accuracy'],\n",
        "        \"Precision\": rf_metrics['mnist']['precision'],\n",
        "        \"Recall\": rf_metrics['mnist']['recall'],\n",
        "        \"F1\": rf_metrics['mnist']['f1'],\n",
        "        \"Kappa\": rf_metrics['mnist']['kappa'],\n",
        "        \"Train Time\": rf_metrics['mnist']['train_time'],\n",
        "        \"Pred Time\": rf_metrics['mnist']['pred_time']\n",
        "    },\n",
        "    {\n",
        "        \"Dataset\": \"Digits\",\n",
        "        \"Model\": \"PySpark LR\",\n",
        "        \"Accuracy\": spark_metrics['digits']['accuracy'],\n",
        "        \"Precision\": spark_metrics['digits']['precision'],\n",
        "        \"Recall\": spark_metrics['digits']['recall'],\n",
        "        \"F1\": spark_metrics['digits']['f1'],\n",
        "        \"Kappa\": spark_metrics['digits']['kappa'],\n",
        "        \"Train Time\": spark_metrics['digits']['train_time'],\n",
        "        \"Pred Time\": spark_metrics['digits']['pred_time']\n",
        "    },\n",
        "    {\n",
        "        \"Dataset\": \"Digits\",\n",
        "        \"Model\": \"Scikit-learn RF\",\n",
        "        \"Accuracy\": rf_metrics['digits']['accuracy'],\n",
        "        \"Precision\": rf_metrics['digits']['precision'],\n",
        "        \"Recall\": rf_metrics['digits']['recall'],\n",
        "        \"F1\": rf_metrics['digits']['f1'],\n",
        "        \"Kappa\": rf_metrics['digits']['kappa'],\n",
        "        \"Train Time\": rf_metrics['digits']['train_time'],\n",
        "        \"Pred Time\": rf_metrics['digits']['pred_time']\n",
        "    }\n",
        "]\n",
        "\n",
        "df = pd.DataFrame(data)\n",
        "print(df)\n",
        "\n",
        "\n",
        "print(\"\\nSummary:\")\n",
        "best_accuracy_model = max([\n",
        "    (\"MNIST LR\", spark_metrics['mnist']['accuracy']),\n",
        "    (\"MNIST RF\", rf_metrics['mnist']['accuracy']),\n",
        "    (\"Digits LR\", spark_metrics['digits']['accuracy']),\n",
        "    (\"Digits RF\", rf_metrics['digits']['accuracy'])\n",
        "], key=lambda x: x[1])\n",
        "\n",
        "fastest_model = min([\n",
        "    (\"MNIST LR\", spark_metrics['mnist']['pred_time']),\n",
        "    (\"MNIST RF\", rf_metrics['mnist']['pred_time']),\n",
        "    (\"Digits LR\", spark_metrics['digits']['pred_time']),\n",
        "    (\"Digits RF\", rf_metrics['digits']['pred_time'])\n",
        "], key=lambda x: x[1])\n",
        "\n",
        "print(f\"- Best accuracy achieved by {best_accuracy_model[0]} with {best_accuracy_model[1]:.4f}\")\n",
        "print(f\"- Fastest prediction time achieved by {fastest_model[0]} with {fastest_model[1]:.4f} seconds\")\n",
        "\n",
        "# MNIST dataset comparison\n",
        "print(\"\\nOn MNIST dataset:\")\n",
        "if spark_metrics['mnist']['accuracy'] > rf_metrics['mnist']['accuracy']:\n",
        "    diff = spark_metrics['mnist']['accuracy'] - rf_metrics['mnist']['accuracy']\n",
        "    print(f\"- Logistic Regression outperforms Random Forest by {diff:.4f} in accuracy\")\n",
        "else:\n",
        "    diff = rf_metrics['mnist']['accuracy'] - spark_metrics['mnist']['accuracy']\n",
        "    print(f\"- Random Forest outperforms Logistic Regression by {diff:.4f} in accuracy\")\n",
        "\n",
        "# Digits dataset comparison\n",
        "print(\"\\nOn Digits dataset:\")\n",
        "if spark_metrics['digits']['accuracy'] > rf_metrics['digits']['accuracy']:\n",
        "    diff = spark_metrics['digits']['accuracy'] - rf_metrics['digits']['accuracy']\n",
        "    print(f\"- Logistic Regression outperforms Random Forest by {diff:.4f} in accuracy\")\n",
        "else:\n",
        "    diff = rf_metrics['digits']['accuracy'] - spark_metrics['digits']['accuracy']\n",
        "    print(f\"- Random Forest outperforms Logistic Regression by {diff:.4f} in accuracy\")"
      ]
    },
    {
      "cell_type": "markdown",
      "id": "3d38cb03",
      "metadata": {
        "id": "3d38cb03",
        "papermill": {
          "duration": 0.014519,
          "end_time": "2025-03-22T16:42:54.996389",
          "exception": false,
          "start_time": "2025-03-22T16:42:54.981870",
          "status": "completed"
        },
        "tags": []
      },
      "source": [
        "# Optional- Fine tuning hyper parameters (only for scikit-learn model, on both datasets)"
      ]
    },
    {
      "cell_type": "code",
      "execution_count": null,
      "id": "bdf1381a",
      "metadata": {
        "execution": {
          "iopub.execute_input": "2025-03-22T16:42:55.027726Z",
          "iopub.status.busy": "2025-03-22T16:42:55.027339Z",
          "iopub.status.idle": "2025-03-22T16:42:55.032332Z",
          "shell.execute_reply": "2025-03-22T16:42:55.031008Z"
        },
        "id": "bdf1381a",
        "papermill": {
          "duration": 0.022854,
          "end_time": "2025-03-22T16:42:55.034255",
          "exception": false,
          "start_time": "2025-03-22T16:42:55.011401",
          "status": "completed"
        },
        "tags": []
      },
      "outputs": [],
      "source": [
        "param_grid_rf = {\n",
        "    'n_estimators': [200,300],\n",
        "    'max_depth': [None,10],\n",
        "    'max_features': ['sqrt', 'log2'],\n",
        "    'bootstrap': [True, False]\n",
        "}"
      ]
    },
    {
      "cell_type": "code",
      "execution_count": null,
      "id": "ad930472",
      "metadata": {
        "execution": {
          "iopub.execute_input": "2025-03-22T16:42:55.066060Z",
          "iopub.status.busy": "2025-03-22T16:42:55.065660Z",
          "iopub.status.idle": "2025-03-22T18:07:38.469710Z",
          "shell.execute_reply": "2025-03-22T18:07:38.468243Z"
        },
        "id": "ad930472",
        "outputId": "06da1761-c8ec-4949-a420-a38b25ec8ff6",
        "papermill": {
          "duration": 5083.435242,
          "end_time": "2025-03-22T18:07:38.484972",
          "exception": false,
          "start_time": "2025-03-22T16:42:55.049730",
          "status": "completed"
        },
        "tags": []
      },
      "outputs": [
        {
          "name": "stdout",
          "output_type": "stream",
          "text": [
            "Fitting 10 folds for each of 16 candidates, totalling 160 fits\n"
          ]
        },
        {
          "name": "stderr",
          "output_type": "stream",
          "text": [
            "/usr/local/lib/python3.10/dist-packages/joblib/externals/loky/process_executor.py:752: UserWarning: A worker stopped while some jobs were given to the executor. This can be caused by a too short worker timeout or by a memory leak.\n",
            "  warnings.warn(\n"
          ]
        },
        {
          "name": "stdout",
          "output_type": "stream",
          "text": [
            "-------------For MNIST Dataset--------------\n",
            "Random Forest - Best Parameters: {'bootstrap': False, 'max_depth': None, 'max_features': 'sqrt', 'n_estimators': 300}\n",
            "Random Forest - Best Cross-Validation Accuracy: 0.9736499999999999\n",
            "Random Forest - Test Accuracy: 0.9734\n",
            "Random Forest - Classification Report:\n",
            "              precision    recall  f1-score   support\n",
            "\n",
            "           0       0.98      0.99      0.98       980\n",
            "           1       0.99      0.99      0.99      1135\n",
            "           2       0.97      0.97      0.97      1032\n",
            "           3       0.97      0.97      0.97      1010\n",
            "           4       0.97      0.98      0.98       982\n",
            "           5       0.98      0.97      0.97       892\n",
            "           6       0.98      0.98      0.98       958\n",
            "           7       0.97      0.97      0.97      1028\n",
            "           8       0.96      0.96      0.96       974\n",
            "           9       0.96      0.96      0.96      1009\n",
            "\n",
            "    accuracy                           0.97     10000\n",
            "   macro avg       0.97      0.97      0.97     10000\n",
            "weighted avg       0.97      0.97      0.97     10000\n",
            "\n",
            "Fitting 10 folds for each of 16 candidates, totalling 160 fits\n",
            "-------------For Digits Dataset--------------\n",
            "Random Forest (Digits) - Best Parameters: {'bootstrap': False, 'max_depth': None, 'max_features': 'log2', 'n_estimators': 300}\n",
            "Random Forest (Digits) - Best Cross-Validation Accuracy: 0.9810414516683867\n",
            "Random Forest (Digits) - Test Accuracy: 0.9740740740740741\n",
            "Random Forest (Digits) - Classification Report:\n",
            "              precision    recall  f1-score   support\n",
            "\n",
            "           0       1.00      0.96      0.98        23\n",
            "           1       0.95      1.00      0.97        18\n",
            "           2       1.00      1.00      1.00        26\n",
            "           3       1.00      0.96      0.98        24\n",
            "           4       0.97      1.00      0.99        37\n",
            "           5       0.92      1.00      0.96        33\n",
            "           6       1.00      0.97      0.98        30\n",
            "           7       0.96      0.96      0.96        26\n",
            "           8       1.00      0.95      0.97        19\n",
            "           9       0.97      0.94      0.96        34\n",
            "\n",
            "    accuracy                           0.97       270\n",
            "   macro avg       0.98      0.97      0.97       270\n",
            "weighted avg       0.98      0.97      0.97       270\n",
            "\n"
          ]
        }
      ],
      "source": [
        "rf = RandomForestClassifier(random_state=42)\n",
        "\n",
        "#GridSearchCV with 10-fold cross-validation\n",
        "grid_search_rf = GridSearchCV(\n",
        "    estimator=rf,\n",
        "    param_grid=param_grid_rf,\n",
        "    cv=StratifiedKFold(n_splits=10, shuffle=True, random_state=42),\n",
        "    scoring='accuracy',\n",
        "    n_jobs=-1,\n",
        "    verbose=2\n",
        ")\n",
        "\n",
        "\n",
        "# Fit GridSearchCV on MNIST training data\n",
        "grid_search_rf.fit(x_train_mnist_flattened, y_train_mnist)\n",
        "print(\"-------------For MNIST Dataset--------------\")\n",
        "# Best parameters and cross-validation score\n",
        "print(\"Random Forest - Best Parameters:\", grid_search_rf.best_params_)\n",
        "print(\"Random Forest - Best Cross-Validation Accuracy:\", grid_search_rf.best_score_)\n",
        "\n",
        "# Evaluate on MNIST test data\n",
        "y_test_pred_rf = grid_search_rf.predict(x_test_mnist_flattened)\n",
        "print(\"Random Forest - Test Accuracy:\", accuracy_score(y_test_mnist, y_test_pred_rf))\n",
        "print(\"Random Forest - Classification Report:\")\n",
        "print(classification_report(y_test_mnist, y_test_pred_rf))\n",
        "\n",
        "#Now on the digits dataset\n",
        "grid_search_rf_digits = GridSearchCV(\n",
        "    estimator=rf,\n",
        "    param_grid=param_grid_rf,\n",
        "    cv=StratifiedKFold(n_splits=10, shuffle=True, random_state=42),\n",
        "    scoring='accuracy',\n",
        "    n_jobs=-1,\n",
        "    verbose=2\n",
        ")\n",
        "\n",
        "# Fit GridSearchCV on digits training data\n",
        "grid_search_rf_digits.fit(x_train_digits, y_train_digits)\n",
        "print(\"-------------For Digits Dataset--------------\")\n",
        "# Best parameters and cross-validation score for digits dataset\n",
        "print(\"Random Forest (Digits) - Best Parameters:\", grid_search_rf_digits.best_params_)\n",
        "print(\"Random Forest (Digits) - Best Cross-Validation Accuracy:\", grid_search_rf_digits.best_score_)\n",
        "\n",
        "# Evaluate on digits test data\n",
        "y_test_pred_rf_digits = grid_search_rf_digits.predict(x_test_digits)\n",
        "print(\"Random Forest (Digits) - Test Accuracy:\", accuracy_score(y_test_digits, y_test_pred_rf_digits))\n",
        "print(\"Random Forest (Digits) - Classification Report:\")\n",
        "print(classification_report(y_test_digits, y_test_pred_rf_digits))"
      ]
    },
    {
      "cell_type": "markdown",
      "id": "7246a9b7",
      "metadata": {
        "papermill": {
          "duration": 0.014717,
          "end_time": "2025-03-22T18:07:38.515324",
          "exception": false,
          "start_time": "2025-03-22T18:07:38.500607",
          "status": "completed"
        },
        "tags": [],
        "id": "7246a9b7"
      },
      "source": [
        "# **WEEK 2**"
      ]
    },
    {
      "cell_type": "markdown",
      "id": "6a5f248d",
      "metadata": {
        "papermill": {
          "duration": 0.015291,
          "end_time": "2025-03-22T18:07:38.545926",
          "exception": false,
          "start_time": "2025-03-22T18:07:38.530635",
          "status": "completed"
        },
        "tags": [],
        "id": "6a5f248d"
      },
      "source": [
        "# CNN Model"
      ]
    },
    {
      "cell_type": "code",
      "execution_count": null,
      "id": "4a3fb405",
      "metadata": {
        "execution": {
          "iopub.execute_input": "2025-03-22T18:07:38.578168Z",
          "iopub.status.busy": "2025-03-22T18:07:38.577677Z",
          "iopub.status.idle": "2025-03-22T18:07:38.585511Z",
          "shell.execute_reply": "2025-03-22T18:07:38.584287Z"
        },
        "id": "4a3fb405",
        "papermill": {
          "duration": 0.026566,
          "end_time": "2025-03-22T18:07:38.587478",
          "exception": false,
          "start_time": "2025-03-22T18:07:38.560912",
          "status": "completed"
        },
        "tags": []
      },
      "outputs": [],
      "source": [
        "def create_cnn_model(input_shape):\n",
        "    model = keras.Sequential([\n",
        "        #reshape\n",
        "        layers.Reshape(input_shape + (1,), input_shape=(np.prod(input_shape),)),\n",
        "\n",
        "        #conv 1\n",
        "        layers.Conv2D(32, kernel_size=(3, 3), activation='relu', padding='same'),\n",
        "        layers.MaxPooling2D(pool_size=(2, 2)),\n",
        "\n",
        "        #conv 2\n",
        "        layers.Conv2D(64, kernel_size=(3, 3), activation='relu', padding='same'),\n",
        "        layers.MaxPooling2D(pool_size=(2, 2)),\n",
        "\n",
        "        # Flatten for dense layers\n",
        "        layers.Flatten(),\n",
        "\n",
        "        #dense 1\n",
        "        layers.Dense(128, activation='relu'),\n",
        "\n",
        "        #output dense 2\n",
        "        layers.Dense(10, activation='softmax')\n",
        "    ])\n",
        "\n",
        "    #compile\n",
        "    model.compile(\n",
        "        optimizer='adam',\n",
        "        loss='sparse_categorical_crossentropy',\n",
        "        metrics=['accuracy']\n",
        "    )\n",
        "\n",
        "    return model"
      ]
    },
    {
      "cell_type": "markdown",
      "id": "5ef0cfd1",
      "metadata": {
        "papermill": {
          "duration": 0.014872,
          "end_time": "2025-03-22T18:07:38.617641",
          "exception": false,
          "start_time": "2025-03-22T18:07:38.602769",
          "status": "completed"
        },
        "tags": [],
        "id": "5ef0cfd1"
      },
      "source": [
        "# Digits 8x8 pixels images."
      ]
    },
    {
      "cell_type": "code",
      "execution_count": null,
      "id": "08dc000c",
      "metadata": {
        "execution": {
          "iopub.execute_input": "2025-03-22T18:07:38.651050Z",
          "iopub.status.busy": "2025-03-22T18:07:38.650609Z",
          "iopub.status.idle": "2025-03-22T18:07:39.515517Z",
          "shell.execute_reply": "2025-03-22T18:07:39.514330Z"
        },
        "papermill": {
          "duration": 0.883886,
          "end_time": "2025-03-22T18:07:39.517578",
          "exception": false,
          "start_time": "2025-03-22T18:07:38.633692",
          "status": "completed"
        },
        "tags": [],
        "id": "08dc000c",
        "outputId": "85527c4b-b0b0-49ce-c268-816805f4f4a0"
      },
      "outputs": [
        {
          "data": {
            "image/png": "[encoded data removed]",
            "text/plain": [
              "<Figure size 1000x500 with 10 Axes>"
            ]
          },
          "metadata": {},
          "output_type": "display_data"
        }
      ],
      "source": [
        "# Reshape from (n_samples, 64) to (n_samples, 8, 8)\n",
        "x_digits_reshaped = x_digits.reshape(-1, 8, 8)\n",
        "\n",
        "# For visualization\n",
        "plt.figure(figsize=(10, 5))\n",
        "for i in range(10):\n",
        "    plt.subplot(2, 5, i+1)\n",
        "    plt.imshow(x_digits_reshaped[y_digits == i][0], cmap='gray')\n",
        "    plt.title(f'Digit: {i}')\n",
        "    plt.axis('off')\n",
        "plt.tight_layout()\n",
        "plt.show()"
      ]
    },
    {
      "cell_type": "markdown",
      "id": "02b9728a",
      "metadata": {
        "papermill": {
          "duration": 0.01602,
          "end_time": "2025-03-22T18:07:39.549735",
          "exception": false,
          "start_time": "2025-03-22T18:07:39.533715",
          "status": "completed"
        },
        "tags": [],
        "id": "02b9728a"
      },
      "source": [
        "**Normalizing for faster convergence**"
      ]
    },
    {
      "cell_type": "code",
      "execution_count": null,
      "id": "04f8ff88",
      "metadata": {
        "execution": {
          "iopub.execute_input": "2025-03-22T18:07:39.582417Z",
          "iopub.status.busy": "2025-03-22T18:07:39.581967Z",
          "iopub.status.idle": "2025-03-22T18:07:39.770683Z",
          "shell.execute_reply": "2025-03-22T18:07:39.769316Z"
        },
        "papermill": {
          "duration": 0.207766,
          "end_time": "2025-03-22T18:07:39.772934",
          "exception": false,
          "start_time": "2025-03-22T18:07:39.565168",
          "status": "completed"
        },
        "tags": [],
        "id": "04f8ff88"
      },
      "outputs": [],
      "source": [
        "x_train_digits = x_train_digits / 16.0\n",
        "x_test_digits = x_test_digits / 16.0\n",
        "x_train_mnist_flattened = x_train_mnist_flattened / 255.0\n",
        "x_test_mnist_flattened = x_test_mnist_flattened / 255.0"
      ]
    },
    {
      "cell_type": "markdown",
      "id": "aa10d474",
      "metadata": {
        "papermill": {
          "duration": 0.015302,
          "end_time": "2025-03-22T18:07:39.804309",
          "exception": false,
          "start_time": "2025-03-22T18:07:39.789007",
          "status": "completed"
        },
        "tags": [],
        "id": "aa10d474"
      },
      "source": [
        "# Training with CNN"
      ]
    },
    {
      "cell_type": "code",
      "execution_count": null,
      "id": "f0e8fe49",
      "metadata": {
        "execution": {
          "iopub.execute_input": "2025-03-22T18:07:39.837010Z",
          "iopub.status.busy": "2025-03-22T18:07:39.836506Z",
          "iopub.status.idle": "2025-03-22T18:13:11.552814Z",
          "shell.execute_reply": "2025-03-22T18:13:11.551581Z"
        },
        "papermill": {
          "duration": 331.735415,
          "end_time": "2025-03-22T18:13:11.555115",
          "exception": false,
          "start_time": "2025-03-22T18:07:39.819700",
          "status": "completed"
        },
        "tags": [],
        "id": "f0e8fe49",
        "outputId": "a387c1c9-268d-4d0a-b94c-4e07c73bf8aa"
      },
      "outputs": [
        {
          "name": "stdout",
          "output_type": "stream",
          "text": [
            "Digits Model Summary:\n"
          ]
        },
        {
          "name": "stderr",
          "output_type": "stream",
          "text": [
            "/usr/local/lib/python3.10/dist-packages/keras/src/layers/reshaping/reshape.py:39: UserWarning: Do not pass an `input_shape`/`input_dim` argument to a layer. When using Sequential models, prefer using an `Input(shape)` object as the first layer in the model instead.\n",
            "  super().__init__(**kwargs)\n"
          ]
        },
        {
          "data": {
            "text/html": [
              "<pre style=\"white-space:pre;overflow-x:auto;line-height:normal;font-family:Menlo,'DejaVu Sans Mono',consolas,'Courier New',monospace\"><span style=\"font-weight: bold\">Model: \"sequential\"</span>\n",
              "</pre>\n"
            ],
            "text/plain": [
              "\u001b[1mModel: \"sequential\"\u001b[0m\n"
            ]
          },
          "metadata": {},
          "output_type": "display_data"
        },
        {
          "data": {
            "text/html": [
              "<pre style=\"white-space:pre;overflow-x:auto;line-height:normal;font-family:Menlo,'DejaVu Sans Mono',consolas,'Courier New',monospace\">┏━━━━━━━━━━━━━━━━━━━━━━━━━━━━━━━━━━━━━━┳━━━━━━━━━━━━━━━━━━━━━━━━━━━━━┳━━━━━━━━━━━━━━━━━┓\n",
              "┃<span style=\"font-weight: bold\"> Layer (type)                         </span>┃<span style=\"font-weight: bold\"> Output Shape                </span>┃<span style=\"font-weight: bold\">         Param # </span>┃\n",
              "┡━━━━━━━━━━━━━━━━━━━━━━━━━━━━━━━━━━━━━━╇━━━━━━━━━━━━━━━━━━━━━━━━━━━━━╇━━━━━━━━━━━━━━━━━┩\n",
              "│ reshape (<span style=\"color: #0087ff; text-decoration-color: #0087ff\">Reshape</span>)                    │ (<span style=\"color: #00d7ff; text-decoration-color: #00d7ff\">None</span>, <span style=\"color: #00af00; text-decoration-color: #00af00\">8</span>, <span style=\"color: #00af00; text-decoration-color: #00af00\">8</span>, <span style=\"color: #00af00; text-decoration-color: #00af00\">1</span>)             │               <span style=\"color: #00af00; text-decoration-color: #00af00\">0</span> │\n",
              "├──────────────────────────────────────┼─────────────────────────────┼─────────────────┤\n",
              "│ conv2d (<span style=\"color: #0087ff; text-decoration-color: #0087ff\">Conv2D</span>)                      │ (<span style=\"color: #00d7ff; text-decoration-color: #00d7ff\">None</span>, <span style=\"color: #00af00; text-decoration-color: #00af00\">8</span>, <span style=\"color: #00af00; text-decoration-color: #00af00\">8</span>, <span style=\"color: #00af00; text-decoration-color: #00af00\">32</span>)            │             <span style=\"color: #00af00; text-decoration-color: #00af00\">320</span> │\n",
              "├──────────────────────────────────────┼─────────────────────────────┼─────────────────┤\n",
              "│ max_pooling2d (<span style=\"color: #0087ff; text-decoration-color: #0087ff\">MaxPooling2D</span>)         │ (<span style=\"color: #00d7ff; text-decoration-color: #00d7ff\">None</span>, <span style=\"color: #00af00; text-decoration-color: #00af00\">4</span>, <span style=\"color: #00af00; text-decoration-color: #00af00\">4</span>, <span style=\"color: #00af00; text-decoration-color: #00af00\">32</span>)            │               <span style=\"color: #00af00; text-decoration-color: #00af00\">0</span> │\n",
              "├──────────────────────────────────────┼─────────────────────────────┼─────────────────┤\n",
              "│ conv2d_1 (<span style=\"color: #0087ff; text-decoration-color: #0087ff\">Conv2D</span>)                    │ (<span style=\"color: #00d7ff; text-decoration-color: #00d7ff\">None</span>, <span style=\"color: #00af00; text-decoration-color: #00af00\">4</span>, <span style=\"color: #00af00; text-decoration-color: #00af00\">4</span>, <span style=\"color: #00af00; text-decoration-color: #00af00\">64</span>)            │          <span style=\"color: #00af00; text-decoration-color: #00af00\">18,496</span> │\n",
              "├──────────────────────────────────────┼─────────────────────────────┼─────────────────┤\n",
              "│ max_pooling2d_1 (<span style=\"color: #0087ff; text-decoration-color: #0087ff\">MaxPooling2D</span>)       │ (<span style=\"color: #00d7ff; text-decoration-color: #00d7ff\">None</span>, <span style=\"color: #00af00; text-decoration-color: #00af00\">2</span>, <span style=\"color: #00af00; text-decoration-color: #00af00\">2</span>, <span style=\"color: #00af00; text-decoration-color: #00af00\">64</span>)            │               <span style=\"color: #00af00; text-decoration-color: #00af00\">0</span> │\n",
              "├──────────────────────────────────────┼─────────────────────────────┼─────────────────┤\n",
              "│ flatten (<span style=\"color: #0087ff; text-decoration-color: #0087ff\">Flatten</span>)                    │ (<span style=\"color: #00d7ff; text-decoration-color: #00d7ff\">None</span>, <span style=\"color: #00af00; text-decoration-color: #00af00\">256</span>)                 │               <span style=\"color: #00af00; text-decoration-color: #00af00\">0</span> │\n",
              "├──────────────────────────────────────┼─────────────────────────────┼─────────────────┤\n",
              "│ dense (<span style=\"color: #0087ff; text-decoration-color: #0087ff\">Dense</span>)                        │ (<span style=\"color: #00d7ff; text-decoration-color: #00d7ff\">None</span>, <span style=\"color: #00af00; text-decoration-color: #00af00\">128</span>)                 │          <span style=\"color: #00af00; text-decoration-color: #00af00\">32,896</span> │\n",
              "├──────────────────────────────────────┼─────────────────────────────┼─────────────────┤\n",
              "│ dense_1 (<span style=\"color: #0087ff; text-decoration-color: #0087ff\">Dense</span>)                      │ (<span style=\"color: #00d7ff; text-decoration-color: #00d7ff\">None</span>, <span style=\"color: #00af00; text-decoration-color: #00af00\">10</span>)                  │           <span style=\"color: #00af00; text-decoration-color: #00af00\">1,290</span> │\n",
              "└──────────────────────────────────────┴─────────────────────────────┴─────────────────┘\n",
              "</pre>\n"
            ],
            "text/plain": [
              "┏━━━━━━━━━━━━━━━━━━━━━━━━━━━━━━━━━━━━━━┳━━━━━━━━━━━━━━━━━━━━━━━━━━━━━┳━━━━━━━━━━━━━━━━━┓\n",
              "┃\u001b[1m \u001b[0m\u001b[1mLayer (type)                        \u001b[0m\u001b[1m \u001b[0m┃\u001b[1m \u001b[0m\u001b[1mOutput Shape               \u001b[0m\u001b[1m \u001b[0m┃\u001b[1m \u001b[0m\u001b[1m        Param #\u001b[0m\u001b[1m \u001b[0m┃\n",
              "┡━━━━━━━━━━━━━━━━━━━━━━━━━━━━━━━━━━━━━━╇━━━━━━━━━━━━━━━━━━━━━━━━━━━━━╇━━━━━━━━━━━━━━━━━┩\n",
              "│ reshape (\u001b[38;5;33mReshape\u001b[0m)                    │ (\u001b[38;5;45mNone\u001b[0m, \u001b[38;5;34m8\u001b[0m, \u001b[38;5;34m8\u001b[0m, \u001b[38;5;34m1\u001b[0m)             │               \u001b[38;5;34m0\u001b[0m │\n",
              "├──────────────────────────────────────┼─────────────────────────────┼─────────────────┤\n",
              "│ conv2d (\u001b[38;5;33mConv2D\u001b[0m)                      │ (\u001b[38;5;45mNone\u001b[0m, \u001b[38;5;34m8\u001b[0m, \u001b[38;5;34m8\u001b[0m, \u001b[38;5;34m32\u001b[0m)            │             \u001b[38;5;34m320\u001b[0m │\n",
              "├──────────────────────────────────────┼─────────────────────────────┼─────────────────┤\n",
              "│ max_pooling2d (\u001b[38;5;33mMaxPooling2D\u001b[0m)         │ (\u001b[38;5;45mNone\u001b[0m, \u001b[38;5;34m4\u001b[0m, \u001b[38;5;34m4\u001b[0m, \u001b[38;5;34m32\u001b[0m)            │               \u001b[38;5;34m0\u001b[0m │\n",
              "├──────────────────────────────────────┼─────────────────────────────┼─────────────────┤\n",
              "│ conv2d_1 (\u001b[38;5;33mConv2D\u001b[0m)                    │ (\u001b[38;5;45mNone\u001b[0m, \u001b[38;5;34m4\u001b[0m, \u001b[38;5;34m4\u001b[0m, \u001b[38;5;34m64\u001b[0m)            │          \u001b[38;5;34m18,496\u001b[0m │\n",
              "├──────────────────────────────────────┼─────────────────────────────┼─────────────────┤\n",
              "│ max_pooling2d_1 (\u001b[38;5;33mMaxPooling2D\u001b[0m)       │ (\u001b[38;5;45mNone\u001b[0m, \u001b[38;5;34m2\u001b[0m, \u001b[38;5;34m2\u001b[0m, \u001b[38;5;34m64\u001b[0m)            │               \u001b[38;5;34m0\u001b[0m │\n",
              "├──────────────────────────────────────┼─────────────────────────────┼─────────────────┤\n",
              "│ flatten (\u001b[38;5;33mFlatten\u001b[0m)                    │ (\u001b[38;5;45mNone\u001b[0m, \u001b[38;5;34m256\u001b[0m)                 │               \u001b[38;5;34m0\u001b[0m │\n",
              "├──────────────────────────────────────┼─────────────────────────────┼─────────────────┤\n",
              "│ dense (\u001b[38;5;33mDense\u001b[0m)                        │ (\u001b[38;5;45mNone\u001b[0m, \u001b[38;5;34m128\u001b[0m)                 │          \u001b[38;5;34m32,896\u001b[0m │\n",
              "├──────────────────────────────────────┼─────────────────────────────┼─────────────────┤\n",
              "│ dense_1 (\u001b[38;5;33mDense\u001b[0m)                      │ (\u001b[38;5;45mNone\u001b[0m, \u001b[38;5;34m10\u001b[0m)                  │           \u001b[38;5;34m1,290\u001b[0m │\n",
              "└──────────────────────────────────────┴─────────────────────────────┴─────────────────┘\n"
            ]
          },
          "metadata": {},
          "output_type": "display_data"
        },
        {
          "data": {
            "text/html": [
              "<pre style=\"white-space:pre;overflow-x:auto;line-height:normal;font-family:Menlo,'DejaVu Sans Mono',consolas,'Courier New',monospace\"><span style=\"font-weight: bold\"> Total params: </span><span style=\"color: #00af00; text-decoration-color: #00af00\">53,002</span> (207.04 KB)\n",
              "</pre>\n"
            ],
            "text/plain": [
              "\u001b[1m Total params: \u001b[0m\u001b[38;5;34m53,002\u001b[0m (207.04 KB)\n"
            ]
          },
          "metadata": {},
          "output_type": "display_data"
        },
        {
          "data": {
            "text/html": [
              "<pre style=\"white-space:pre;overflow-x:auto;line-height:normal;font-family:Menlo,'DejaVu Sans Mono',consolas,'Courier New',monospace\"><span style=\"font-weight: bold\"> Trainable params: </span><span style=\"color: #00af00; text-decoration-color: #00af00\">53,002</span> (207.04 KB)\n",
              "</pre>\n"
            ],
            "text/plain": [
              "\u001b[1m Trainable params: \u001b[0m\u001b[38;5;34m53,002\u001b[0m (207.04 KB)\n"
            ]
          },
          "metadata": {},
          "output_type": "display_data"
        },
        {
          "data": {
            "text/html": [
              "<pre style=\"white-space:pre;overflow-x:auto;line-height:normal;font-family:Menlo,'DejaVu Sans Mono',consolas,'Courier New',monospace\"><span style=\"font-weight: bold\"> Non-trainable params: </span><span style=\"color: #00af00; text-decoration-color: #00af00\">0</span> (0.00 B)\n",
              "</pre>\n"
            ],
            "text/plain": [
              "\u001b[1m Non-trainable params: \u001b[0m\u001b[38;5;34m0\u001b[0m (0.00 B)\n"
            ]
          },
          "metadata": {},
          "output_type": "display_data"
        },
        {
          "name": "stdout",
          "output_type": "stream",
          "text": [
            "Epoch 1/10\n",
            "\u001b[1m43/43\u001b[0m \u001b[32m━━━━━━━━━━━━━━━━━━━━\u001b[0m\u001b[37m\u001b[0m \u001b[1m2s\u001b[0m 13ms/step - accuracy: 0.2707 - loss: 2.2190 - val_accuracy: 0.7320 - val_loss: 1.6126\n",
            "Epoch 2/10\n",
            "\u001b[1m43/43\u001b[0m \u001b[32m━━━━━━━━━━━━━━━━━━━━\u001b[0m\u001b[37m\u001b[0m \u001b[1m0s\u001b[0m 6ms/step - accuracy: 0.7906 - loss: 1.1749 - val_accuracy: 0.9085 - val_loss: 0.4358\n",
            "Epoch 3/10\n",
            "\u001b[1m43/43\u001b[0m \u001b[32m━━━━━━━━━━━━━━━━━━━━\u001b[0m\u001b[37m\u001b[0m \u001b[1m0s\u001b[0m 6ms/step - accuracy: 0.9190 - loss: 0.3414 - val_accuracy: 0.9281 - val_loss: 0.2099\n",
            "Epoch 4/10\n",
            "\u001b[1m43/43\u001b[0m \u001b[32m━━━━━━━━━━━━━━━━━━━━\u001b[0m\u001b[37m\u001b[0m \u001b[1m0s\u001b[0m 6ms/step - accuracy: 0.9635 - loss: 0.1787 - val_accuracy: 0.9477 - val_loss: 0.1660\n",
            "Epoch 5/10\n",
            "\u001b[1m43/43\u001b[0m \u001b[32m━━━━━━━━━━━━━━━━━━━━\u001b[0m\u001b[37m\u001b[0m \u001b[1m0s\u001b[0m 6ms/step - accuracy: 0.9695 - loss: 0.1290 - val_accuracy: 0.9673 - val_loss: 0.1101\n",
            "Epoch 6/10\n",
            "\u001b[1m43/43\u001b[0m \u001b[32m━━━━━━━━━━━━━━━━━━━━\u001b[0m\u001b[37m\u001b[0m \u001b[1m0s\u001b[0m 6ms/step - accuracy: 0.9741 - loss: 0.1052 - val_accuracy: 0.9804 - val_loss: 0.0774\n",
            "Epoch 7/10\n",
            "\u001b[1m43/43\u001b[0m \u001b[32m━━━━━━━━━━━━━━━━━━━━\u001b[0m\u001b[37m\u001b[0m \u001b[1m0s\u001b[0m 6ms/step - accuracy: 0.9801 - loss: 0.0882 - val_accuracy: 0.9739 - val_loss: 0.0860\n",
            "Epoch 8/10\n",
            "\u001b[1m43/43\u001b[0m \u001b[32m━━━━━━━━━━━━━━━━━━━━\u001b[0m\u001b[37m\u001b[0m \u001b[1m0s\u001b[0m 6ms/step - accuracy: 0.9840 - loss: 0.0733 - val_accuracy: 0.9804 - val_loss: 0.0652\n",
            "Epoch 9/10\n",
            "\u001b[1m43/43\u001b[0m \u001b[32m━━━━━━━━━━━━━━━━━━━━\u001b[0m\u001b[37m\u001b[0m \u001b[1m0s\u001b[0m 6ms/step - accuracy: 0.9817 - loss: 0.0737 - val_accuracy: 0.9869 - val_loss: 0.0538\n",
            "Epoch 10/10\n",
            "\u001b[1m43/43\u001b[0m \u001b[32m━━━━━━━━━━━━━━━━━━━━\u001b[0m\u001b[37m\u001b[0m \u001b[1m0s\u001b[0m 6ms/step - accuracy: 0.9942 - loss: 0.0382 - val_accuracy: 0.9869 - val_loss: 0.0539\n",
            "MNIST Model Summary:\n"
          ]
        },
        {
          "data": {
            "text/html": [
              "<pre style=\"white-space:pre;overflow-x:auto;line-height:normal;font-family:Menlo,'DejaVu Sans Mono',consolas,'Courier New',monospace\"><span style=\"font-weight: bold\">Model: \"sequential_1\"</span>\n",
              "</pre>\n"
            ],
            "text/plain": [
              "\u001b[1mModel: \"sequential_1\"\u001b[0m\n"
            ]
          },
          "metadata": {},
          "output_type": "display_data"
        },
        {
          "data": {
            "text/html": [
              "<pre style=\"white-space:pre;overflow-x:auto;line-height:normal;font-family:Menlo,'DejaVu Sans Mono',consolas,'Courier New',monospace\">┏━━━━━━━━━━━━━━━━━━━━━━━━━━━━━━━━━━━━━━┳━━━━━━━━━━━━━━━━━━━━━━━━━━━━━┳━━━━━━━━━━━━━━━━━┓\n",
              "┃<span style=\"font-weight: bold\"> Layer (type)                         </span>┃<span style=\"font-weight: bold\"> Output Shape                </span>┃<span style=\"font-weight: bold\">         Param # </span>┃\n",
              "┡━━━━━━━━━━━━━━━━━━━━━━━━━━━━━━━━━━━━━━╇━━━━━━━━━━━━━━━━━━━━━━━━━━━━━╇━━━━━━━━━━━━━━━━━┩\n",
              "│ reshape_1 (<span style=\"color: #0087ff; text-decoration-color: #0087ff\">Reshape</span>)                  │ (<span style=\"color: #00d7ff; text-decoration-color: #00d7ff\">None</span>, <span style=\"color: #00af00; text-decoration-color: #00af00\">28</span>, <span style=\"color: #00af00; text-decoration-color: #00af00\">28</span>, <span style=\"color: #00af00; text-decoration-color: #00af00\">1</span>)           │               <span style=\"color: #00af00; text-decoration-color: #00af00\">0</span> │\n",
              "├──────────────────────────────────────┼─────────────────────────────┼─────────────────┤\n",
              "│ conv2d_2 (<span style=\"color: #0087ff; text-decoration-color: #0087ff\">Conv2D</span>)                    │ (<span style=\"color: #00d7ff; text-decoration-color: #00d7ff\">None</span>, <span style=\"color: #00af00; text-decoration-color: #00af00\">28</span>, <span style=\"color: #00af00; text-decoration-color: #00af00\">28</span>, <span style=\"color: #00af00; text-decoration-color: #00af00\">32</span>)          │             <span style=\"color: #00af00; text-decoration-color: #00af00\">320</span> │\n",
              "├──────────────────────────────────────┼─────────────────────────────┼─────────────────┤\n",
              "│ max_pooling2d_2 (<span style=\"color: #0087ff; text-decoration-color: #0087ff\">MaxPooling2D</span>)       │ (<span style=\"color: #00d7ff; text-decoration-color: #00d7ff\">None</span>, <span style=\"color: #00af00; text-decoration-color: #00af00\">14</span>, <span style=\"color: #00af00; text-decoration-color: #00af00\">14</span>, <span style=\"color: #00af00; text-decoration-color: #00af00\">32</span>)          │               <span style=\"color: #00af00; text-decoration-color: #00af00\">0</span> │\n",
              "├──────────────────────────────────────┼─────────────────────────────┼─────────────────┤\n",
              "│ conv2d_3 (<span style=\"color: #0087ff; text-decoration-color: #0087ff\">Conv2D</span>)                    │ (<span style=\"color: #00d7ff; text-decoration-color: #00d7ff\">None</span>, <span style=\"color: #00af00; text-decoration-color: #00af00\">14</span>, <span style=\"color: #00af00; text-decoration-color: #00af00\">14</span>, <span style=\"color: #00af00; text-decoration-color: #00af00\">64</span>)          │          <span style=\"color: #00af00; text-decoration-color: #00af00\">18,496</span> │\n",
              "├──────────────────────────────────────┼─────────────────────────────┼─────────────────┤\n",
              "│ max_pooling2d_3 (<span style=\"color: #0087ff; text-decoration-color: #0087ff\">MaxPooling2D</span>)       │ (<span style=\"color: #00d7ff; text-decoration-color: #00d7ff\">None</span>, <span style=\"color: #00af00; text-decoration-color: #00af00\">7</span>, <span style=\"color: #00af00; text-decoration-color: #00af00\">7</span>, <span style=\"color: #00af00; text-decoration-color: #00af00\">64</span>)            │               <span style=\"color: #00af00; text-decoration-color: #00af00\">0</span> │\n",
              "├──────────────────────────────────────┼─────────────────────────────┼─────────────────┤\n",
              "│ flatten_1 (<span style=\"color: #0087ff; text-decoration-color: #0087ff\">Flatten</span>)                  │ (<span style=\"color: #00d7ff; text-decoration-color: #00d7ff\">None</span>, <span style=\"color: #00af00; text-decoration-color: #00af00\">3136</span>)                │               <span style=\"color: #00af00; text-decoration-color: #00af00\">0</span> │\n",
              "├──────────────────────────────────────┼─────────────────────────────┼─────────────────┤\n",
              "│ dense_2 (<span style=\"color: #0087ff; text-decoration-color: #0087ff\">Dense</span>)                      │ (<span style=\"color: #00d7ff; text-decoration-color: #00d7ff\">None</span>, <span style=\"color: #00af00; text-decoration-color: #00af00\">128</span>)                 │         <span style=\"color: #00af00; text-decoration-color: #00af00\">401,536</span> │\n",
              "├──────────────────────────────────────┼─────────────────────────────┼─────────────────┤\n",
              "│ dense_3 (<span style=\"color: #0087ff; text-decoration-color: #0087ff\">Dense</span>)                      │ (<span style=\"color: #00d7ff; text-decoration-color: #00d7ff\">None</span>, <span style=\"color: #00af00; text-decoration-color: #00af00\">10</span>)                  │           <span style=\"color: #00af00; text-decoration-color: #00af00\">1,290</span> │\n",
              "└──────────────────────────────────────┴─────────────────────────────┴─────────────────┘\n",
              "</pre>\n"
            ],
            "text/plain": [
              "┏━━━━━━━━━━━━━━━━━━━━━━━━━━━━━━━━━━━━━━┳━━━━━━━━━━━━━━━━━━━━━━━━━━━━━┳━━━━━━━━━━━━━━━━━┓\n",
              "┃\u001b[1m \u001b[0m\u001b[1mLayer (type)                        \u001b[0m\u001b[1m \u001b[0m┃\u001b[1m \u001b[0m\u001b[1mOutput Shape               \u001b[0m\u001b[1m \u001b[0m┃\u001b[1m \u001b[0m\u001b[1m        Param #\u001b[0m\u001b[1m \u001b[0m┃\n",
              "┡━━━━━━━━━━━━━━━━━━━━━━━━━━━━━━━━━━━━━━╇━━━━━━━━━━━━━━━━━━━━━━━━━━━━━╇━━━━━━━━━━━━━━━━━┩\n",
              "│ reshape_1 (\u001b[38;5;33mReshape\u001b[0m)                  │ (\u001b[38;5;45mNone\u001b[0m, \u001b[38;5;34m28\u001b[0m, \u001b[38;5;34m28\u001b[0m, \u001b[38;5;34m1\u001b[0m)           │               \u001b[38;5;34m0\u001b[0m │\n",
              "├──────────────────────────────────────┼─────────────────────────────┼─────────────────┤\n",
              "│ conv2d_2 (\u001b[38;5;33mConv2D\u001b[0m)                    │ (\u001b[38;5;45mNone\u001b[0m, \u001b[38;5;34m28\u001b[0m, \u001b[38;5;34m28\u001b[0m, \u001b[38;5;34m32\u001b[0m)          │             \u001b[38;5;34m320\u001b[0m │\n",
              "├──────────────────────────────────────┼─────────────────────────────┼─────────────────┤\n",
              "│ max_pooling2d_2 (\u001b[38;5;33mMaxPooling2D\u001b[0m)       │ (\u001b[38;5;45mNone\u001b[0m, \u001b[38;5;34m14\u001b[0m, \u001b[38;5;34m14\u001b[0m, \u001b[38;5;34m32\u001b[0m)          │               \u001b[38;5;34m0\u001b[0m │\n",
              "├──────────────────────────────────────┼─────────────────────────────┼─────────────────┤\n",
              "│ conv2d_3 (\u001b[38;5;33mConv2D\u001b[0m)                    │ (\u001b[38;5;45mNone\u001b[0m, \u001b[38;5;34m14\u001b[0m, \u001b[38;5;34m14\u001b[0m, \u001b[38;5;34m64\u001b[0m)          │          \u001b[38;5;34m18,496\u001b[0m │\n",
              "├──────────────────────────────────────┼─────────────────────────────┼─────────────────┤\n",
              "│ max_pooling2d_3 (\u001b[38;5;33mMaxPooling2D\u001b[0m)       │ (\u001b[38;5;45mNone\u001b[0m, \u001b[38;5;34m7\u001b[0m, \u001b[38;5;34m7\u001b[0m, \u001b[38;5;34m64\u001b[0m)            │               \u001b[38;5;34m0\u001b[0m │\n",
              "├──────────────────────────────────────┼─────────────────────────────┼─────────────────┤\n",
              "│ flatten_1 (\u001b[38;5;33mFlatten\u001b[0m)                  │ (\u001b[38;5;45mNone\u001b[0m, \u001b[38;5;34m3136\u001b[0m)                │               \u001b[38;5;34m0\u001b[0m │\n",
              "├──────────────────────────────────────┼─────────────────────────────┼─────────────────┤\n",
              "│ dense_2 (\u001b[38;5;33mDense\u001b[0m)                      │ (\u001b[38;5;45mNone\u001b[0m, \u001b[38;5;34m128\u001b[0m)                 │         \u001b[38;5;34m401,536\u001b[0m │\n",
              "├──────────────────────────────────────┼─────────────────────────────┼─────────────────┤\n",
              "│ dense_3 (\u001b[38;5;33mDense\u001b[0m)                      │ (\u001b[38;5;45mNone\u001b[0m, \u001b[38;5;34m10\u001b[0m)                  │           \u001b[38;5;34m1,290\u001b[0m │\n",
              "└──────────────────────────────────────┴─────────────────────────────┴─────────────────┘\n"
            ]
          },
          "metadata": {},
          "output_type": "display_data"
        },
        {
          "data": {
            "text/html": [
              "<pre style=\"white-space:pre;overflow-x:auto;line-height:normal;font-family:Menlo,'DejaVu Sans Mono',consolas,'Courier New',monospace\"><span style=\"font-weight: bold\"> Total params: </span><span style=\"color: #00af00; text-decoration-color: #00af00\">421,642</span> (1.61 MB)\n",
              "</pre>\n"
            ],
            "text/plain": [
              "\u001b[1m Total params: \u001b[0m\u001b[38;5;34m421,642\u001b[0m (1.61 MB)\n"
            ]
          },
          "metadata": {},
          "output_type": "display_data"
        },
        {
          "data": {
            "text/html": [
              "<pre style=\"white-space:pre;overflow-x:auto;line-height:normal;font-family:Menlo,'DejaVu Sans Mono',consolas,'Courier New',monospace\"><span style=\"font-weight: bold\"> Trainable params: </span><span style=\"color: #00af00; text-decoration-color: #00af00\">421,642</span> (1.61 MB)\n",
              "</pre>\n"
            ],
            "text/plain": [
              "\u001b[1m Trainable params: \u001b[0m\u001b[38;5;34m421,642\u001b[0m (1.61 MB)\n"
            ]
          },
          "metadata": {},
          "output_type": "display_data"
        },
        {
          "data": {
            "text/html": [
              "<pre style=\"white-space:pre;overflow-x:auto;line-height:normal;font-family:Menlo,'DejaVu Sans Mono',consolas,'Courier New',monospace\"><span style=\"font-weight: bold\"> Non-trainable params: </span><span style=\"color: #00af00; text-decoration-color: #00af00\">0</span> (0.00 B)\n",
              "</pre>\n"
            ],
            "text/plain": [
              "\u001b[1m Non-trainable params: \u001b[0m\u001b[38;5;34m0\u001b[0m (0.00 B)\n"
            ]
          },
          "metadata": {},
          "output_type": "display_data"
        },
        {
          "name": "stdout",
          "output_type": "stream",
          "text": [
            "Epoch 1/10\n",
            "\u001b[1m422/422\u001b[0m \u001b[32m━━━━━━━━━━━━━━━━━━━━\u001b[0m\u001b[37m\u001b[0m \u001b[1m31s\u001b[0m 69ms/step - accuracy: 0.8706 - loss: 0.4615 - val_accuracy: 0.9848 - val_loss: 0.0531\n",
            "Epoch 2/10\n",
            "\u001b[1m422/422\u001b[0m \u001b[32m━━━━━━━━━━━━━━━━━━━━\u001b[0m\u001b[37m\u001b[0m \u001b[1m41s\u001b[0m 68ms/step - accuracy: 0.9827 - loss: 0.0563 - val_accuracy: 0.9883 - val_loss: 0.0410\n",
            "Epoch 3/10\n",
            "\u001b[1m422/422\u001b[0m \u001b[32m━━━━━━━━━━━━━━━━━━━━\u001b[0m\u001b[37m\u001b[0m \u001b[1m30s\u001b[0m 70ms/step - accuracy: 0.9885 - loss: 0.0365 - val_accuracy: 0.9873 - val_loss: 0.0389\n",
            "Epoch 4/10\n",
            "\u001b[1m422/422\u001b[0m \u001b[32m━━━━━━━━━━━━━━━━━━━━\u001b[0m\u001b[37m\u001b[0m \u001b[1m41s\u001b[0m 69ms/step - accuracy: 0.9914 - loss: 0.0285 - val_accuracy: 0.9903 - val_loss: 0.0363\n",
            "Epoch 5/10\n",
            "\u001b[1m422/422\u001b[0m \u001b[32m━━━━━━━━━━━━━━━━━━━━\u001b[0m\u001b[37m\u001b[0m \u001b[1m29s\u001b[0m 68ms/step - accuracy: 0.9937 - loss: 0.0194 - val_accuracy: 0.9888 - val_loss: 0.0376\n",
            "Epoch 6/10\n",
            "\u001b[1m422/422\u001b[0m \u001b[32m━━━━━━━━━━━━━━━━━━━━\u001b[0m\u001b[37m\u001b[0m \u001b[1m29s\u001b[0m 70ms/step - accuracy: 0.9948 - loss: 0.0158 - val_accuracy: 0.9898 - val_loss: 0.0360\n",
            "Epoch 7/10\n",
            "\u001b[1m422/422\u001b[0m \u001b[32m━━━━━━━━━━━━━━━━━━━━\u001b[0m\u001b[37m\u001b[0m \u001b[1m29s\u001b[0m 68ms/step - accuracy: 0.9960 - loss: 0.0127 - val_accuracy: 0.9907 - val_loss: 0.0350\n",
            "Epoch 8/10\n",
            "\u001b[1m422/422\u001b[0m \u001b[32m━━━━━━━━━━━━━━━━━━━━\u001b[0m\u001b[37m\u001b[0m \u001b[1m28s\u001b[0m 67ms/step - accuracy: 0.9971 - loss: 0.0095 - val_accuracy: 0.9888 - val_loss: 0.0469\n",
            "Epoch 9/10\n",
            "\u001b[1m422/422\u001b[0m \u001b[32m━━━━━━━━━━━━━━━━━━━━\u001b[0m\u001b[37m\u001b[0m \u001b[1m28s\u001b[0m 67ms/step - accuracy: 0.9985 - loss: 0.0064 - val_accuracy: 0.9887 - val_loss: 0.0455\n",
            "Epoch 10/10\n",
            "\u001b[1m422/422\u001b[0m \u001b[32m━━━━━━━━━━━━━━━━━━━━\u001b[0m\u001b[37m\u001b[0m \u001b[1m29s\u001b[0m 68ms/step - accuracy: 0.9982 - loss: 0.0057 - val_accuracy: 0.9898 - val_loss: 0.0446\n"
          ]
        }
      ],
      "source": [
        "#digits\n",
        "digits_model = create_cnn_model((8, 8))\n",
        "print(\"Digits Model Summary:\")\n",
        "digits_model.summary()\n",
        "\n",
        "# Train digits model with timing\n",
        "start_train_time_digits = time.time()\n",
        "digits_history = digits_model.fit(\n",
        "    x_train_digits, y_train_digits,\n",
        "    epochs=10,\n",
        "    batch_size=32,\n",
        "    validation_split=0.1,\n",
        "    verbose=1\n",
        ")\n",
        "end_train_time_digits = time.time()\n",
        "train_time_digits_cnn = end_train_time_digits - start_train_time_digits\n",
        "\n",
        "\n",
        "#MNIST (28x28)\n",
        "mnist_model = create_cnn_model((28, 28))\n",
        "print(\"MNIST Model Summary:\")\n",
        "mnist_model.summary()\n",
        "\n",
        "#Train MNIST\n",
        "start_train_time_mnist = time.time()\n",
        "mnist_history = mnist_model.fit(\n",
        "    x_train_mnist_flattened, y_train_mnist,\n",
        "    epochs=10,\n",
        "    batch_size=128,\n",
        "    validation_split=0.1,\n",
        "    verbose=1\n",
        ")\n",
        "end_train_time_mnist = time.time()\n",
        "train_time_mnist_cnn = end_train_time_mnist - start_train_time_mnist"
      ]
    },
    {
      "cell_type": "markdown",
      "id": "f43f163b",
      "metadata": {
        "papermill": {
          "duration": 0.264025,
          "end_time": "2025-03-22T18:13:12.089634",
          "exception": false,
          "start_time": "2025-03-22T18:13:11.825609",
          "status": "completed"
        },
        "tags": [],
        "id": "f43f163b"
      },
      "source": [
        "# Plotting accuracy and loss for train-val"
      ]
    },
    {
      "cell_type": "code",
      "execution_count": null,
      "id": "d8c199fe",
      "metadata": {
        "execution": {
          "iopub.execute_input": "2025-03-22T18:13:12.631737Z",
          "iopub.status.busy": "2025-03-22T18:13:12.631251Z",
          "iopub.status.idle": "2025-03-22T18:13:13.686394Z",
          "shell.execute_reply": "2025-03-22T18:13:13.685236Z"
        },
        "papermill": {
          "duration": 1.332774,
          "end_time": "2025-03-22T18:13:13.688420",
          "exception": false,
          "start_time": "2025-03-22T18:13:12.355646",
          "status": "completed"
        },
        "tags": [],
        "id": "d8c199fe",
        "outputId": "eaeb0515-b984-4204-c934-76dcb9688d8f"
      },
      "outputs": [
        {
          "data": {
            "image/png": "[encoded data removed]",
            "text/plain": [
              "<Figure size 1200x600 with 2 Axes>"
            ]
          },
          "metadata": {},
          "output_type": "display_data"
        },
        {
          "data": {
            "image/png": "[encoded data removed]",
            "text/plain": [
              "<Figure size 1200x600 with 2 Axes>"
            ]
          },
          "metadata": {},
          "output_type": "display_data"
        }
      ],
      "source": [
        "def plot_history(history, model_name):\n",
        "    # Plot training & validation accuracy values\n",
        "    plt.figure(figsize=(12, 6))\n",
        "\n",
        "    # Accuracy plot\n",
        "    plt.subplot(1, 2, 1)\n",
        "    plt.plot(history.history['accuracy'], label='Train Accuracy')\n",
        "    plt.plot(history.history['val_accuracy'], label='Validation Accuracy')\n",
        "    plt.title(f'{model_name} Accuracy')\n",
        "    plt.xlabel('Epochs')\n",
        "    plt.ylabel('Accuracy')\n",
        "    plt.legend()\n",
        "\n",
        "    # Loss plot\n",
        "    plt.subplot(1, 2, 2)\n",
        "    plt.plot(history.history['loss'], label='Train Loss')\n",
        "    plt.plot(history.history['val_loss'], label='Validation Loss')\n",
        "    plt.title(f'{model_name} Loss')\n",
        "    plt.xlabel('Epochs')\n",
        "    plt.ylabel('Loss')\n",
        "    plt.legend()\n",
        "\n",
        "    plt.tight_layout()\n",
        "    plt.show()\n",
        "\n",
        "# Plot the training and validation curves for both models\n",
        "plot_history(digits_history, 'Digits Model')\n",
        "plot_history(mnist_history, 'MNIST Model')"
      ]
    },
    {
      "cell_type": "markdown",
      "id": "92dfafd0",
      "metadata": {
        "papermill": {
          "duration": 0.268141,
          "end_time": "2025-03-22T18:13:14.294774",
          "exception": false,
          "start_time": "2025-03-22T18:13:14.026633",
          "status": "completed"
        },
        "tags": [],
        "id": "92dfafd0"
      },
      "source": [
        "# Evaluating CNN on test set of both datasets"
      ]
    },
    {
      "cell_type": "code",
      "execution_count": null,
      "id": "5007ecac",
      "metadata": {
        "execution": {
          "iopub.execute_input": "2025-03-22T18:13:14.841762Z",
          "iopub.status.busy": "2025-03-22T18:13:14.841392Z",
          "iopub.status.idle": "2025-03-22T18:13:17.697611Z",
          "shell.execute_reply": "2025-03-22T18:13:17.696505Z"
        },
        "papermill": {
          "duration": 3.128739,
          "end_time": "2025-03-22T18:13:17.699226",
          "exception": false,
          "start_time": "2025-03-22T18:13:14.570487",
          "status": "completed"
        },
        "tags": [],
        "id": "5007ecac",
        "outputId": "f3fa7fa0-94a2-410b-d1a4-74d16e77bc8f"
      },
      "outputs": [
        {
          "name": "stdout",
          "output_type": "stream",
          "text": [
            "\n",
            "Evaluating CNN for Digits...\n",
            "\u001b[1m9/9\u001b[0m \u001b[32m━━━━━━━━━━━━━━━━━━━━\u001b[0m\u001b[37m\u001b[0m \u001b[1m0s\u001b[0m 11ms/step\n",
            "Training time: 4.7984 seconds\n",
            "Prediction time: 0.2428 seconds\n",
            "\n",
            "Basic Classification Metrics:\n",
            "Accuracy: 0.9852\n",
            "Precision: 0.9858\n",
            "Recall: 0.9852\n",
            "F1 Score: 0.9852\n",
            "Cohen's Kappa: 0.9834\n",
            "\n",
            "Classification Report:\n",
            "              precision    recall  f1-score   support\n",
            "\n",
            "           0       1.00      1.00      1.00        23\n",
            "           1       0.95      1.00      0.97        18\n",
            "           2       1.00      1.00      1.00        26\n",
            "           3       1.00      0.96      0.98        24\n",
            "           4       1.00      1.00      1.00        37\n",
            "           5       0.94      1.00      0.97        33\n",
            "           6       1.00      0.97      0.98        30\n",
            "           7       1.00      1.00      1.00        26\n",
            "           8       0.95      0.95      0.95        19\n",
            "           9       1.00      0.97      0.99        34\n",
            "\n",
            "    accuracy                           0.99       270\n",
            "   macro avg       0.98      0.98      0.98       270\n",
            "weighted avg       0.99      0.99      0.99       270\n",
            "\n",
            "\n",
            "Confusion Matrix\n",
            "[[23  0  0  0  0  0  0  0  0  0]\n",
            " [ 0 18  0  0  0  0  0  0  0  0]\n",
            " [ 0  0 26  0  0  0  0  0  0  0]\n",
            " [ 0  0  0 23  0  1  0  0  0  0]\n",
            " [ 0  0  0  0 37  0  0  0  0  0]\n",
            " [ 0  0  0  0  0 33  0  0  0  0]\n",
            " [ 0  0  0  0  0  1 29  0  0  0]\n",
            " [ 0  0  0  0  0  0  0 26  0  0]\n",
            " [ 0  1  0  0  0  0  0  0 18  0]\n",
            " [ 0  0  0  0  0  0  0  0  1 33]]\n",
            "\n",
            "Evaluating CNN for MNIST...\n",
            "\u001b[1m313/313\u001b[0m \u001b[32m━━━━━━━━━━━━━━━━━━━━\u001b[0m\u001b[37m\u001b[0m \u001b[1m2s\u001b[0m 7ms/step\n",
            "Training time: 326.6657 seconds\n",
            "Prediction time: 2.5201 seconds\n",
            "\n",
            "Basic Classification Metrics:\n",
            "Accuracy: 0.9904\n",
            "Precision: 0.9905\n",
            "Recall: 0.9904\n",
            "F1 Score: 0.9904\n",
            "Cohen's Kappa: 0.9893\n",
            "\n",
            "Classification Report:\n",
            "              precision    recall  f1-score   support\n",
            "\n",
            "           0       0.99      1.00      0.99       980\n",
            "           1       1.00      0.99      0.99      1135\n",
            "           2       0.99      0.99      0.99      1032\n",
            "           3       0.98      0.99      0.99      1010\n",
            "           4       0.99      0.99      0.99       982\n",
            "           5       0.99      0.99      0.99       892\n",
            "           6       0.99      0.99      0.99       958\n",
            "           7       1.00      0.98      0.99      1028\n",
            "           8       0.99      0.99      0.99       974\n",
            "           9       0.98      0.99      0.98      1009\n",
            "\n",
            "    accuracy                           0.99     10000\n",
            "   macro avg       0.99      0.99      0.99     10000\n",
            "weighted avg       0.99      0.99      0.99     10000\n",
            "\n",
            "\n",
            "Confusion Matrix\n",
            "[[ 977    0    0    1    0    0    0    0    2    0]\n",
            " [   0 1124    0    5    0    1    3    0    2    0]\n",
            " [   1    0 1025    4    1    0    0    1    0    0]\n",
            " [   1    0    0 1003    0    3    0    0    3    0]\n",
            " [   0    0    1    0  968    0    0    1    3    9]\n",
            " [   2    0    0    7    0  880    2    0    0    1]\n",
            " [   2    1    0    0    1    2  951    0    1    0]\n",
            " [   0    0    5    2    0    1    0 1009    1   10]\n",
            " [   2    0    2    0    0    1    0    0  967    2]\n",
            " [   0    0    0    2    3    2    0    1    1 1000]]\n"
          ]
        }
      ],
      "source": [
        "print(\"\\nEvaluating CNN for Digits...\")\n",
        "start_pred = time.time()\n",
        "y_pred_digits_cnn_probs = digits_model.predict(x_test_digits)\n",
        "y_pred_digits_cnn = y_pred_digits_cnn_probs.argmax(axis=1)\n",
        "end_pred = time.time()\n",
        "pred_time_digits_cnn = end_pred - start_pred\n",
        "print(f\"Training time: {train_time_digits_cnn:.4f} seconds\")\n",
        "print(f\"Prediction time: {pred_time_digits_cnn:.4f} seconds\")\n",
        "\n",
        "# Metrics for CNN Digits\n",
        "accuracy_digits_cnn = accuracy_score(y_test_digits, y_pred_digits_cnn)\n",
        "precision_digits_cnn = precision_score(y_test_digits, y_pred_digits_cnn, average='weighted')\n",
        "recall_digits_cnn = recall_score(y_test_digits, y_pred_digits_cnn, average='weighted')\n",
        "f1_digits_cnn = f1_score(y_test_digits, y_pred_digits_cnn, average='weighted')\n",
        "kappa_digits_cnn = cohen_kappa_score(y_test_digits, y_pred_digits_cnn)\n",
        "\n",
        "print(\"\\nBasic Classification Metrics:\")\n",
        "print(f\"Accuracy: {accuracy_digits_cnn:.4f}\")\n",
        "print(f\"Precision: {precision_digits_cnn:.4f}\")\n",
        "print(f\"Recall: {recall_digits_cnn:.4f}\")\n",
        "print(f\"F1 Score: {f1_digits_cnn:.4f}\")\n",
        "print(f\"Cohen's Kappa: {kappa_digits_cnn:.4f}\")\n",
        "\n",
        "print(\"\\nClassification Report:\")\n",
        "print(classification_report(y_test_digits, y_pred_digits_cnn))\n",
        "\n",
        "# Confusion Matrix for CNN Digits\n",
        "cm_digits_cnn = confusion_matrix(y_test_digits, y_pred_digits_cnn)\n",
        "print(\"\\nConfusion Matrix\")\n",
        "print(cm_digits_cnn)\n",
        "# plt.figure(figsize=(10, 8))\n",
        "# sns.heatmap(cm_digits_cnn, annot=True, fmt=\"d\", cmap=\"Blues\", xticklabels=range(10), yticklabels=range(10))\n",
        "# plt.title('Confusion Matrix - Digits CNN')\n",
        "# plt.ylabel('True Label')\n",
        "# plt.xlabel('Predicted Label')\n",
        "# plt.tight_layout()\n",
        "# plt.show()\n",
        "\n",
        "print(\"\\nEvaluating CNN for MNIST...\")\n",
        "start_pred = time.time()\n",
        "y_pred_mnist_cnn_probs = mnist_model.predict(x_test_mnist_flattened)\n",
        "y_pred_mnist_cnn = y_pred_mnist_cnn_probs.argmax(axis=1)\n",
        "end_pred = time.time()\n",
        "pred_time_mnist_cnn = end_pred - start_pred\n",
        "print(f\"Training time: {train_time_mnist_cnn:.4f} seconds\")\n",
        "print(f\"Prediction time: {pred_time_mnist_cnn:.4f} seconds\")\n",
        "\n",
        "# Metrics for CNN MNIST\n",
        "accuracy_mnist_cnn = accuracy_score(y_test_mnist, y_pred_mnist_cnn)\n",
        "precision_mnist_cnn = precision_score(y_test_mnist, y_pred_mnist_cnn, average='weighted')\n",
        "recall_mnist_cnn = recall_score(y_test_mnist, y_pred_mnist_cnn, average='weighted')\n",
        "f1_mnist_cnn = f1_score(y_test_mnist, y_pred_mnist_cnn, average='weighted')\n",
        "kappa_mnist_cnn = cohen_kappa_score(y_test_mnist, y_pred_mnist_cnn)\n",
        "\n",
        "print(\"\\nBasic Classification Metrics:\")\n",
        "print(f\"Accuracy: {accuracy_mnist_cnn:.4f}\")\n",
        "print(f\"Precision: {precision_mnist_cnn:.4f}\")\n",
        "print(f\"Recall: {recall_mnist_cnn:.4f}\")\n",
        "print(f\"F1 Score: {f1_mnist_cnn:.4f}\")\n",
        "print(f\"Cohen's Kappa: {kappa_mnist_cnn:.4f}\")\n",
        "\n",
        "print(\"\\nClassification Report:\")\n",
        "print(classification_report(y_test_mnist, y_pred_mnist_cnn))\n",
        "\n",
        "# Confusion Matrix for CNN MNIST\n",
        "cm_mnist_cnn = confusion_matrix(y_test_mnist, y_pred_mnist_cnn)\n",
        "print(\"\\nConfusion Matrix\")\n",
        "print(cm_mnist_cnn)\n",
        "# plt.figure(figsize=(10, 8))\n",
        "# sns.heatmap(cm_mnist_cnn, annot=True, fmt=\"d\", cmap=\"Blues\", xticklabels=range(10), yticklabels=range(10))\n",
        "# plt.title('Confusion Matrix - MNIST CNN')\n",
        "# plt.ylabel('True Label')\n",
        "# plt.xlabel('Predicted Label')\n",
        "# plt.tight_layout()\n",
        "# plt.show()\n",
        "\n",
        "# Save metrics for later comparison\n",
        "cnn_metrics = {\n",
        "    'mnist': {\n",
        "        'accuracy': accuracy_mnist_cnn,\n",
        "        'precision': precision_mnist_cnn,\n",
        "        'recall': recall_mnist_cnn,\n",
        "        'f1': f1_mnist_cnn,\n",
        "        'kappa': kappa_mnist_cnn,\n",
        "        'pred_time': pred_time_mnist_cnn,\n",
        "        'train_time': train_time_mnist_cnn\n",
        "    },\n",
        "    'digits': {\n",
        "        'accuracy': accuracy_digits_cnn,\n",
        "        'precision': precision_digits_cnn,\n",
        "        'recall': recall_digits_cnn,\n",
        "        'f1': f1_digits_cnn,\n",
        "        'kappa': kappa_digits_cnn,\n",
        "        'pred_time': pred_time_digits_cnn,\n",
        "        'train_time': train_time_digits_cnn\n",
        "    }\n",
        "}"
      ]
    },
    {
      "cell_type": "markdown",
      "id": "f6c451ff",
      "metadata": {
        "papermill": {
          "duration": 0.272615,
          "end_time": "2025-03-22T18:13:18.241502",
          "exception": false,
          "start_time": "2025-03-22T18:13:17.968887",
          "status": "completed"
        },
        "tags": [],
        "id": "f6c451ff"
      },
      "source": [
        "# Optional: Using a pretrained model from kaggle"
      ]
    },
    {
      "cell_type": "markdown",
      "id": "39110f03",
      "metadata": {
        "papermill": {
          "duration": 0.339275,
          "end_time": "2025-03-22T18:13:18.853226",
          "exception": false,
          "start_time": "2025-03-22T18:13:18.513951",
          "status": "completed"
        },
        "tags": [],
        "id": "39110f03"
      },
      "source": [
        "Doing it only for MNIST dataset, as digits dataset pretrained model is not readily available.\n",
        "\n",
        "**Model link: [MNIST 99% Pre-trained Model](https://www.kaggle.com/models/adhul000/mnist-99/TensorFlow2/default/1)**"
      ]
    },
    {
      "cell_type": "code",
      "execution_count": null,
      "id": "8ead2473",
      "metadata": {
        "execution": {
          "iopub.execute_input": "2025-03-22T18:13:19.409905Z",
          "iopub.status.busy": "2025-03-22T18:13:19.409510Z",
          "iopub.status.idle": "2025-03-22T18:13:19.631310Z",
          "shell.execute_reply": "2025-03-22T18:13:19.630181Z"
        },
        "papermill": {
          "duration": 0.504299,
          "end_time": "2025-03-22T18:13:19.633263",
          "exception": false,
          "start_time": "2025-03-22T18:13:19.128964",
          "status": "completed"
        },
        "tags": [],
        "id": "8ead2473",
        "outputId": "2fc576e6-d388-4356-9adb-be99eb43de9b"
      },
      "outputs": [
        {
          "data": {
            "text/html": [
              "<pre style=\"white-space:pre;overflow-x:auto;line-height:normal;font-family:Menlo,'DejaVu Sans Mono',consolas,'Courier New',monospace\"><span style=\"font-weight: bold\">Model: \"sequential\"</span>\n",
              "</pre>\n"
            ],
            "text/plain": [
              "\u001b[1mModel: \"sequential\"\u001b[0m\n"
            ]
          },
          "metadata": {},
          "output_type": "display_data"
        },
        {
          "data": {
            "text/html": [
              "<pre style=\"white-space:pre;overflow-x:auto;line-height:normal;font-family:Menlo,'DejaVu Sans Mono',consolas,'Courier New',monospace\">┏━━━━━━━━━━━━━━━━━━━━━━━━━━━━━━━━━━━━━━┳━━━━━━━━━━━━━━━━━━━━━━━━━━━━━┳━━━━━━━━━━━━━━━━━┓\n",
              "┃<span style=\"font-weight: bold\"> Layer (type)                         </span>┃<span style=\"font-weight: bold\"> Output Shape                </span>┃<span style=\"font-weight: bold\">         Param # </span>┃\n",
              "┡━━━━━━━━━━━━━━━━━━━━━━━━━━━━━━━━━━━━━━╇━━━━━━━━━━━━━━━━━━━━━━━━━━━━━╇━━━━━━━━━━━━━━━━━┩\n",
              "│ conv2d (<span style=\"color: #0087ff; text-decoration-color: #0087ff\">Conv2D</span>)                      │ (<span style=\"color: #00d7ff; text-decoration-color: #00d7ff\">None</span>, <span style=\"color: #00af00; text-decoration-color: #00af00\">26</span>, <span style=\"color: #00af00; text-decoration-color: #00af00\">26</span>, <span style=\"color: #00af00; text-decoration-color: #00af00\">64</span>)          │             <span style=\"color: #00af00; text-decoration-color: #00af00\">640</span> │\n",
              "├──────────────────────────────────────┼─────────────────────────────┼─────────────────┤\n",
              "│ max_pooling2d (<span style=\"color: #0087ff; text-decoration-color: #0087ff\">MaxPooling2D</span>)         │ (<span style=\"color: #00d7ff; text-decoration-color: #00d7ff\">None</span>, <span style=\"color: #00af00; text-decoration-color: #00af00\">13</span>, <span style=\"color: #00af00; text-decoration-color: #00af00\">13</span>, <span style=\"color: #00af00; text-decoration-color: #00af00\">64</span>)          │               <span style=\"color: #00af00; text-decoration-color: #00af00\">0</span> │\n",
              "├──────────────────────────────────────┼─────────────────────────────┼─────────────────┤\n",
              "│ conv2d_1 (<span style=\"color: #0087ff; text-decoration-color: #0087ff\">Conv2D</span>)                    │ (<span style=\"color: #00d7ff; text-decoration-color: #00d7ff\">None</span>, <span style=\"color: #00af00; text-decoration-color: #00af00\">11</span>, <span style=\"color: #00af00; text-decoration-color: #00af00\">11</span>, <span style=\"color: #00af00; text-decoration-color: #00af00\">48</span>)          │          <span style=\"color: #00af00; text-decoration-color: #00af00\">27,696</span> │\n",
              "├──────────────────────────────────────┼─────────────────────────────┼─────────────────┤\n",
              "│ max_pooling2d_1 (<span style=\"color: #0087ff; text-decoration-color: #0087ff\">MaxPooling2D</span>)       │ (<span style=\"color: #00d7ff; text-decoration-color: #00d7ff\">None</span>, <span style=\"color: #00af00; text-decoration-color: #00af00\">5</span>, <span style=\"color: #00af00; text-decoration-color: #00af00\">5</span>, <span style=\"color: #00af00; text-decoration-color: #00af00\">48</span>)            │               <span style=\"color: #00af00; text-decoration-color: #00af00\">0</span> │\n",
              "├──────────────────────────────────────┼─────────────────────────────┼─────────────────┤\n",
              "│ flatten (<span style=\"color: #0087ff; text-decoration-color: #0087ff\">Flatten</span>)                    │ (<span style=\"color: #00d7ff; text-decoration-color: #00d7ff\">None</span>, <span style=\"color: #00af00; text-decoration-color: #00af00\">1200</span>)                │               <span style=\"color: #00af00; text-decoration-color: #00af00\">0</span> │\n",
              "├──────────────────────────────────────┼─────────────────────────────┼─────────────────┤\n",
              "│ dense (<span style=\"color: #0087ff; text-decoration-color: #0087ff\">Dense</span>)                        │ (<span style=\"color: #00d7ff; text-decoration-color: #00d7ff\">None</span>, <span style=\"color: #00af00; text-decoration-color: #00af00\">192</span>)                 │         <span style=\"color: #00af00; text-decoration-color: #00af00\">230,592</span> │\n",
              "├──────────────────────────────────────┼─────────────────────────────┼─────────────────┤\n",
              "│ dropout (<span style=\"color: #0087ff; text-decoration-color: #0087ff\">Dropout</span>)                    │ (<span style=\"color: #00d7ff; text-decoration-color: #00d7ff\">None</span>, <span style=\"color: #00af00; text-decoration-color: #00af00\">192</span>)                 │               <span style=\"color: #00af00; text-decoration-color: #00af00\">0</span> │\n",
              "├──────────────────────────────────────┼─────────────────────────────┼─────────────────┤\n",
              "│ dense_1 (<span style=\"color: #0087ff; text-decoration-color: #0087ff\">Dense</span>)                      │ (<span style=\"color: #00d7ff; text-decoration-color: #00d7ff\">None</span>, <span style=\"color: #00af00; text-decoration-color: #00af00\">32</span>)                  │           <span style=\"color: #00af00; text-decoration-color: #00af00\">6,176</span> │\n",
              "├──────────────────────────────────────┼─────────────────────────────┼─────────────────┤\n",
              "│ dense_2 (<span style=\"color: #0087ff; text-decoration-color: #0087ff\">Dense</span>)                      │ (<span style=\"color: #00d7ff; text-decoration-color: #00d7ff\">None</span>, <span style=\"color: #00af00; text-decoration-color: #00af00\">10</span>)                  │             <span style=\"color: #00af00; text-decoration-color: #00af00\">330</span> │\n",
              "└──────────────────────────────────────┴─────────────────────────────┴─────────────────┘\n",
              "</pre>\n"
            ],
            "text/plain": [
              "┏━━━━━━━━━━━━━━━━━━━━━━━━━━━━━━━━━━━━━━┳━━━━━━━━━━━━━━━━━━━━━━━━━━━━━┳━━━━━━━━━━━━━━━━━┓\n",
              "┃\u001b[1m \u001b[0m\u001b[1mLayer (type)                        \u001b[0m\u001b[1m \u001b[0m┃\u001b[1m \u001b[0m\u001b[1mOutput Shape               \u001b[0m\u001b[1m \u001b[0m┃\u001b[1m \u001b[0m\u001b[1m        Param #\u001b[0m\u001b[1m \u001b[0m┃\n",
              "┡━━━━━━━━━━━━━━━━━━━━━━━━━━━━━━━━━━━━━━╇━━━━━━━━━━━━━━━━━━━━━━━━━━━━━╇━━━━━━━━━━━━━━━━━┩\n",
              "│ conv2d (\u001b[38;5;33mConv2D\u001b[0m)                      │ (\u001b[38;5;45mNone\u001b[0m, \u001b[38;5;34m26\u001b[0m, \u001b[38;5;34m26\u001b[0m, \u001b[38;5;34m64\u001b[0m)          │             \u001b[38;5;34m640\u001b[0m │\n",
              "├──────────────────────────────────────┼─────────────────────────────┼─────────────────┤\n",
              "│ max_pooling2d (\u001b[38;5;33mMaxPooling2D\u001b[0m)         │ (\u001b[38;5;45mNone\u001b[0m, \u001b[38;5;34m13\u001b[0m, \u001b[38;5;34m13\u001b[0m, \u001b[38;5;34m64\u001b[0m)          │               \u001b[38;5;34m0\u001b[0m │\n",
              "├──────────────────────────────────────┼─────────────────────────────┼─────────────────┤\n",
              "│ conv2d_1 (\u001b[38;5;33mConv2D\u001b[0m)                    │ (\u001b[38;5;45mNone\u001b[0m, \u001b[38;5;34m11\u001b[0m, \u001b[38;5;34m11\u001b[0m, \u001b[38;5;34m48\u001b[0m)          │          \u001b[38;5;34m27,696\u001b[0m │\n",
              "├──────────────────────────────────────┼─────────────────────────────┼─────────────────┤\n",
              "│ max_pooling2d_1 (\u001b[38;5;33mMaxPooling2D\u001b[0m)       │ (\u001b[38;5;45mNone\u001b[0m, \u001b[38;5;34m5\u001b[0m, \u001b[38;5;34m5\u001b[0m, \u001b[38;5;34m48\u001b[0m)            │               \u001b[38;5;34m0\u001b[0m │\n",
              "├──────────────────────────────────────┼─────────────────────────────┼─────────────────┤\n",
              "│ flatten (\u001b[38;5;33mFlatten\u001b[0m)                    │ (\u001b[38;5;45mNone\u001b[0m, \u001b[38;5;34m1200\u001b[0m)                │               \u001b[38;5;34m0\u001b[0m │\n",
              "├──────────────────────────────────────┼─────────────────────────────┼─────────────────┤\n",
              "│ dense (\u001b[38;5;33mDense\u001b[0m)                        │ (\u001b[38;5;45mNone\u001b[0m, \u001b[38;5;34m192\u001b[0m)                 │         \u001b[38;5;34m230,592\u001b[0m │\n",
              "├──────────────────────────────────────┼─────────────────────────────┼─────────────────┤\n",
              "│ dropout (\u001b[38;5;33mDropout\u001b[0m)                    │ (\u001b[38;5;45mNone\u001b[0m, \u001b[38;5;34m192\u001b[0m)                 │               \u001b[38;5;34m0\u001b[0m │\n",
              "├──────────────────────────────────────┼─────────────────────────────┼─────────────────┤\n",
              "│ dense_1 (\u001b[38;5;33mDense\u001b[0m)                      │ (\u001b[38;5;45mNone\u001b[0m, \u001b[38;5;34m32\u001b[0m)                  │           \u001b[38;5;34m6,176\u001b[0m │\n",
              "├──────────────────────────────────────┼─────────────────────────────┼─────────────────┤\n",
              "│ dense_2 (\u001b[38;5;33mDense\u001b[0m)                      │ (\u001b[38;5;45mNone\u001b[0m, \u001b[38;5;34m10\u001b[0m)                  │             \u001b[38;5;34m330\u001b[0m │\n",
              "└──────────────────────────────────────┴─────────────────────────────┴─────────────────┘\n"
            ]
          },
          "metadata": {},
          "output_type": "display_data"
        },
        {
          "data": {
            "text/html": [
              "<pre style=\"white-space:pre;overflow-x:auto;line-height:normal;font-family:Menlo,'DejaVu Sans Mono',consolas,'Courier New',monospace\"><span style=\"font-weight: bold\"> Total params: </span><span style=\"color: #00af00; text-decoration-color: #00af00\">265,436</span> (1.01 MB)\n",
              "</pre>\n"
            ],
            "text/plain": [
              "\u001b[1m Total params: \u001b[0m\u001b[38;5;34m265,436\u001b[0m (1.01 MB)\n"
            ]
          },
          "metadata": {},
          "output_type": "display_data"
        },
        {
          "data": {
            "text/html": [
              "<pre style=\"white-space:pre;overflow-x:auto;line-height:normal;font-family:Menlo,'DejaVu Sans Mono',consolas,'Courier New',monospace\"><span style=\"font-weight: bold\"> Trainable params: </span><span style=\"color: #00af00; text-decoration-color: #00af00\">265,434</span> (1.01 MB)\n",
              "</pre>\n"
            ],
            "text/plain": [
              "\u001b[1m Trainable params: \u001b[0m\u001b[38;5;34m265,434\u001b[0m (1.01 MB)\n"
            ]
          },
          "metadata": {},
          "output_type": "display_data"
        },
        {
          "data": {
            "text/html": [
              "<pre style=\"white-space:pre;overflow-x:auto;line-height:normal;font-family:Menlo,'DejaVu Sans Mono',consolas,'Courier New',monospace\"><span style=\"font-weight: bold\"> Non-trainable params: </span><span style=\"color: #00af00; text-decoration-color: #00af00\">0</span> (0.00 B)\n",
              "</pre>\n"
            ],
            "text/plain": [
              "\u001b[1m Non-trainable params: \u001b[0m\u001b[38;5;34m0\u001b[0m (0.00 B)\n"
            ]
          },
          "metadata": {},
          "output_type": "display_data"
        },
        {
          "data": {
            "text/html": [
              "<pre style=\"white-space:pre;overflow-x:auto;line-height:normal;font-family:Menlo,'DejaVu Sans Mono',consolas,'Courier New',monospace\"><span style=\"font-weight: bold\"> Optimizer params: </span><span style=\"color: #00af00; text-decoration-color: #00af00\">2</span> (12.00 B)\n",
              "</pre>\n"
            ],
            "text/plain": [
              "\u001b[1m Optimizer params: \u001b[0m\u001b[38;5;34m2\u001b[0m (12.00 B)\n"
            ]
          },
          "metadata": {},
          "output_type": "display_data"
        }
      ],
      "source": [
        "model_path = '/kaggle/input/mnist-99/tensorflow2/default/1/best_model.h5'\n",
        "pr_model = load_model(model_path)\n",
        "pr_model.summary()  #to see the arch"
      ]
    },
    {
      "cell_type": "markdown",
      "id": "a74ab9da",
      "metadata": {
        "papermill": {
          "duration": 0.273767,
          "end_time": "2025-03-22T18:13:20.192876",
          "exception": false,
          "start_time": "2025-03-22T18:13:19.919109",
          "status": "completed"
        },
        "tags": [],
        "id": "a74ab9da"
      },
      "source": [
        "**Predicting on test data**"
      ]
    },
    {
      "cell_type": "code",
      "execution_count": null,
      "id": "da9598b1",
      "metadata": {
        "execution": {
          "iopub.execute_input": "2025-03-22T18:13:20.732400Z",
          "iopub.status.busy": "2025-03-22T18:13:20.731990Z",
          "iopub.status.idle": "2025-03-22T18:13:23.186511Z",
          "shell.execute_reply": "2025-03-22T18:13:23.185284Z"
        },
        "papermill": {
          "duration": 2.7258,
          "end_time": "2025-03-22T18:13:23.188523",
          "exception": false,
          "start_time": "2025-03-22T18:13:20.462723",
          "status": "completed"
        },
        "tags": [],
        "id": "da9598b1",
        "outputId": "e90cf0dd-edca-47eb-d927-39c49c4dd4bf"
      },
      "outputs": [
        {
          "name": "stdout",
          "output_type": "stream",
          "text": [
            "\u001b[1m313/313\u001b[0m \u001b[32m━━━━━━━━━━━━━━━━━━━━\u001b[0m\u001b[37m\u001b[0m \u001b[1m2s\u001b[0m 7ms/step\n"
          ]
        }
      ],
      "source": [
        "x_test_mnist_pr = x_test_mnist_flattened.reshape(-1, 28, 28, 1)  # Reshape\n",
        "\n",
        "start_time = time.time()\n",
        "pr_predictions = pr_model.predict(x_test_mnist_pr)\n",
        "end_time = time.time()\n",
        "\n",
        "pred_time_mnist_pr = end_time - start_time\n",
        "\n",
        "pr_predicted_labels = np.argmax(pr_predictions, axis=1)"
      ]
    },
    {
      "cell_type": "markdown",
      "id": "811ba0f4",
      "metadata": {
        "papermill": {
          "duration": 0.274716,
          "end_time": "2025-03-22T18:13:23.738096",
          "exception": false,
          "start_time": "2025-03-22T18:13:23.463380",
          "status": "completed"
        },
        "tags": [],
        "id": "811ba0f4"
      },
      "source": [
        "**Evaluation and comparison with CNN**"
      ]
    },
    {
      "cell_type": "code",
      "execution_count": null,
      "id": "b55ce4bc",
      "metadata": {
        "execution": {
          "iopub.execute_input": "2025-03-22T18:13:24.351327Z",
          "iopub.status.busy": "2025-03-22T18:13:24.350903Z",
          "iopub.status.idle": "2025-03-22T18:13:24.382484Z",
          "shell.execute_reply": "2025-03-22T18:13:24.381258Z"
        },
        "papermill": {
          "duration": 0.307389,
          "end_time": "2025-03-22T18:13:24.384832",
          "exception": false,
          "start_time": "2025-03-22T18:13:24.077443",
          "status": "completed"
        },
        "tags": [],
        "id": "b55ce4bc"
      },
      "outputs": [],
      "source": [
        "accuracy_mnist_pr = accuracy_score(y_test_mnist, pr_predicted_labels)\n",
        "precision_mnist_pr = precision_score(y_test_mnist, pr_predicted_labels, average='weighted')\n",
        "recall_mnist_pr = recall_score(y_test_mnist, pr_predicted_labels, average='weighted')\n",
        "f1_mnist_pr = f1_score(y_test_mnist, pr_predicted_labels, average='weighted')\n",
        "kappa_mnist_pr = cohen_kappa_score(y_test_mnist, pr_predicted_labels)\n",
        "\n",
        "pr_metrics = {\n",
        "    'accuracy': accuracy_mnist_pr,\n",
        "    'precision': precision_mnist_pr,\n",
        "    'recall': recall_mnist_pr,\n",
        "    'f1': f1_mnist_pr,\n",
        "    'kappa': kappa_mnist_pr,\n",
        "    'pred_time': pred_time_mnist_pr,  # Prediction time\n",
        "    'train_time': 'NA'\n",
        "}"
      ]
    },
    {
      "cell_type": "code",
      "execution_count": null,
      "id": "45af3b6f",
      "metadata": {
        "execution": {
          "iopub.execute_input": "2025-03-22T18:13:24.930894Z",
          "iopub.status.busy": "2025-03-22T18:13:24.930349Z",
          "iopub.status.idle": "2025-03-22T18:13:24.945751Z",
          "shell.execute_reply": "2025-03-22T18:13:24.944414Z"
        },
        "papermill": {
          "duration": 0.290248,
          "end_time": "2025-03-22T18:13:24.947801",
          "exception": false,
          "start_time": "2025-03-22T18:13:24.657553",
          "status": "completed"
        },
        "tags": [],
        "id": "45af3b6f",
        "outputId": "a8030db5-5696-4322-e93e-85a39d32da1a"
      },
      "outputs": [
        {
          "name": "stdout",
          "output_type": "stream",
          "text": [
            "           Model  Accuracy  Precision  Recall  F1 Score  Cohen Kappa  \\\n",
            "0  Pretained CNN    0.9959   0.995905  0.9959  0.995899     0.995443   \n",
            "1            CNN    0.9904   0.990456  0.9904  0.990407     0.989329   \n",
            "\n",
            "   Prediction Time Training Time  \n",
            "0         2.448840            NA  \n",
            "1         2.520138    326.665714  \n"
          ]
        }
      ],
      "source": [
        "data = {\n",
        "    'Model': ['Pretained CNN', 'CNN'],\n",
        "    'Accuracy': [accuracy_mnist_pr, accuracy_mnist_cnn],\n",
        "    'Precision': [precision_mnist_pr, precision_mnist_cnn],\n",
        "    'Recall': [recall_mnist_pr, recall_mnist_cnn],\n",
        "    'F1 Score': [f1_mnist_pr, f1_mnist_cnn],\n",
        "    'Cohen Kappa': [kappa_mnist_pr, kappa_mnist_cnn],\n",
        "    'Prediction Time': [pred_time_mnist_pr, pred_time_mnist_cnn],\n",
        "    'Training Time': ['NA', train_time_mnist_cnn]   # pretrained has no training time\n",
        "}\n",
        "\n",
        "df_comparison = pd.DataFrame(data)\n",
        "print(df_comparison)"
      ]
    },
    {
      "cell_type": "code",
      "execution_count": null,
      "id": "5c6a34ca",
      "metadata": {
        "execution": {
          "iopub.execute_input": "2025-03-22T18:13:25.492502Z",
          "iopub.status.busy": "2025-03-22T18:13:25.492095Z",
          "iopub.status.idle": "2025-03-22T18:13:26.614907Z",
          "shell.execute_reply": "2025-03-22T18:13:26.613816Z"
        },
        "papermill": {
          "duration": 1.397087,
          "end_time": "2025-03-22T18:13:26.617008",
          "exception": false,
          "start_time": "2025-03-22T18:13:25.219921",
          "status": "completed"
        },
        "tags": [],
        "id": "5c6a34ca",
        "outputId": "b8eede72-bfac-4d64-c9da-26bad875361e"
      },
      "outputs": [
        {
          "data": {
            "image/png": "[encoded data removed]",
            "text/plain": [
              "<Figure size 1400x1000 with 4 Axes>"
            ]
          },
          "metadata": {},
          "output_type": "display_data"
        }
      ],
      "source": [
        "fig, axes = plt.subplots(2, 2, figsize=(14, 10))\n",
        "fig.suptitle('Model Comparison: PR vs CNN', fontsize=16)\n",
        "\n",
        "# Plot Accuracy\n",
        "sns.barplot(ax=axes[0, 0], x='Model', y='Accuracy', data=df_comparison, palette='viridis')\n",
        "axes[0, 0].set_title('Accuracy Comparison', fontsize=14)\n",
        "axes[0, 0].set_ylim(0, 1)  # Set y-axis limit for better visualization\n",
        "\n",
        "# Plot Precision\n",
        "sns.barplot(ax=axes[0, 1], x='Model', y='Precision', data=df_comparison, palette='magma')\n",
        "axes[0, 1].set_title('Precision Comparison', fontsize=14)\n",
        "axes[0, 1].set_ylim(0, 1)\n",
        "\n",
        "# Plot Recall\n",
        "sns.barplot(ax=axes[1, 0], x='Model', y='Recall', data=df_comparison, palette='plasma')\n",
        "axes[1, 0].set_title('Recall Comparison', fontsize=14)\n",
        "axes[1, 0].set_ylim(0, 1)\n",
        "\n",
        "# Plot F1 Score\n",
        "sns.barplot(ax=axes[1, 1], x='Model', y='F1 Score', data=df_comparison, palette='coolwarm')\n",
        "axes[1, 1].set_title('F1 Score Comparison', fontsize=14)\n",
        "axes[1, 1].set_ylim(0, 1)\n",
        "\n",
        "plt.tight_layout()\n",
        "plt.show()"
      ]
    },
    {
      "cell_type": "markdown",
      "id": "4c38bc82",
      "metadata": {
        "papermill": {
          "duration": 0.336946,
          "end_time": "2025-03-22T18:13:27.233890",
          "exception": false,
          "start_time": "2025-03-22T18:13:26.896944",
          "status": "completed"
        },
        "tags": [],
        "id": "4c38bc82"
      },
      "source": [
        "# **WEEK 3**"
      ]
    },
    {
      "cell_type": "markdown",
      "id": "029aa319",
      "metadata": {
        "papermill": {
          "duration": 0.271557,
          "end_time": "2025-03-22T18:13:27.783589",
          "exception": false,
          "start_time": "2025-03-22T18:13:27.512032",
          "status": "completed"
        },
        "tags": [],
        "id": "029aa319"
      },
      "source": [
        "Scikit-learn Clustering Algorithms:\n",
        "\n",
        "    K-Means: A popular clustering algorithm that partitions the data into K clusters by minimizing the variance within each cluster.\n",
        "\n",
        "    DBSCAN: Density-Based Spatial Clustering of Applications with Noise. It groups together points that are closely packed together, marking points that are far away as outliers.\n",
        "\n",
        "    Agglomerative Clustering: A hierarchical clustering method that builds nested clusters by merging or splitting them successively.\n",
        "\n",
        "Spark ML Clustering Algorithms:\n",
        "\n",
        "    K-Means: Similar to scikit-learn's K-Means, but optimized for distributed computing.\n",
        "\n",
        "    Gaussian Mixture Model (GMM): A probabilistic model that assumes all the data points are generated from a mixture of a finite number of Gaussian distributions.\n",
        "\n",
        "For this assignment, we will use K-Means from both scikit-learn and Spark ML"
      ]
    },
    {
      "cell_type": "markdown",
      "id": "f5cc8ecc",
      "metadata": {
        "papermill": {
          "duration": 0.270198,
          "end_time": "2025-03-22T18:13:28.325780",
          "exception": false,
          "start_time": "2025-03-22T18:13:28.055582",
          "status": "completed"
        },
        "tags": [],
        "id": "f5cc8ecc"
      },
      "source": [
        "**Prepare data for clustering**"
      ]
    },
    {
      "cell_type": "code",
      "execution_count": null,
      "id": "9aca8f03",
      "metadata": {
        "execution": {
          "iopub.execute_input": "2025-03-22T18:13:28.943935Z",
          "iopub.status.busy": "2025-03-22T18:13:28.943558Z",
          "iopub.status.idle": "2025-03-22T18:13:28.948269Z",
          "shell.execute_reply": "2025-03-22T18:13:28.947238Z"
        },
        "papermill": {
          "duration": 0.348893,
          "end_time": "2025-03-22T18:13:28.949789",
          "exception": false,
          "start_time": "2025-03-22T18:13:28.600896",
          "status": "completed"
        },
        "tags": [],
        "id": "9aca8f03"
      },
      "outputs": [],
      "source": [
        "# Normalize the data (already done in previous steps)\n",
        "x_train_digits_normalized = x_train_digits\n",
        "x_test_digits_normalized = x_test_digits\n",
        "x_train_mnist_normalized = x_train_mnist_flattened\n",
        "x_test_mnist_normalized = x_test_mnist_flattened"
      ]
    },
    {
      "cell_type": "markdown",
      "id": "9757a773",
      "metadata": {
        "papermill": {
          "duration": 0.275153,
          "end_time": "2025-03-22T18:13:29.495668",
          "exception": false,
          "start_time": "2025-03-22T18:13:29.220515",
          "status": "completed"
        },
        "tags": [],
        "id": "9757a773"
      },
      "source": [
        "**A function for matching the labels**"
      ]
    },
    {
      "cell_type": "code",
      "execution_count": null,
      "id": "9000c2d3",
      "metadata": {
        "execution": {
          "iopub.execute_input": "2025-03-22T18:13:30.041748Z",
          "iopub.status.busy": "2025-03-22T18:13:30.041375Z",
          "iopub.status.idle": "2025-03-22T18:13:30.047820Z",
          "shell.execute_reply": "2025-03-22T18:13:30.046666Z"
        },
        "papermill": {
          "duration": 0.284384,
          "end_time": "2025-03-22T18:13:30.049400",
          "exception": false,
          "start_time": "2025-03-22T18:13:29.765016",
          "status": "completed"
        },
        "tags": [],
        "id": "9000c2d3"
      },
      "outputs": [],
      "source": [
        "def match_labels(true_labels, cluster_labels, num_classes=10):\n",
        "    num_classes = len(np.unique(true_labels))\n",
        "    confusion_matrix = np.zeros((num_classes, num_classes), dtype=np.int64)\n",
        "    for true_label, cluster_label in zip(true_labels, cluster_labels):\n",
        "        confusion_matrix[true_label, cluster_label] += 1\n",
        "\n",
        "    #Hungarian algorithm to find the best mapping\n",
        "    row_indices, col_indices = linear_assignment(-confusion_matrix)\n",
        "\n",
        "    #a mapping from cluster labels to true labels\n",
        "    label_mapping = np.zeros(num_classes, dtype=np.int64)\n",
        "    for cluster_label, true_label in zip(col_indices, row_indices):\n",
        "        label_mapping[cluster_label] = true_label\n",
        "\n",
        "    #Map cluster labels to the true labels\n",
        "    mapped_labels = np.array([label_mapping[label] for label in cluster_labels])\n",
        "    return mapped_labels"
      ]
    },
    {
      "cell_type": "markdown",
      "id": "31782cc7",
      "metadata": {
        "papermill": {
          "duration": 0.275287,
          "end_time": "2025-03-22T18:13:30.598362",
          "exception": false,
          "start_time": "2025-03-22T18:13:30.323075",
          "status": "completed"
        },
        "tags": [],
        "id": "31782cc7"
      },
      "source": [
        "# Sklearn k means training"
      ]
    },
    {
      "cell_type": "code",
      "execution_count": null,
      "id": "a84c62a5",
      "metadata": {
        "execution": {
          "iopub.execute_input": "2025-03-22T18:13:31.238099Z",
          "iopub.status.busy": "2025-03-22T18:13:31.237711Z",
          "iopub.status.idle": "2025-03-22T18:14:19.816485Z",
          "shell.execute_reply": "2025-03-22T18:14:19.815281Z"
        },
        "papermill": {
          "duration": 48.951645,
          "end_time": "2025-03-22T18:14:19.818683",
          "exception": false,
          "start_time": "2025-03-22T18:13:30.867038",
          "status": "completed"
        },
        "tags": [],
        "id": "a84c62a5",
        "outputId": "beceacad-8a57-42ab-b345-9605c005ed39"
      },
      "outputs": [
        {
          "name": "stderr",
          "output_type": "stream",
          "text": [
            "/usr/local/lib/python3.10/dist-packages/sklearn/cluster/_kmeans.py:870: FutureWarning: The default value of `n_init` will change from 10 to 'auto' in 1.4. Set the value of `n_init` explicitly to suppress the warning\n",
            "  warnings.warn(\n",
            "/usr/local/lib/python3.10/dist-packages/sklearn/cluster/_kmeans.py:870: FutureWarning: The default value of `n_init` will change from 10 to 'auto' in 1.4. Set the value of `n_init` explicitly to suppress the warning\n",
            "  warnings.warn(\n"
          ]
        }
      ],
      "source": [
        "# Scikit-learn K-Means for Digits\n",
        "start_time = time.time()\n",
        "sklearn_kmeans_digits = SklearnKMeans(n_clusters=10, random_state=42)\n",
        "sklearn_kmeans_digits.fit(x_train_digits_normalized)\n",
        "train_sklearn_digits_time = time.time() - start_time\n",
        "\n",
        "# Scikit-learn K-Means for MNIST\n",
        "start_time = time.time()\n",
        "sklearn_kmeans_mnist = SklearnKMeans(n_clusters=10, random_state=42)\n",
        "sklearn_kmeans_mnist.fit(x_train_mnist_normalized)\n",
        "train_sklearn_mnist_time = time.time() - start_time"
      ]
    },
    {
      "cell_type": "markdown",
      "id": "d646a910",
      "metadata": {
        "papermill": {
          "duration": 0.270737,
          "end_time": "2025-03-22T18:14:20.363549",
          "exception": false,
          "start_time": "2025-03-22T18:14:20.092812",
          "status": "completed"
        },
        "tags": [],
        "id": "d646a910"
      },
      "source": [
        "# Evaluate sk learn kmeans for both test data"
      ]
    },
    {
      "cell_type": "code",
      "execution_count": null,
      "id": "86847ddd",
      "metadata": {
        "execution": {
          "iopub.execute_input": "2025-03-22T18:14:20.903303Z",
          "iopub.status.busy": "2025-03-22T18:14:20.902861Z",
          "iopub.status.idle": "2025-03-22T18:14:21.027558Z",
          "shell.execute_reply": "2025-03-22T18:14:21.026350Z"
        },
        "papermill": {
          "duration": 0.397649,
          "end_time": "2025-03-22T18:14:21.029383",
          "exception": false,
          "start_time": "2025-03-22T18:14:20.631734",
          "status": "completed"
        },
        "tags": [],
        "id": "86847ddd",
        "outputId": "30bcbc21-e3c1-4c2b-88f1-ebbffcbd8e5e"
      },
      "outputs": [
        {
          "name": "stdout",
          "output_type": "stream",
          "text": [
            "----- Scikit-learn K-Means Evaluation -----\n",
            "\n",
            "Evaluating Scikit-learn K-Means for MNIST...\n",
            "Training time: 48.3035 seconds\n",
            "Prediction time: 0.0134 seconds\n",
            "\n",
            "Basic Classification Metrics:\n",
            "Accuracy: 0.5172\n",
            "Precision: 0.5353\n",
            "Recall: 0.5172\n",
            "F1 Score: 0.5124\n",
            "Cohen's Kappa: 0.4634\n",
            "\n",
            "Classification Report:\n",
            "              precision    recall  f1-score   support\n",
            "\n",
            "           0       0.91      0.46      0.61       980\n",
            "           1       0.66      0.58      0.62      1135\n",
            "           2       0.88      0.69      0.77      1032\n",
            "           3       0.53      0.69      0.60      1010\n",
            "           4       0.36      0.57      0.44       982\n",
            "           5       0.13      0.12      0.12       892\n",
            "           6       0.86      0.83      0.84       958\n",
            "           7       0.42      0.59      0.49      1028\n",
            "           8       0.54      0.60      0.57       974\n",
            "           9       0.02      0.01      0.01      1009\n",
            "\n",
            "    accuracy                           0.52     10000\n",
            "   macro avg       0.53      0.51      0.51     10000\n",
            "weighted avg       0.54      0.52      0.51     10000\n",
            "\n",
            "\n",
            "Confusion Matrix\n",
            "[[451   0   2  48   4   5  30   3  17 420]\n",
            " [  0 661   1   2   0 468   2   0   1   0]\n",
            " [  3  60 707  64  30  84  25  11  28  20]\n",
            " [  1  73  40 696  15   7   7   7 144  20]\n",
            " [  1  29   5   0 557  38  36 311   4   1]\n",
            " [  9  23   4 287  55 107  19  69 278  41]\n",
            " [ 20  27  18   3  21  31 795   1  18  24]\n",
            " [  1  59  13   0 292  58   1 602   1   1]\n",
            " [  6  34   7 206  31  46  10  36 586  12]\n",
            " [  4  29   3   7 541  11   4 387  13  10]]\n",
            "\n",
            "Evaluating Scikit-learn K-Means for Digits...\n",
            "Training time: 0.2699 seconds\n",
            "Prediction time: 0.0022 seconds\n",
            "\n",
            "Basic Classification Metrics:\n",
            "Accuracy: 0.8111\n",
            "Precision: 0.8249\n",
            "Recall: 0.8111\n",
            "F1 Score: 0.8101\n",
            "Cohen's Kappa: 0.7888\n",
            "\n",
            "Classification Report:\n",
            "              precision    recall  f1-score   support\n",
            "\n",
            "           0       0.96      0.96      0.96        23\n",
            "           1       0.56      0.28      0.37        18\n",
            "           2       0.88      0.88      0.88        26\n",
            "           3       0.87      0.83      0.85        24\n",
            "           4       0.97      0.92      0.94        37\n",
            "           5       0.92      0.70      0.79        33\n",
            "           6       1.00      0.97      0.98        30\n",
            "           7       0.87      1.00      0.93        26\n",
            "           8       0.44      0.58      0.50        19\n",
            "           9       0.58      0.76      0.66        34\n",
            "\n",
            "    accuracy                           0.81       270\n",
            "   macro avg       0.80      0.79      0.79       270\n",
            "weighted avg       0.82      0.81      0.81       270\n",
            "\n",
            "\n",
            "Confusion Matrix\n",
            "[[22  0  0  0  1  0  0  0  0  0]\n",
            " [ 0  5  3  0  0  0  0  0 10  0]\n",
            " [ 0  0 23  2  0  0  0  0  1  0]\n",
            " [ 0  0  0 20  0  0  0  0  2  2]\n",
            " [ 0  1  0  0 34  0  0  2  0  0]\n",
            " [ 0  0  0  0  0 23  0  0  0 10]\n",
            " [ 1  0  0  0  0  0 29  0  0  0]\n",
            " [ 0  0  0  0  0  0  0 26  0  0]\n",
            " [ 0  0  0  0  0  1  0  0 11  7]\n",
            " [ 0  3  0  1  0  1  0  2  1 26]]\n"
          ]
        }
      ],
      "source": [
        "print(\"----- Scikit-learn K-Means Evaluation -----\\n\")\n",
        "\n",
        "# K-means for MNIST dataset\n",
        "print(\"Evaluating Scikit-learn K-Means for MNIST...\")\n",
        "start_pred = time.time()\n",
        "sklearn_km_mnist_pred = sklearn_kmeans_mnist.predict(x_test_mnist_normalized)\n",
        "end_pred = time.time()\n",
        "pred_time_mnist_sklearn = end_pred - start_pred\n",
        "print(f\"Training time: {train_sklearn_mnist_time:.4f} seconds\")\n",
        "print(f\"Prediction time: {pred_time_mnist_sklearn:.4f} seconds\")\n",
        "\n",
        "# Map the predicted clusters to actual digits for MNIST\n",
        "y_pred_mnist_mapped = match_labels(y_test_mnist, sklearn_km_mnist_pred)\n",
        "\n",
        "# Calculate metrics for MNIST\n",
        "accuracy_mnist_sklearn = accuracy_score(y_test_mnist, y_pred_mnist_mapped)\n",
        "precision_mnist_sklearn = precision_score(y_test_mnist, y_pred_mnist_mapped, average='weighted')\n",
        "recall_mnist_sklearn = recall_score(y_test_mnist, y_pred_mnist_mapped, average='weighted')\n",
        "f1_mnist_sklearn = f1_score(y_test_mnist, y_pred_mnist_mapped, average='weighted')\n",
        "kappa_mnist_sklearn = cohen_kappa_score(y_test_mnist, y_pred_mnist_mapped)\n",
        "\n",
        "print(\"\\nBasic Classification Metrics:\")\n",
        "print(f\"Accuracy: {accuracy_mnist_sklearn:.4f}\")\n",
        "print(f\"Precision: {precision_mnist_sklearn:.4f}\")\n",
        "print(f\"Recall: {recall_mnist_sklearn:.4f}\")\n",
        "print(f\"F1 Score: {f1_mnist_sklearn:.4f}\")\n",
        "print(f\"Cohen's Kappa: {kappa_mnist_sklearn:.4f}\")\n",
        "\n",
        "print(\"\\nClassification Report:\")\n",
        "print(classification_report(y_test_mnist, y_pred_mnist_mapped))\n",
        "\n",
        "cm_mnist_sklearn = confusion_matrix(y_test_mnist, y_pred_mnist_mapped)\n",
        "print(\"\\nConfusion Matrix\")\n",
        "print(cm_mnist_sklearn)\n",
        "# plt.figure(figsize=(10, 8))\n",
        "# sns.heatmap(cm_mnist_sklearn, annot=True, fmt=\"d\", cmap=\"Blues\", xticklabels=range(10), yticklabels=range(10))\n",
        "# plt.title('Confusion Matrix - MNIST K-Means (Scikit-learn)')\n",
        "# plt.ylabel('True Label')\n",
        "# plt.xlabel('Predicted Label')\n",
        "# plt.tight_layout()\n",
        "# plt.show()\n",
        "\n",
        "# K-means for Digits dataset\n",
        "print(\"\\nEvaluating Scikit-learn K-Means for Digits...\")\n",
        "start_pred = time.time()\n",
        "sklearn_km_digits_pred = sklearn_kmeans_digits.predict(x_test_digits_normalized)\n",
        "end_pred = time.time()\n",
        "pred_time_digits_sklearn = end_pred - start_pred\n",
        "print(f\"Training time: {train_sklearn_digits_time:.4f} seconds\")\n",
        "print(f\"Prediction time: {pred_time_digits_sklearn:.4f} seconds\")\n",
        "\n",
        "# Map the predicted clusters to actual digits for Digits dataset\n",
        "y_pred_digits_mapped = match_labels(y_test_digits, sklearn_km_digits_pred)\n",
        "\n",
        "# Calculate metrics for Digits\n",
        "accuracy_digits_sklearn = accuracy_score(y_test_digits, y_pred_digits_mapped)\n",
        "precision_digits_sklearn = precision_score(y_test_digits, y_pred_digits_mapped, average='weighted')\n",
        "recall_digits_sklearn = recall_score(y_test_digits, y_pred_digits_mapped, average='weighted')\n",
        "f1_digits_sklearn = f1_score(y_test_digits, y_pred_digits_mapped, average='weighted')\n",
        "kappa_digits_sklearn = cohen_kappa_score(y_test_digits, y_pred_digits_mapped)\n",
        "\n",
        "print(\"\\nBasic Classification Metrics:\")\n",
        "print(f\"Accuracy: {accuracy_digits_sklearn:.4f}\")\n",
        "print(f\"Precision: {precision_digits_sklearn:.4f}\")\n",
        "print(f\"Recall: {recall_digits_sklearn:.4f}\")\n",
        "print(f\"F1 Score: {f1_digits_sklearn:.4f}\")\n",
        "print(f\"Cohen's Kappa: {kappa_digits_sklearn:.4f}\")\n",
        "\n",
        "print(\"\\nClassification Report:\")\n",
        "print(classification_report(y_test_digits, y_pred_digits_mapped))\n",
        "\n",
        "cm_digits_sklearn = confusion_matrix(y_test_digits, y_pred_digits_mapped)\n",
        "print(\"\\nConfusion Matrix\")\n",
        "print(cm_digits_sklearn)\n",
        "# plt.figure(figsize=(10, 8))\n",
        "# sns.heatmap(cm_digits_sklearn, annot=True, fmt=\"d\", cmap=\"Blues\", xticklabels=range(10), yticklabels=range(10))\n",
        "# plt.title('Confusion Matrix - Digits K-Means (Scikit-learn)')\n",
        "# plt.ylabel('True Label')\n",
        "# plt.xlabel('Predicted Label')\n",
        "# plt.tight_layout()\n",
        "# plt.show()\n",
        "\n",
        "# Save metrics for later comparison\n",
        "sklearn_kmeans_metrics = {\n",
        "    'mnist': {\n",
        "        'accuracy': accuracy_mnist_sklearn,\n",
        "        'precision': precision_mnist_sklearn,\n",
        "        'recall': recall_mnist_sklearn,\n",
        "        'f1': f1_mnist_sklearn,\n",
        "        'kappa': kappa_mnist_sklearn,\n",
        "        'pred_time': pred_time_mnist_sklearn,\n",
        "        'train_time': train_sklearn_mnist_time\n",
        "    },\n",
        "    'digits': {\n",
        "        'accuracy': accuracy_digits_sklearn,\n",
        "        'precision': precision_digits_sklearn,\n",
        "        'recall': recall_digits_sklearn,\n",
        "        'f1': f1_digits_sklearn,\n",
        "        'kappa': kappa_digits_sklearn,\n",
        "        'pred_time': pred_time_digits_sklearn,\n",
        "        'train_time': train_sklearn_digits_time\n",
        "    }\n",
        "}"
      ]
    },
    {
      "cell_type": "markdown",
      "id": "4d971baa",
      "metadata": {
        "papermill": {
          "duration": 0.270284,
          "end_time": "2025-03-22T18:14:21.604156",
          "exception": false,
          "start_time": "2025-03-22T18:14:21.333872",
          "status": "completed"
        },
        "tags": [],
        "id": "4d971baa"
      },
      "source": [
        "# Agglomerative Clustering training"
      ]
    },
    {
      "cell_type": "code",
      "execution_count": null,
      "id": "28bb0e15",
      "metadata": {
        "execution": {
          "iopub.execute_input": "2025-03-22T18:14:22.219351Z",
          "iopub.status.busy": "2025-03-22T18:14:22.218946Z",
          "iopub.status.idle": "2025-03-22T18:14:22.240610Z",
          "shell.execute_reply": "2025-03-22T18:14:22.239569Z"
        },
        "papermill": {
          "duration": 0.369612,
          "end_time": "2025-03-22T18:14:22.242623",
          "exception": false,
          "start_time": "2025-03-22T18:14:21.873011",
          "status": "completed"
        },
        "tags": [],
        "id": "28bb0e15"
      },
      "outputs": [],
      "source": [
        "# Create a subset of the Digits dataset (10% of the data)\n",
        "subset_size_digits = int(0.1 * len(x_train_digits_normalized))\n",
        "x_train_digits_subset, y_train_digits_subset = resample(\n",
        "    x_train_digits_normalized, y_train_digits,\n",
        "    n_samples=subset_size_digits, random_state=42\n",
        ")\n",
        "\n",
        "# Create a subset of the MNIST dataset (20% of the data)\n",
        "subset_size_mnist = int(0.2 * len(x_train_mnist_normalized))\n",
        "x_train_mnist_subset, y_train_mnist_subset = resample(\n",
        "    x_train_mnist_normalized, y_train_mnist,\n",
        "    n_samples=subset_size_mnist, random_state=42\n",
        ")"
      ]
    },
    {
      "cell_type": "markdown",
      "id": "87c34133",
      "metadata": {
        "papermill": {
          "duration": 0.267087,
          "end_time": "2025-03-22T18:14:22.775611",
          "exception": false,
          "start_time": "2025-03-22T18:14:22.508524",
          "status": "completed"
        },
        "tags": [],
        "id": "87c34133"
      },
      "source": [
        "**Train on the subset**"
      ]
    },
    {
      "cell_type": "code",
      "execution_count": null,
      "id": "67e93fe3",
      "metadata": {
        "execution": {
          "iopub.execute_input": "2025-03-22T18:14:23.311346Z",
          "iopub.status.busy": "2025-03-22T18:14:23.310938Z",
          "iopub.status.idle": "2025-03-22T18:15:12.515786Z",
          "shell.execute_reply": "2025-03-22T18:15:12.514561Z"
        },
        "papermill": {
          "duration": 49.475035,
          "end_time": "2025-03-22T18:15:12.517919",
          "exception": false,
          "start_time": "2025-03-22T18:14:23.042884",
          "status": "completed"
        },
        "tags": [],
        "id": "67e93fe3"
      },
      "outputs": [],
      "source": [
        "# Agglomerative Clustering for Digits (subset)\n",
        "start_time = time.time()\n",
        "agglo_digits = AgglomerativeClustering(n_clusters=10)\n",
        "agglo_digits.fit(x_train_digits_subset)\n",
        "train_agglo_digits_time = time.time() - start_time\n",
        "\n",
        "# Agglomerative Clustering for MNIST (subset)\n",
        "start_time = time.time()\n",
        "agglo_mnist = AgglomerativeClustering(n_clusters=10)\n",
        "agglo_mnist.fit(x_train_mnist_subset)\n",
        "train_agglo_mnist_time = time.time() - start_time"
      ]
    },
    {
      "cell_type": "markdown",
      "id": "4406d9a0",
      "metadata": {
        "papermill": {
          "duration": 0.273073,
          "end_time": "2025-03-22T18:15:13.064679",
          "exception": false,
          "start_time": "2025-03-22T18:15:12.791606",
          "status": "completed"
        },
        "tags": [],
        "id": "4406d9a0"
      },
      "source": [
        "# Evaluating Agglomerative Clustering"
      ]
    },
    {
      "cell_type": "code",
      "execution_count": null,
      "id": "6dc4489e",
      "metadata": {
        "execution": {
          "iopub.execute_input": "2025-03-22T18:15:13.684967Z",
          "iopub.status.busy": "2025-03-22T18:15:13.684541Z",
          "iopub.status.idle": "2025-03-22T18:15:46.996545Z",
          "shell.execute_reply": "2025-03-22T18:15:46.995256Z"
        },
        "papermill": {
          "duration": 33.855066,
          "end_time": "2025-03-22T18:15:47.268115",
          "exception": false,
          "start_time": "2025-03-22T18:15:13.413049",
          "status": "completed"
        },
        "tags": [],
        "id": "6dc4489e",
        "outputId": "9755d6ad-f8af-46e7-810c-8e3da5b80bd3"
      },
      "outputs": [
        {
          "name": "stdout",
          "output_type": "stream",
          "text": [
            "----- Agglomerative Clustering Evaluation -----\n",
            "\n",
            "Evaluating Agglomerative Clustering for MNIST...\n",
            "Training time: 49.1936 seconds\n",
            "Prediction time: 33.2040 seconds\n",
            "\n",
            "Basic Classification Metrics:\n",
            "Accuracy: 0.6948\n",
            "Precision: 0.6862\n",
            "Recall: 0.6948\n",
            "F1 Score: 0.6786\n",
            "Cohen's Kappa: 0.6609\n",
            "\n",
            "Classification Report:\n",
            "              precision    recall  f1-score   support\n",
            "\n",
            "           0       0.97      0.98      0.98       980\n",
            "           1       0.99      0.67      0.80      1135\n",
            "           2       0.97      0.88      0.92      1032\n",
            "           3       0.67      0.91      0.77      1010\n",
            "           4       0.01      0.00      0.00       982\n",
            "           5       0.23      0.23      0.23       892\n",
            "           6       0.93      0.97      0.95       958\n",
            "           7       0.91      0.68      0.78      1028\n",
            "           8       0.59      0.79      0.68       974\n",
            "           9       0.49      0.78      0.60      1009\n",
            "\n",
            "    accuracy                           0.69     10000\n",
            "   macro avg       0.68      0.69      0.67     10000\n",
            "weighted avg       0.69      0.69      0.68     10000\n",
            "\n",
            "\n",
            "Confusion Matrix\n",
            "[[959   0   0   2   1   4   9   2   3   0]\n",
            " [  0 763   3   5 354   2   6   0   0   2]\n",
            " [ 10   0 908  11   1  62   7  18  13   2]\n",
            " [  0   0   2 920   0   9   6  11  59   3]\n",
            " [  0   1   2   1   3 201  24  12   4 734]\n",
            " [  5   0   0 248   0 201  15   0 416   7]\n",
            " [  7   0   1   5   2   5 933   0   4   1]\n",
            " [  0   4   9   2   8 232   1 704   9  59]\n",
            " [  3   3   8 162   0  18   4   5 768   3]\n",
            " [  1   1   4  17   1 156   3  20  17 789]]\n",
            "\n",
            "Evaluating Agglomerative Clustering for Digits...\n",
            "Training time: 0.0061 seconds\n",
            "Prediction time: 0.0042 seconds\n",
            "\n",
            "Basic Classification Metrics:\n",
            "Accuracy: 0.7444\n",
            "Precision: 0.7501\n",
            "Recall: 0.7444\n",
            "F1 Score: 0.7341\n",
            "Cohen's Kappa: 0.7148\n",
            "\n",
            "Classification Report:\n",
            "              precision    recall  f1-score   support\n",
            "\n",
            "           0       0.96      1.00      0.98        23\n",
            "           1       0.30      0.33      0.32        18\n",
            "           2       0.81      0.96      0.88        26\n",
            "           3       0.00      0.00      0.00        24\n",
            "           4       1.00      1.00      1.00        37\n",
            "           5       0.95      0.58      0.72        33\n",
            "           6       1.00      0.97      0.98        30\n",
            "           7       1.00      0.73      0.84        26\n",
            "           8       0.61      1.00      0.76        19\n",
            "           9       0.53      0.71      0.61        34\n",
            "\n",
            "    accuracy                           0.74       270\n",
            "   macro avg       0.72      0.73      0.71       270\n",
            "weighted avg       0.75      0.74      0.73       270\n",
            "\n",
            "\n",
            "Confusion Matrix\n",
            "[[23  0  0  0  0  0  0  0  0  0]\n",
            " [ 0  6  3  0  0  0  0  0  9  0]\n",
            " [ 0  0 25  0  0  0  0  0  1  0]\n",
            " [ 0  0  2  0  0  1  0  0  0 21]\n",
            " [ 0  0  0  0 37  0  0  0  0  0]\n",
            " [ 0  0  0 14  0 19  0  0  0  0]\n",
            " [ 1  0  0  0  0  0 29  0  0  0]\n",
            " [ 0  7  0  0  0  0  0 19  0  0]\n",
            " [ 0  0  0  0  0  0  0  0 19  0]\n",
            " [ 0  7  1  0  0  0  0  0  2 24]]\n"
          ]
        }
      ],
      "source": [
        "print(\"----- Agglomerative Clustering Evaluation -----\\n\")\n",
        "\n",
        "# Agglomerative Clustering for MNIST dataset\n",
        "print(\"Evaluating Agglomerative Clustering for MNIST...\")\n",
        "start_pred = time.time()\n",
        "# Since AgglomerativeClustering doesn't have a separate predict method, we need to apply it to test data\n",
        "agglo_mnist_pred = AgglomerativeClustering(n_clusters=10).fit_predict(x_test_mnist_normalized)\n",
        "end_pred = time.time()\n",
        "pred_time_mnist_agglo = end_pred - start_pred\n",
        "print(f\"Training time: {train_agglo_mnist_time:.4f} seconds\")\n",
        "print(f\"Prediction time: {pred_time_mnist_agglo:.4f} seconds\")\n",
        "\n",
        "y_pred_mnist_agglo_mapped = match_labels(y_test_mnist, agglo_mnist_pred)\n",
        "\n",
        "# Calculate metrics for MNIST\n",
        "accuracy_mnist_agglo = accuracy_score(y_test_mnist, y_pred_mnist_agglo_mapped)\n",
        "precision_mnist_agglo = precision_score(y_test_mnist, y_pred_mnist_agglo_mapped, average='weighted')\n",
        "recall_mnist_agglo = recall_score(y_test_mnist, y_pred_mnist_agglo_mapped, average='weighted')\n",
        "f1_mnist_agglo = f1_score(y_test_mnist, y_pred_mnist_agglo_mapped, average='weighted')\n",
        "kappa_mnist_agglo = cohen_kappa_score(y_test_mnist, y_pred_mnist_agglo_mapped)\n",
        "\n",
        "print(\"\\nBasic Classification Metrics:\")\n",
        "print(f\"Accuracy: {accuracy_mnist_agglo:.4f}\")\n",
        "print(f\"Precision: {precision_mnist_agglo:.4f}\")\n",
        "print(f\"Recall: {recall_mnist_agglo:.4f}\")\n",
        "print(f\"F1 Score: {f1_mnist_agglo:.4f}\")\n",
        "print(f\"Cohen's Kappa: {kappa_mnist_agglo:.4f}\")\n",
        "\n",
        "print(\"\\nClassification Report:\")\n",
        "print(classification_report(y_test_mnist, y_pred_mnist_agglo_mapped))\n",
        "\n",
        "cm_mnist_agglo = confusion_matrix(y_test_mnist, y_pred_mnist_agglo_mapped)\n",
        "print(\"\\nConfusion Matrix\")\n",
        "print(cm_mnist_agglo)\n",
        "# plt.figure(figsize=(10, 8))\n",
        "# sns.heatmap(cm_mnist_agglo, annot=True, fmt=\"d\", cmap=\"Blues\", xticklabels=range(10), yticklabels=range(10))\n",
        "# plt.title('Confusion Matrix - MNIST Agglomerative Clustering')\n",
        "# plt.ylabel('True Label')\n",
        "# plt.xlabel('Predicted Label')\n",
        "# plt.tight_layout()\n",
        "# plt.show()\n",
        "\n",
        "# Agglomerative Clustering for Digits dataset\n",
        "print(\"\\nEvaluating Agglomerative Clustering for Digits...\")\n",
        "start_pred = time.time()\n",
        "agglo_digits_pred = AgglomerativeClustering(n_clusters=10).fit_predict(x_test_digits_normalized)\n",
        "end_pred = time.time()\n",
        "pred_time_digits_agglo = end_pred - start_pred\n",
        "print(f\"Training time: {train_agglo_digits_time:.4f} seconds\")\n",
        "print(f\"Prediction time: {pred_time_digits_agglo:.4f} seconds\")\n",
        "\n",
        "# Map the predicted clusters to actual digits for Digits dataset\n",
        "y_pred_digits_agglo_mapped = match_labels(y_test_digits, agglo_digits_pred)\n",
        "\n",
        "# Calculate metrics for Digits\n",
        "accuracy_digits_agglo = accuracy_score(y_test_digits, y_pred_digits_agglo_mapped)\n",
        "precision_digits_agglo = precision_score(y_test_digits, y_pred_digits_agglo_mapped, average='weighted')\n",
        "recall_digits_agglo = recall_score(y_test_digits, y_pred_digits_agglo_mapped, average='weighted')\n",
        "f1_digits_agglo = f1_score(y_test_digits, y_pred_digits_agglo_mapped, average='weighted')\n",
        "kappa_digits_agglo = cohen_kappa_score(y_test_digits, y_pred_digits_agglo_mapped)\n",
        "\n",
        "print(\"\\nBasic Classification Metrics:\")\n",
        "print(f\"Accuracy: {accuracy_digits_agglo:.4f}\")\n",
        "print(f\"Precision: {precision_digits_agglo:.4f}\")\n",
        "print(f\"Recall: {recall_digits_agglo:.4f}\")\n",
        "print(f\"F1 Score: {f1_digits_agglo:.4f}\")\n",
        "print(f\"Cohen's Kappa: {kappa_digits_agglo:.4f}\")\n",
        "\n",
        "print(\"\\nClassification Report:\")\n",
        "print(classification_report(y_test_digits, y_pred_digits_agglo_mapped))\n",
        "\n",
        "cm_digits_agglo = confusion_matrix(y_test_digits, y_pred_digits_agglo_mapped)\n",
        "print(\"\\nConfusion Matrix\")\n",
        "print(cm_digits_agglo)\n",
        "# plt.figure(figsize=(10, 8))\n",
        "# sns.heatmap(cm_digits_agglo, annot=True, fmt=\"d\", cmap=\"Blues\", xticklabels=range(10), yticklabels=range(10))\n",
        "# plt.title('Confusion Matrix - Digits Agglomerative Clustering')\n",
        "# plt.ylabel('True Label')\n",
        "# plt.xlabel('Predicted Label')\n",
        "# plt.tight_layout()\n",
        "# plt.show()\n",
        "\n",
        "# Save metrics for later comparison\n",
        "agglo_metrics = {\n",
        "    'mnist': {\n",
        "        'accuracy': accuracy_mnist_agglo,\n",
        "        'precision': precision_mnist_agglo,\n",
        "        'recall': recall_mnist_agglo,\n",
        "        'f1': f1_mnist_agglo,\n",
        "        'kappa': kappa_mnist_agglo,\n",
        "        'pred_time': pred_time_mnist_agglo,\n",
        "        'train_time': train_agglo_mnist_time\n",
        "    },\n",
        "    'digits': {\n",
        "        'accuracy': accuracy_digits_agglo,\n",
        "        'precision': precision_digits_agglo,\n",
        "        'recall': recall_digits_agglo,\n",
        "        'f1': f1_digits_agglo,\n",
        "        'kappa': kappa_digits_agglo,\n",
        "        'pred_time': pred_time_digits_agglo,\n",
        "        'train_time': train_agglo_digits_time\n",
        "    }\n",
        "}"
      ]
    },
    {
      "cell_type": "markdown",
      "id": "cd7fd47b",
      "metadata": {
        "papermill": {
          "duration": 0.265732,
          "end_time": "2025-03-22T18:15:47.806759",
          "exception": false,
          "start_time": "2025-03-22T18:15:47.541027",
          "status": "completed"
        },
        "tags": [],
        "id": "cd7fd47b"
      },
      "source": [
        "# Spark kmeans training"
      ]
    },
    {
      "cell_type": "code",
      "execution_count": null,
      "id": "2150e6bd",
      "metadata": {
        "execution": {
          "iopub.execute_input": "2025-03-22T18:15:48.352004Z",
          "iopub.status.busy": "2025-03-22T18:15:48.351630Z",
          "iopub.status.idle": "2025-03-22T18:16:27.374691Z",
          "shell.execute_reply": "2025-03-22T18:16:27.373498Z"
        },
        "papermill": {
          "duration": 39.298674,
          "end_time": "2025-03-22T18:16:27.376945",
          "exception": false,
          "start_time": "2025-03-22T18:15:48.078271",
          "status": "completed"
        },
        "tags": [],
        "id": "2150e6bd"
      },
      "outputs": [],
      "source": [
        "# Initialize Spark Session\n",
        "spark = SparkSession.builder \\\n",
        "    .appName(\"MNIST_Digits\") \\\n",
        "    .config(\"spark.executor.memory\", \"4g\") \\\n",
        "    .config(\"spark.driver.memory\", \"4g\") \\\n",
        "    .config(\"spark.executor.cores\", \"4\") \\\n",
        "    .config(\"spark.sql.shuffle.partitions\", \"64\") \\\n",
        "    .getOrCreate()\n",
        "\n",
        "\n",
        "# Convert data to Spark DataFrame\n",
        "def convert_to_float(arr):\n",
        "    return [float(x) for x in arr]\n",
        "\n",
        "y_test_mnist = [int(y) for y in y_test_mnist]  # Convert labels to int\n",
        "y_test_digits = [int(y) for y in y_test_digits]  # Convert labels to int\n",
        "\n",
        "train_data_mnist_spark = spark.createDataFrame(\n",
        "    [(Vectors.dense(convert_to_float(x)),) for x in x_train_mnist_normalized], [\"features\"]\n",
        ")\n",
        "test_data_mnist_spark = spark.createDataFrame(\n",
        "    [(Vectors.dense(convert_to_float(x)), int(y)) for x, y in zip(x_test_mnist_normalized, y_test_mnist)], [\"features\", \"true_label\"]\n",
        ")\n",
        "\n",
        "train_data_digits_spark = spark.createDataFrame(\n",
        "    [(Vectors.dense(convert_to_float(x)),) for x in x_train_digits_normalized], [\"features\"]\n",
        ")\n",
        "test_data_digits_spark = spark.createDataFrame(\n",
        "    [(Vectors.dense(convert_to_float(x)), int(y)) for x, y in zip(x_test_digits_normalized, y_test_digits)], [\"features\", \"true_label\"]\n",
        ")"
      ]
    },
    {
      "cell_type": "code",
      "execution_count": null,
      "id": "36d16af9",
      "metadata": {
        "execution": {
          "iopub.execute_input": "2025-03-22T18:16:27.992519Z",
          "iopub.status.busy": "2025-03-22T18:16:27.992088Z",
          "iopub.status.idle": "2025-03-22T18:17:36.574489Z",
          "shell.execute_reply": "2025-03-22T18:17:36.573319Z"
        },
        "papermill": {
          "duration": 68.858902,
          "end_time": "2025-03-22T18:17:36.576863",
          "exception": false,
          "start_time": "2025-03-22T18:16:27.717961",
          "status": "completed"
        },
        "tags": [],
        "id": "36d16af9",
        "outputId": "fae43efb-6e5c-4116-eb9e-086f34044765"
      },
      "outputs": [
        {
          "name": "stdout",
          "output_type": "stream",
          "text": [
            "Training PySpark K-means for MNIST...\n",
            "Training PySpark K-means for Digits...\n"
          ]
        }
      ],
      "source": [
        "# PySpark K-means for MNIST\n",
        "print(\"Training PySpark K-means for MNIST...\")\n",
        "start_time = time.time()\n",
        "spark_kmeans_mnist = KMeans().setK(10).setSeed(42).setFeaturesCol(\"features\").setPredictionCol(\"prediction\")\n",
        "spark_kmeans_model_mnist = spark_kmeans_mnist.fit(train_data_mnist_spark)\n",
        "train_time_mnist_spark = time.time() - start_time\n",
        "\n",
        "# PySpark K-means for Digits\n",
        "print(\"Training PySpark K-means for Digits...\")\n",
        "start_time = time.time()\n",
        "spark_kmeans_digits = KMeans().setK(10).setSeed(42).setFeaturesCol(\"features\").setPredictionCol(\"prediction\")\n",
        "spark_kmeans_model_digits = spark_kmeans_digits.fit(train_data_digits_spark)\n",
        "train_time_digits_spark = time.time() - start_time"
      ]
    },
    {
      "cell_type": "markdown",
      "id": "0b433fa0",
      "metadata": {
        "papermill": {
          "duration": 0.274431,
          "end_time": "2025-03-22T18:17:37.151882",
          "exception": false,
          "start_time": "2025-03-22T18:17:36.877451",
          "status": "completed"
        },
        "tags": [],
        "id": "0b433fa0"
      },
      "source": [
        "# Evaluating Spark kmeans"
      ]
    },
    {
      "cell_type": "code",
      "execution_count": null,
      "id": "752e9f3b",
      "metadata": {
        "execution": {
          "iopub.execute_input": "2025-03-22T18:17:37.696604Z",
          "iopub.status.busy": "2025-03-22T18:17:37.696241Z",
          "iopub.status.idle": "2025-03-22T18:17:40.036072Z",
          "shell.execute_reply": "2025-03-22T18:17:40.034904Z"
        },
        "papermill": {
          "duration": 2.612711,
          "end_time": "2025-03-22T18:17:40.037992",
          "exception": false,
          "start_time": "2025-03-22T18:17:37.425281",
          "status": "completed"
        },
        "tags": [],
        "id": "752e9f3b",
        "outputId": "9a3f055c-223c-495a-9dee-b98980461cc4"
      },
      "outputs": [
        {
          "name": "stdout",
          "output_type": "stream",
          "text": [
            "----- PySpark K-means Evaluation -----\n",
            "\n",
            "Evaluating PySpark K-means for MNIST...\n",
            "Training time: 64.6392 seconds\n",
            "Prediction time: 0.0289 seconds\n",
            "\n",
            "Basic Classification Metrics:\n",
            "Accuracy: 0.5849\n",
            "Precision: 0.6034\n",
            "Recall: 0.5849\n",
            "F1 Score: 0.5876\n",
            "Cohen's Kappa: 0.5383\n",
            "\n",
            "Classification Report:\n",
            "              precision    recall  f1-score   support\n",
            "\n",
            "           0       0.94      0.78      0.85       980\n",
            "           1       0.69      0.97      0.81      1135\n",
            "           2       0.91      0.68      0.78      1032\n",
            "           3       0.50      0.48      0.49      1010\n",
            "           4       0.43      0.43      0.43       982\n",
            "           5       0.25      0.26      0.26       892\n",
            "           6       0.87      0.83      0.85       958\n",
            "           7       0.35      0.33      0.34      1028\n",
            "           8       0.71      0.57      0.64       974\n",
            "           9       0.35      0.44      0.39      1009\n",
            "\n",
            "    accuracy                           0.58     10000\n",
            "   macro avg       0.60      0.58      0.58     10000\n",
            "weighted avg       0.60      0.58      0.59     10000\n",
            "\n",
            "\n",
            "Confusion Matrix\n",
            "[[ 763    1    3   99    7   58   30   12    6    1]\n",
            " [   0 1104    5    2    0    2    3    0   17    2]\n",
            " [  13  141  705   26   25   41   23   10   38   10]\n",
            " [   1   43   22  481    7  375    6    8   52   15]\n",
            " [   0   25    3    0  421    0   25  264    0  244]\n",
            " [   4   81    4  265   34  236   18  115   96   39]\n",
            " [  18   52   17   28   37    3  796    0    6    1]\n",
            " [   1   69   10    0  111    1    0  336    7  493]\n",
            " [   4   72    6   56   13  205    8   24  560   26]\n",
            " [   9   17    2    9  318    7    2  193    5  447]]\n",
            "\n",
            "Evaluating PySpark K-means for Digits...\n",
            "Training time: 3.9367 seconds\n",
            "Prediction time: 0.0774 seconds\n",
            "\n",
            "Basic Classification Metrics:\n",
            "Accuracy: 0.6852\n",
            "Precision: 0.6808\n",
            "Recall: 0.6852\n",
            "F1 Score: 0.6676\n",
            "Cohen's Kappa: 0.6490\n",
            "\n",
            "Classification Report:\n",
            "              precision    recall  f1-score   support\n",
            "\n",
            "           0       0.96      1.00      0.98        23\n",
            "           1       0.33      0.28      0.30        18\n",
            "           2       0.88      0.88      0.88        26\n",
            "           3       0.87      0.83      0.85        24\n",
            "           4       0.38      0.16      0.23        37\n",
            "           5       0.92      0.70      0.79        33\n",
            "           6       0.58      0.97      0.72        30\n",
            "           7       0.83      0.73      0.78        26\n",
            "           8       0.46      0.58      0.51        19\n",
            "           9       0.59      0.76      0.67        34\n",
            "\n",
            "    accuracy                           0.69       270\n",
            "   macro avg       0.68      0.69      0.67       270\n",
            "weighted avg       0.68      0.69      0.67       270\n",
            "\n",
            "\n",
            "Confusion Matrix\n",
            "[[23  0  0  0  0  0  0  0  0  0]\n",
            " [ 0  5  3  0  0  0  0  0 10  0]\n",
            " [ 0  0 23  2  0  0  0  0  1  0]\n",
            " [ 0  0  0 20  0  0  0  0  2  2]\n",
            " [ 0  7  0  0  6  0 21  3  0  0]\n",
            " [ 0  0  0  0  0 23  0  0  0 10]\n",
            " [ 1  0  0  0  0  0 29  0  0  0]\n",
            " [ 0  0  0  0  7  0  0 19  0  0]\n",
            " [ 0  0  0  0  1  1  0  0 11  6]\n",
            " [ 0  3  0  1  2  1  0  1  0 26]]\n"
          ]
        }
      ],
      "source": [
        "print(\"----- PySpark K-means Evaluation -----\\n\")\n",
        "\n",
        "# Evaluate PySpark K-means for MNIST\n",
        "print(\"Evaluating PySpark K-means for MNIST...\")\n",
        "start_pred = time.time()\n",
        "predictions_mnist = spark_kmeans_model_mnist.transform(test_data_mnist_spark)\n",
        "end_pred = time.time()\n",
        "pred_time_mnist_spark = end_pred - start_pred\n",
        "print(f\"Training time: {train_time_mnist_spark:.4f} seconds\")\n",
        "print(f\"Prediction time: {pred_time_mnist_spark:.4f} seconds\")\n",
        "\n",
        "# Convert to Pandas for metrics computation\n",
        "pred_df_mnist = predictions_mnist.select(\"true_label\", \"prediction\").toPandas()\n",
        "y_true_mnist_spark = pred_df_mnist[\"true_label\"].values\n",
        "y_pred_mnist_spark = pred_df_mnist[\"prediction\"].values\n",
        "\n",
        "# Map cluster labels to actual digits\n",
        "y_pred_mnist_spark_mapped = match_labels(y_true_mnist_spark, y_pred_mnist_spark)\n",
        "\n",
        "\n",
        "accuracy_mnist_spark = accuracy_score(y_true_mnist_spark, y_pred_mnist_spark_mapped)\n",
        "precision_mnist_spark = precision_score(y_true_mnist_spark, y_pred_mnist_spark_mapped, average='weighted')\n",
        "recall_mnist_spark = recall_score(y_true_mnist_spark, y_pred_mnist_spark_mapped, average='weighted')\n",
        "f1_mnist_spark = f1_score(y_true_mnist_spark, y_pred_mnist_spark_mapped, average='weighted')\n",
        "kappa_mnist_spark = cohen_kappa_score(y_true_mnist_spark, y_pred_mnist_spark_mapped)\n",
        "\n",
        "print(\"\\nBasic Classification Metrics:\")\n",
        "print(f\"Accuracy: {accuracy_mnist_spark:.4f}\")\n",
        "print(f\"Precision: {precision_mnist_spark:.4f}\")\n",
        "print(f\"Recall: {recall_mnist_spark:.4f}\")\n",
        "print(f\"F1 Score: {f1_mnist_spark:.4f}\")\n",
        "print(f\"Cohen's Kappa: {kappa_mnist_spark:.4f}\")\n",
        "\n",
        "print(\"\\nClassification Report:\")\n",
        "print(classification_report(y_true_mnist_spark, y_pred_mnist_spark_mapped))\n",
        "\n",
        "cm_mnist_spark = confusion_matrix(y_true_mnist_spark, y_pred_mnist_spark_mapped)\n",
        "print(\"\\nConfusion Matrix\")\n",
        "print(cm_mnist_spark)\n",
        "# plt.figure(figsize=(10, 8))\n",
        "# sns.heatmap(cm_mnist_spark, annot=True, fmt=\"d\", cmap=\"Blues\", xticklabels=range(10), yticklabels=range(10))\n",
        "# plt.title('Confusion Matrix - MNIST K-means (PySpark)')\n",
        "# plt.ylabel('True Label')\n",
        "# plt.xlabel('Predicted Label')\n",
        "# plt.tight_layout()\n",
        "# plt.show()\n",
        "\n",
        "# Evaluate PySpark K-means for Digits\n",
        "print(\"\\nEvaluating PySpark K-means for Digits...\")\n",
        "start_pred = time.time()\n",
        "predictions_digits = spark_kmeans_model_digits.transform(test_data_digits_spark)\n",
        "end_pred = time.time()\n",
        "pred_time_digits_spark = end_pred - start_pred\n",
        "print(f\"Training time: {train_time_digits_spark:.4f} seconds\")\n",
        "print(f\"Prediction time: {pred_time_digits_spark:.4f} seconds\")\n",
        "\n",
        "# Convert to Pandas for metrics computation\n",
        "pred_df_digits = predictions_digits.select(\"true_label\", \"prediction\").toPandas()\n",
        "y_true_digits_spark = pred_df_digits[\"true_label\"].values\n",
        "y_pred_digits_spark = pred_df_digits[\"prediction\"].values\n",
        "\n",
        "# Map cluster labels to actual digits\n",
        "y_pred_digits_spark_mapped = match_labels(y_true_digits_spark, y_pred_digits_spark)\n",
        "\n",
        "# Calculate metrics\n",
        "accuracy_digits_spark = accuracy_score(y_true_digits_spark, y_pred_digits_spark_mapped)\n",
        "precision_digits_spark = precision_score(y_true_digits_spark, y_pred_digits_spark_mapped, average='weighted')\n",
        "recall_digits_spark = recall_score(y_true_digits_spark, y_pred_digits_spark_mapped, average='weighted')\n",
        "f1_digits_spark = f1_score(y_true_digits_spark, y_pred_digits_spark_mapped, average='weighted')\n",
        "kappa_digits_spark = cohen_kappa_score(y_true_digits_spark, y_pred_digits_spark_mapped)\n",
        "\n",
        "print(\"\\nBasic Classification Metrics:\")\n",
        "print(f\"Accuracy: {accuracy_digits_spark:.4f}\")\n",
        "print(f\"Precision: {precision_digits_spark:.4f}\")\n",
        "print(f\"Recall: {recall_digits_spark:.4f}\")\n",
        "print(f\"F1 Score: {f1_digits_spark:.4f}\")\n",
        "print(f\"Cohen's Kappa: {kappa_digits_spark:.4f}\")\n",
        "\n",
        "print(\"\\nClassification Report:\")\n",
        "print(classification_report(y_true_digits_spark, y_pred_digits_spark_mapped))\n",
        "\n",
        "cm_digits_spark = confusion_matrix(y_true_digits_spark, y_pred_digits_spark_mapped)\n",
        "print(\"\\nConfusion Matrix\")\n",
        "print(cm_digits_spark)\n",
        "# plt.figure(figsize=(10, 8))\n",
        "# sns.heatmap(cm_digits_spark, annot=True, fmt=\"d\", cmap=\"Blues\", xticklabels=range(10), yticklabels=range(10))\n",
        "# plt.title('Confusion Matrix - Digits K-means (PySpark)')\n",
        "# plt.ylabel('True Label')\n",
        "# plt.xlabel('Predicted Label')\n",
        "# plt.tight_layout()\n",
        "# plt.show()\n",
        "\n",
        "# Save metrics for later comparison\n",
        "spark_kmeans_metrics = {\n",
        "    'mnist': {\n",
        "        'accuracy': accuracy_mnist_spark,\n",
        "        'precision': precision_mnist_spark,\n",
        "        'recall': recall_mnist_spark,\n",
        "        'f1': f1_mnist_spark,\n",
        "        'kappa': kappa_mnist_spark,\n",
        "        'pred_time': pred_time_mnist_spark,\n",
        "        'train_time': train_time_mnist_spark\n",
        "    },\n",
        "    'digits': {\n",
        "        'accuracy': accuracy_digits_spark,\n",
        "        'precision': precision_digits_spark,\n",
        "        'recall': recall_digits_spark,\n",
        "        'f1': f1_digits_spark,\n",
        "        'kappa': kappa_digits_spark,\n",
        "        'pred_time': pred_time_digits_spark,\n",
        "        'train_time': train_time_digits_spark\n",
        "    }\n",
        "}"
      ]
    },
    {
      "cell_type": "markdown",
      "id": "15c8d0d2",
      "metadata": {
        "papermill": {
          "duration": 0.342709,
          "end_time": "2025-03-22T18:17:40.663745",
          "exception": false,
          "start_time": "2025-03-22T18:17:40.321036",
          "status": "completed"
        },
        "tags": [],
        "id": "15c8d0d2"
      },
      "source": [
        "# Final Comparison of all the models so far"
      ]
    },
    {
      "cell_type": "code",
      "execution_count": null,
      "id": "5dfccbc7",
      "metadata": {
        "execution": {
          "iopub.execute_input": "2025-03-22T18:17:41.241199Z",
          "iopub.status.busy": "2025-03-22T18:17:41.240602Z",
          "iopub.status.idle": "2025-03-22T18:17:41.264964Z",
          "shell.execute_reply": "2025-03-22T18:17:41.263660Z"
        },
        "papermill": {
          "duration": 0.33415,
          "end_time": "2025-03-22T18:17:41.266698",
          "exception": false,
          "start_time": "2025-03-22T18:17:40.932548",
          "status": "completed"
        },
        "tags": [],
        "id": "5dfccbc7",
        "outputId": "43173bef-4d00-4dd0-d396-07553a510538"
      },
      "outputs": [
        {
          "name": "stdout",
          "output_type": "stream",
          "text": [
            "----- Overall Model Comparison -----\n",
            "\n",
            "   Dataset                Model  Accuracy  Precision    Recall        F1  \\\n",
            "0    MNIST           PySpark LR  0.918100   0.917884  0.918100  0.917728   \n",
            "1   Digits           PySpark LR  0.955556   0.957099  0.955556  0.955670   \n",
            "2    MNIST      Scikit-learn RF  0.970500   0.970496  0.970500  0.970472   \n",
            "3   Digits      Scikit-learn RF  0.970370   0.971549  0.970370  0.970234   \n",
            "4    MNIST                  CNN  0.990400   0.990456  0.990400  0.990407   \n",
            "5   Digits                  CNN  0.985185   0.985803  0.985185  0.985246   \n",
            "6    MNIST  Scikit-learn KMeans  0.517200   0.535345  0.517200  0.512448   \n",
            "7   Digits  Scikit-learn KMeans  0.811111   0.824853  0.811111  0.810086   \n",
            "8    MNIST        Agglomerative  0.694800   0.686240  0.694800  0.678565   \n",
            "9   Digits        Agglomerative  0.744444   0.750140  0.744444  0.734102   \n",
            "10   MNIST         Spark KMeans  0.584900   0.603355  0.584900  0.587610   \n",
            "11  Digits         Spark KMeans  0.685185   0.680829  0.685185  0.667561   \n",
            "\n",
            "       Kappa  Train Time  Pred Time  \n",
            "0   0.908958   42.473245   0.081233  \n",
            "1   0.950333    1.952087   0.107942  \n",
            "2   0.967209   45.878416   0.489730  \n",
            "3   0.966891    0.401121   0.011242  \n",
            "4   0.989329  326.665714   2.520138  \n",
            "5   0.983448    4.798380   0.242764  \n",
            "6   0.463433   48.303477   0.013350  \n",
            "7   0.788823    0.269887   0.002167  \n",
            "8   0.660943   49.193558  33.204050  \n",
            "9   0.714850    0.006109   0.004176  \n",
            "10  0.538281   64.639179   0.028891  \n",
            "11  0.648991    3.936691   0.077417  \n"
          ]
        }
      ],
      "source": [
        "print(\"----- Overall Model Comparison -----\\n\")\n",
        "\n",
        "# Metrics data\n",
        "data = [\n",
        "    # PySpark LR\n",
        "    {\n",
        "        \"Dataset\": \"MNIST\",\n",
        "        \"Model\": \"PySpark LR\",\n",
        "        \"Accuracy\": spark_metrics['mnist']['accuracy'],\n",
        "        \"Precision\": spark_metrics['mnist']['precision'],\n",
        "        \"Recall\": spark_metrics['mnist']['recall'],\n",
        "        \"F1\": spark_metrics['mnist']['f1'],\n",
        "        \"Kappa\": spark_metrics['mnist']['kappa'],\n",
        "        \"Train Time\": spark_metrics['mnist']['train_time'],\n",
        "        \"Pred Time\": spark_metrics['mnist']['pred_time']\n",
        "    },\n",
        "    {\n",
        "        \"Dataset\": \"Digits\",\n",
        "        \"Model\": \"PySpark LR\",\n",
        "        \"Accuracy\": spark_metrics['digits']['accuracy'],\n",
        "        \"Precision\": spark_metrics['digits']['precision'],\n",
        "        \"Recall\": spark_metrics['digits']['recall'],\n",
        "        \"F1\": spark_metrics['digits']['f1'],\n",
        "        \"Kappa\": spark_metrics['digits']['kappa'],\n",
        "        \"Train Time\": spark_metrics['digits']['train_time'],\n",
        "        \"Pred Time\": spark_metrics['digits']['pred_time']\n",
        "    },\n",
        "    # Scikit-learn RF\n",
        "    {\n",
        "        \"Dataset\": \"MNIST\",\n",
        "        \"Model\": \"Scikit-learn RF\",\n",
        "        \"Accuracy\": rf_metrics['mnist']['accuracy'],\n",
        "        \"Precision\": rf_metrics['mnist']['precision'],\n",
        "        \"Recall\": rf_metrics['mnist']['recall'],\n",
        "        \"F1\": rf_metrics['mnist']['f1'],\n",
        "        \"Kappa\": rf_metrics['mnist']['kappa'],\n",
        "        \"Train Time\": rf_metrics['mnist']['train_time'],\n",
        "        \"Pred Time\": rf_metrics['mnist']['pred_time']\n",
        "    },\n",
        "    {\n",
        "        \"Dataset\": \"Digits\",\n",
        "        \"Model\": \"Scikit-learn RF\",\n",
        "        \"Accuracy\": rf_metrics['digits']['accuracy'],\n",
        "        \"Precision\": rf_metrics['digits']['precision'],\n",
        "        \"Recall\": rf_metrics['digits']['recall'],\n",
        "        \"F1\": rf_metrics['digits']['f1'],\n",
        "        \"Kappa\": rf_metrics['digits']['kappa'],\n",
        "        \"Train Time\": rf_metrics['digits']['train_time'],\n",
        "        \"Pred Time\": rf_metrics['digits']['pred_time']\n",
        "    },\n",
        "    # CNN\n",
        "    {\n",
        "        \"Dataset\": \"MNIST\",\n",
        "        \"Model\": \"CNN\",\n",
        "        \"Accuracy\": cnn_metrics['mnist']['accuracy'],\n",
        "        \"Precision\": cnn_metrics['mnist']['precision'],\n",
        "        \"Recall\": cnn_metrics['mnist']['recall'],\n",
        "        \"F1\": cnn_metrics['mnist']['f1'],\n",
        "        \"Kappa\": cnn_metrics['mnist']['kappa'],\n",
        "        \"Train Time\": cnn_metrics['mnist']['train_time'],\n",
        "        \"Pred Time\": cnn_metrics['mnist']['pred_time']\n",
        "    },\n",
        "    {\n",
        "        \"Dataset\": \"Digits\",\n",
        "        \"Model\": \"CNN\",\n",
        "        \"Accuracy\": cnn_metrics['digits']['accuracy'],\n",
        "        \"Precision\": cnn_metrics['digits']['precision'],\n",
        "        \"Recall\": cnn_metrics['digits']['recall'],\n",
        "        \"F1\": cnn_metrics['digits']['f1'],\n",
        "        \"Kappa\": cnn_metrics['digits']['kappa'],\n",
        "        \"Train Time\": cnn_metrics['digits']['train_time'],\n",
        "        \"Pred Time\": cnn_metrics['digits']['pred_time']\n",
        "    },\n",
        "    # Scikit-learn KMeans\n",
        "    {\n",
        "        \"Dataset\": \"MNIST\",\n",
        "        \"Model\": \"Scikit-learn KMeans\",\n",
        "        \"Accuracy\": sklearn_kmeans_metrics['mnist']['accuracy'],\n",
        "        \"Precision\": sklearn_kmeans_metrics['mnist']['precision'],\n",
        "        \"Recall\": sklearn_kmeans_metrics['mnist']['recall'],\n",
        "        \"F1\": sklearn_kmeans_metrics['mnist']['f1'],\n",
        "        \"Kappa\": sklearn_kmeans_metrics['mnist']['kappa'],\n",
        "        \"Train Time\": sklearn_kmeans_metrics['mnist']['train_time'],\n",
        "        \"Pred Time\": sklearn_kmeans_metrics['mnist']['pred_time']\n",
        "    },\n",
        "    {\n",
        "        \"Dataset\": \"Digits\",\n",
        "        \"Model\": \"Scikit-learn KMeans\",\n",
        "        \"Accuracy\": sklearn_kmeans_metrics['digits']['accuracy'],\n",
        "        \"Precision\": sklearn_kmeans_metrics['digits']['precision'],\n",
        "        \"Recall\": sklearn_kmeans_metrics['digits']['recall'],\n",
        "        \"F1\": sklearn_kmeans_metrics['digits']['f1'],\n",
        "        \"Kappa\": sklearn_kmeans_metrics['digits']['kappa'],\n",
        "        \"Train Time\": sklearn_kmeans_metrics['digits']['train_time'],\n",
        "        \"Pred Time\": sklearn_kmeans_metrics['digits']['pred_time']\n",
        "    },\n",
        "    # Agglomerative Clustering\n",
        "    {\n",
        "        \"Dataset\": \"MNIST\",\n",
        "        \"Model\": \"Agglomerative\",\n",
        "        \"Accuracy\": agglo_metrics['mnist']['accuracy'],\n",
        "        \"Precision\": agglo_metrics['mnist']['precision'],\n",
        "        \"Recall\": agglo_metrics['mnist']['recall'],\n",
        "        \"F1\": agglo_metrics['mnist']['f1'],\n",
        "        \"Kappa\": agglo_metrics['mnist']['kappa'],\n",
        "        \"Train Time\": agglo_metrics['mnist']['train_time'],\n",
        "        \"Pred Time\": agglo_metrics['mnist']['pred_time']\n",
        "    },\n",
        "    {\n",
        "        \"Dataset\": \"Digits\",\n",
        "        \"Model\": \"Agglomerative\",\n",
        "        \"Accuracy\": agglo_metrics['digits']['accuracy'],\n",
        "        \"Precision\": agglo_metrics['digits']['precision'],\n",
        "        \"Recall\": agglo_metrics['digits']['recall'],\n",
        "        \"F1\": agglo_metrics['digits']['f1'],\n",
        "        \"Kappa\": agglo_metrics['digits']['kappa'],\n",
        "        \"Train Time\": agglo_metrics['digits']['train_time'],\n",
        "        \"Pred Time\": agglo_metrics['digits']['pred_time']\n",
        "    },\n",
        "    # Spark KMeans\n",
        "    {\n",
        "        \"Dataset\": \"MNIST\",\n",
        "        \"Model\": \"Spark KMeans\",\n",
        "        \"Accuracy\": spark_kmeans_metrics['mnist']['accuracy'],\n",
        "        \"Precision\": spark_kmeans_metrics['mnist']['precision'],\n",
        "        \"Recall\": spark_kmeans_metrics['mnist']['recall'],\n",
        "        \"F1\": spark_kmeans_metrics['mnist']['f1'],\n",
        "        \"Kappa\": spark_kmeans_metrics['mnist']['kappa'],\n",
        "        \"Train Time\": spark_kmeans_metrics['mnist']['train_time'],\n",
        "        \"Pred Time\": spark_kmeans_metrics['mnist']['pred_time']\n",
        "    },\n",
        "    {\n",
        "        \"Dataset\": \"Digits\",\n",
        "        \"Model\": \"Spark KMeans\",\n",
        "        \"Accuracy\": spark_kmeans_metrics['digits']['accuracy'],\n",
        "        \"Precision\": spark_kmeans_metrics['digits']['precision'],\n",
        "        \"Recall\": spark_kmeans_metrics['digits']['recall'],\n",
        "        \"F1\": spark_kmeans_metrics['digits']['f1'],\n",
        "        \"Kappa\": spark_kmeans_metrics['digits']['kappa'],\n",
        "        \"Train Time\": spark_kmeans_metrics['digits']['train_time'],\n",
        "        \"Pred Time\": spark_kmeans_metrics['digits']['pred_time']\n",
        "    }\n",
        "]\n",
        "\n",
        "# Create DataFrame\n",
        "df = pd.DataFrame(data)\n",
        "print(df)"
      ]
    },
    {
      "cell_type": "markdown",
      "id": "ee76698e",
      "metadata": {
        "papermill": {
          "duration": 0.272569,
          "end_time": "2025-03-22T18:17:41.808672",
          "exception": false,
          "start_time": "2025-03-22T18:17:41.536103",
          "status": "completed"
        },
        "tags": [],
        "id": "ee76698e"
      },
      "source": [
        "# Result Visualization"
      ]
    },
    {
      "cell_type": "markdown",
      "source": [
        "**Comparing the accuracy of the models**"
      ],
      "metadata": {
        "id": "-Kln9Ee0ayZN"
      },
      "id": "-Kln9Ee0ayZN"
    },
    {
      "cell_type": "code",
      "execution_count": null,
      "id": "8d9b0588",
      "metadata": {
        "execution": {
          "iopub.execute_input": "2025-03-22T18:17:42.365668Z",
          "iopub.status.busy": "2025-03-22T18:17:42.365155Z",
          "iopub.status.idle": "2025-03-22T18:17:42.704163Z",
          "shell.execute_reply": "2025-03-22T18:17:42.703028Z"
        },
        "papermill": {
          "duration": 0.622517,
          "end_time": "2025-03-22T18:17:42.705975",
          "exception": false,
          "start_time": "2025-03-22T18:17:42.083458",
          "status": "completed"
        },
        "tags": [],
        "id": "8d9b0588",
        "outputId": "96b1b52d-3a01-4204-c197-8fdf1760532f"
      },
      "outputs": [
        {
          "data": {
            "image/png": "[encoded data removed]",
            "text/plain": [
              "<Figure size 1200x600 with 1 Axes>"
            ]
          },
          "metadata": {},
          "output_type": "display_data"
        }
      ],
      "source": [
        "# Set up the plot\n",
        "plt.figure(figsize=(12, 6))\n",
        "sns.barplot(x='Model', y='Accuracy', hue='Dataset', data=df, palette='viridis')\n",
        "\n",
        "# Add labels and title\n",
        "plt.title('Accuracy Comparison of Models', fontsize=16)\n",
        "plt.xlabel('Model', fontsize=14)\n",
        "plt.ylabel('Accuracy', fontsize=14)\n",
        "plt.xticks(rotation=45, fontsize=12)\n",
        "plt.legend(title='Dataset', fontsize=12)\n",
        "\n",
        "# Show plot\n",
        "plt.tight_layout()\n",
        "plt.show()"
      ]
    },
    {
      "cell_type": "markdown",
      "source": [
        "**Comparing the training time of models on both datasets**"
      ],
      "metadata": {
        "id": "CVDIVxjHaqKJ"
      },
      "id": "CVDIVxjHaqKJ"
    },
    {
      "cell_type": "code",
      "execution_count": null,
      "id": "c3fbf7e5",
      "metadata": {
        "execution": {
          "iopub.execute_input": "2025-03-22T18:17:43.350109Z",
          "iopub.status.busy": "2025-03-22T18:17:43.349669Z",
          "iopub.status.idle": "2025-03-22T18:17:43.688452Z",
          "shell.execute_reply": "2025-03-22T18:17:43.687332Z"
        },
        "papermill": {
          "duration": 0.63006,
          "end_time": "2025-03-22T18:17:43.690255",
          "exception": false,
          "start_time": "2025-03-22T18:17:43.060195",
          "status": "completed"
        },
        "tags": [],
        "id": "c3fbf7e5",
        "outputId": "275aa34d-f01f-42ed-c1eb-e0ba8e5126df"
      },
      "outputs": [
        {
          "data": {
            "image/png": "[encoded data removed]",
            "text/plain": [
              "<Figure size 1200x600 with 1 Axes>"
            ]
          },
          "metadata": {},
          "output_type": "display_data"
        }
      ],
      "source": [
        "# Set up the plot\n",
        "plt.figure(figsize=(12, 6))\n",
        "sns.barplot(x='Model', y='Train Time', hue='Dataset', data=df, palette='magma')\n",
        "\n",
        "# Add labels and title\n",
        "plt.title('Training Time Comparison of Models', fontsize=16)\n",
        "plt.xlabel('Model', fontsize=14)\n",
        "plt.ylabel('Training Time (seconds)', fontsize=14)\n",
        "plt.xticks(rotation=45, fontsize=12)\n",
        "plt.legend(title='Dataset', fontsize=12)\n",
        "\n",
        "# Show plot\n",
        "plt.tight_layout()\n",
        "plt.show()"
      ]
    },
    {
      "cell_type": "markdown",
      "source": [
        "**Confusion matrix of the best and worst models**"
      ],
      "metadata": {
        "id": "5S-Vb2C3aj_W"
      },
      "id": "5S-Vb2C3aj_W"
    },
    {
      "cell_type": "code",
      "execution_count": null,
      "id": "0f685847",
      "metadata": {
        "execution": {
          "iopub.execute_input": "2025-03-22T18:17:44.249322Z",
          "iopub.status.busy": "2025-03-22T18:17:44.248770Z",
          "iopub.status.idle": "2025-03-22T18:17:47.225266Z",
          "shell.execute_reply": "2025-03-22T18:17:47.223823Z"
        },
        "papermill": {
          "duration": 3.259721,
          "end_time": "2025-03-22T18:17:47.227949",
          "exception": false,
          "start_time": "2025-03-22T18:17:43.968228",
          "status": "completed"
        },
        "tags": [],
        "id": "0f685847",
        "outputId": "3eed02e0-978e-46c7-bba1-09b08e3bd058"
      },
      "outputs": [
        {
          "data": {
            "image/png": "[encoded data removed]",
            "text/plain": [
              "<Figure size 1600x1400 with 8 Axes>"
            ]
          },
          "metadata": {},
          "output_type": "display_data"
        }
      ],
      "source": [
        "# Set up the figure and axes\n",
        "fig, axes = plt.subplots(2, 2, figsize=(16, 14))\n",
        "fig.suptitle('Confusion Matrices for CNN and Spark K-means Models', fontsize=16)\n",
        "\n",
        "# Plot CNN for Digits\n",
        "sns.heatmap(cm_digits_cnn, annot=True, fmt='d', cmap='Blues', ax=axes[0, 0])\n",
        "axes[0, 0].set_title('CNN for Digits', fontsize=14)\n",
        "axes[0, 0].set_xlabel('Predicted Label', fontsize=12)\n",
        "axes[0, 0].set_ylabel('True Label', fontsize=12)\n",
        "\n",
        "# Plot CNN for MNIST\n",
        "sns.heatmap(cm_mnist_cnn, annot=True, fmt='d', cmap='Blues', ax=axes[0, 1])\n",
        "axes[0, 1].set_title('CNN for MNIST', fontsize=14)\n",
        "axes[0, 1].set_xlabel('Predicted Label', fontsize=12)\n",
        "axes[0, 1].set_ylabel('True Label', fontsize=12)\n",
        "\n",
        "# Plot Spark K-means for Digits\n",
        "sns.heatmap(cm_digits_spark, annot=True, fmt='d', cmap='Greens', ax=axes[1, 0])\n",
        "axes[1, 0].set_title('Spark K-means for Digits', fontsize=14)\n",
        "axes[1, 0].set_xlabel('Predicted Label', fontsize=12)\n",
        "axes[1, 0].set_ylabel('True Label', fontsize=12)\n",
        "\n",
        "# Plot Spark K-means for MNIST\n",
        "sns.heatmap(cm_mnist_spark, annot=True, fmt='d', cmap='Greens', ax=axes[1, 1])\n",
        "axes[1, 1].set_title('Spark K-means for MNIST', fontsize=14)\n",
        "axes[1, 1].set_xlabel('Predicted Label', fontsize=12)\n",
        "axes[1, 1].set_ylabel('True Label', fontsize=12)\n",
        "\n",
        "# Adjust layout\n",
        "plt.tight_layout()\n",
        "plt.show()"
      ]
    },
    {
      "cell_type": "markdown",
      "source": [
        "**Overall Metric Visualization**"
      ],
      "metadata": {
        "id": "hjOZIwTbbAb1"
      },
      "id": "hjOZIwTbbAb1"
    },
    {
      "cell_type": "code",
      "execution_count": null,
      "id": "203795e0",
      "metadata": {
        "execution": {
          "iopub.execute_input": "2025-03-22T18:17:47.788294Z",
          "iopub.status.busy": "2025-03-22T18:17:47.787827Z",
          "iopub.status.idle": "2025-03-22T18:17:49.023835Z",
          "shell.execute_reply": "2025-03-22T18:17:49.022469Z"
        },
        "papermill": {
          "duration": 1.518498,
          "end_time": "2025-03-22T18:17:49.026010",
          "exception": false,
          "start_time": "2025-03-22T18:17:47.507512",
          "status": "completed"
        },
        "tags": [],
        "id": "203795e0",
        "outputId": "ef9dfdbb-1725-4865-e1b7-fd7f2cc45d5b"
      },
      "outputs": [
        {
          "data": {
            "image/png": "[encoded data removed]",
            "text/plain": [
              "<Figure size 1800x1200 with 4 Axes>"
            ]
          },
          "metadata": {},
          "output_type": "display_data"
        }
      ],
      "source": [
        "# Set up the figure\n",
        "fig, axes = plt.subplots(2, 2, figsize=(18, 12))\n",
        "\n",
        "# Plot accuracy\n",
        "sns.barplot(ax=axes[0, 0], x='Model', y='Accuracy', hue='Dataset', data=df, palette='viridis')\n",
        "axes[0, 0].set_title('Accuracy Comparison', fontsize=14)\n",
        "axes[0, 0].set_xticklabels(axes[0, 0].get_xticklabels(), rotation=45)\n",
        "\n",
        "# Plot F1 score\n",
        "sns.barplot(ax=axes[0, 1], x='Model', y='F1', hue='Dataset', data=df, palette='coolwarm')\n",
        "axes[0, 1].set_title('F1 Score Comparison', fontsize=14)\n",
        "axes[0, 1].set_xticklabels(axes[0, 1].get_xticklabels(), rotation=45)\n",
        "\n",
        "# Plot training time\n",
        "sns.barplot(ax=axes[1, 0], x='Model', y='Train Time', hue='Dataset', data=df, palette='magma')\n",
        "axes[1, 0].set_title('Training Time Comparison', fontsize=14)\n",
        "axes[1, 0].set_xticklabels(axes[1, 0].get_xticklabels(), rotation=45)\n",
        "\n",
        "# Plot prediction time\n",
        "sns.barplot(ax=axes[1, 1], x='Model', y='Pred Time', hue='Dataset', data=df, palette='plasma')\n",
        "axes[1, 1].set_title('Prediction Time Comparison', fontsize=14)\n",
        "axes[1, 1].set_xticklabels(axes[1, 1].get_xticklabels(), rotation=45)\n",
        "\n",
        "# Adjust layout\n",
        "plt.tight_layout()\n",
        "plt.show()"
      ]
    },
    {
      "cell_type": "markdown",
      "source": [
        "# Consolidated Report: Classification & Clustering on MNIST and Digits\n",
        "\n",
        "---\n",
        "\n",
        "## **Week-by-Week Summary**\n",
        "\n",
        "### **Week 1: Classification (RF vs Logistic Regression)**\n",
        "- **Key Models**: Scikit-learn Random Forest (RF) vs PySpark Logistic Regression (LR).  \n",
        "- **Results**:  \n",
        "  - **RF**: Dominated with **97.05%** (MNIST) and **97.04%** (Digits) accuracy.  \n",
        "  - **LR**: Lagged behind at **91.81%** (MNIST) and **95.56%** (Digits).  \n",
        "- **Takeaway**: RF outperformed LR in accuracy and speed, highlighting its robustness for image classification.\n",
        "\n",
        "---\n",
        "\n",
        "### **Week 2: CNN & Pretrained Models**\n",
        "- **Key Models**: Custom CNN vs Pretrained CNN.  \n",
        "- **Results**:  \n",
        "  - **Custom CNN**: Achieved **99.04%** (MNIST) and **98.52%** (Digits) accuracy.  \n",
        "  - **Pretrained CNN**: Slightly better at **99.59%** (MNIST) with no training time.  \n",
        "- **Takeaway**: Pretrained models use optimized architectures and prior training, reducing overfitting and improving generalization.\n",
        "\n",
        "---\n",
        "\n",
        "### **Week 3: Clustering (K-Means vs Agglomerative)**\n",
        "- **Key Models**: Scikit-learn K-Means, Agglomerative, and PySpark K-Means.  \n",
        "- **Results**:  \n",
        "  - **K-Means**: Struggled on MNIST (**51.72%**) but better on Digits (**81.11%**).  \n",
        "  - **Agglomerative**: Moderate performance (**69.48%** MNIST, **74.44%** Digits).  \n",
        "- **Takeaway**: Clustering methods lagged significantly, underscoring their unsuitability for supervised tasks.\n",
        "\n",
        "---\n",
        "\n",
        "## **Overall Results & Insights**\n",
        "\n",
        "### **Model Performance**\n",
        "- **Top Performers**:  \n",
        "  - **CNN**: Achieved near-perfect accuracy (**99.04% MNIST**, **98.52% Digits**) by capturing spatial hierarchies in images.  \n",
        "  - **Random Forest**: A strong alternative (**97%+ accuracy**) with faster training, ideal for resource-constrained setups.  \n",
        "  - **Pretrained CNN**: Edged out custom CNN (**99.59% MNIST**) due to architectural optimizations and prior knowledge from larger datasets.  \n",
        "\n",
        "- **Clustering vs Classification**:  \n",
        "  - **Clustering** (K-Means, Agglomerative) performed poorly on MNIST (**<70% accuracy**) due to:  \n",
        "    - Lack of supervision to align clusters with true labels.  \n",
        "    - Assumptions like spherical clusters conflicting with image data structure.  \n",
        "  - **Classification** thrived by leveraging labeled data to learn discriminative features.  \n",
        "\n",
        "### **How Pretrained CNN Outperformed Our CNN**\n",
        "1. **Architectural Depth**: Pretrained models use advanced layers (e.g., dropout, batch normalization) to prevent overfitting.  \n",
        "2. **Transfer Learning**: Features learned from diverse datasets (e.g., ImageNet) generalize better, even on simpler datasets like MNIST.  \n",
        "\n",
        "### **Practical Trade-offs**\n",
        "- **Speed vs Accuracy**:  \n",
        "  - RF trained in **~45s** vs CNN’s **~327s** (MNIST), making RF preferable for quick iterations.  \n",
        "  - CNN’s **~2s prediction time** vs RF’s **~0.5s** highlights scalability challenges for real-time applications.    "
      ],
      "metadata": {
        "id": "BYqpzHycY1ca"
      },
      "id": "BYqpzHycY1ca"
    }
  ],
  "metadata": {
    "colab": {
      "provenance": [],
      "toc_visible": true
    },
    "kaggle": {
      "accelerator": "none",
      "dataSources": [
        {
          "isSourceIdPinned": false,
          "modelId": 92496,
          "modelInstanceId": 67433,
          "sourceId": 80228,
          "sourceType": "modelInstanceVersion"
        }
      ],
      "dockerImageVersionId": 30918,
      "isGpuEnabled": false,
      "isInternetEnabled": true,
      "language": "python",
      "sourceType": "notebook"
    },
    "kernelspec": {
      "display_name": "Python 3",
      "language": "python",
      "name": "python3"
    },
    "language_info": {
      "codemirror_mode": {
        "name": "ipython",
        "version": 3
      },
      "file_extension": ".py",
      "mimetype": "text/x-python",
      "name": "python",
      "nbconvert_exporter": "python",
      "pygments_lexer": "ipython3",
      "version": "3.10.12"
    },
    "papermill": {
      "default_parameters": {},
      "duration": 5869.084966,
      "end_time": "2025-03-22T18:17:52.219627",
      "environment_variables": {},
      "exception": null,
      "input_path": "__notebook__.ipynb",
      "output_path": "__notebook__.ipynb",
      "parameters": {},
      "start_time": "2025-03-22T16:40:03.134661",
      "version": "2.6.0"
    }
  },
  "nbformat": 4,
  "nbformat_minor": 5
}